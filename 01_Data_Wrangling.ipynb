{
 "cells": [
  {
   "cell_type": "markdown",
   "id": "314e9d26",
   "metadata": {},
   "source": [
    "## MovieLens 20M Dataset Recommender System - 01_Data Wrangling"
   ]
  },
  {
   "cell_type": "markdown",
   "id": "ed700d05",
   "metadata": {},
   "source": [
    "This dataset describes 5-star rating and free-text tagging activity from [MovieLens](http://movielens.org), a movie recommendation service. These data were created by users between January 09, 1995 and March 31, 2015. This dataset was generated on March 31, 2015, and updated on October 17, 2016 to update links.csv and add genome-* files. \n",
    "\n",
    "Users were selected at random for inclusion. All selected users had rated at least 20 movies. No demographic information is included. Each user is represented by an id, and no other information is provided,\n",
    "\n",
    "The data are contained in six files, 'genome-scores.csv', 'genome-tags.csv', 'links.csv', 'movies.csv', 'ratings.csv' and 'tags.csv'.\n",
    "\n",
    "We would like to use it to build a model of recommender systems.\n",
    "\n",
    "This is the first part of the study: Data Wrangling."
   ]
  },
  {
   "cell_type": "markdown",
   "id": "3bd60e2f",
   "metadata": {},
   "source": [
    "### Content"
   ]
  },
  {
   "cell_type": "markdown",
   "id": "a7218ad5",
   "metadata": {},
   "source": [
    "### 1. Import Modules and Read Data Files"
   ]
  },
  {
   "cell_type": "markdown",
   "id": "847b4709",
   "metadata": {},
   "source": [
    "#### 1.1 Import  Necessary Modules"
   ]
  },
  {
   "cell_type": "code",
   "execution_count": 71,
   "id": "cc166f70",
   "metadata": {},
   "outputs": [],
   "source": [
    "import pandas as pd\n",
    "import numpy as np"
   ]
  },
  {
   "cell_type": "markdown",
   "id": "0b898dd3",
   "metadata": {},
   "source": [
    "#### 1.2 Read Movie File"
   ]
  },
  {
   "cell_type": "code",
   "execution_count": 72,
   "id": "d3ebf802",
   "metadata": {},
   "outputs": [],
   "source": [
    "# First, read the movie file.\n",
    "movies = pd.read_csv('./ml-20m/movies.csv')"
   ]
  },
  {
   "cell_type": "code",
   "execution_count": 73,
   "id": "6e86f69a",
   "metadata": {},
   "outputs": [
    {
     "data": {
      "text/html": [
       "<div>\n",
       "<style scoped>\n",
       "    .dataframe tbody tr th:only-of-type {\n",
       "        vertical-align: middle;\n",
       "    }\n",
       "\n",
       "    .dataframe tbody tr th {\n",
       "        vertical-align: top;\n",
       "    }\n",
       "\n",
       "    .dataframe thead th {\n",
       "        text-align: right;\n",
       "    }\n",
       "</style>\n",
       "<table border=\"1\" class=\"dataframe\">\n",
       "  <thead>\n",
       "    <tr style=\"text-align: right;\">\n",
       "      <th></th>\n",
       "      <th>movieId</th>\n",
       "      <th>title</th>\n",
       "      <th>genres</th>\n",
       "    </tr>\n",
       "  </thead>\n",
       "  <tbody>\n",
       "    <tr>\n",
       "      <th>0</th>\n",
       "      <td>1</td>\n",
       "      <td>Toy Story (1995)</td>\n",
       "      <td>Adventure|Animation|Children|Comedy|Fantasy</td>\n",
       "    </tr>\n",
       "    <tr>\n",
       "      <th>1</th>\n",
       "      <td>2</td>\n",
       "      <td>Jumanji (1995)</td>\n",
       "      <td>Adventure|Children|Fantasy</td>\n",
       "    </tr>\n",
       "    <tr>\n",
       "      <th>2</th>\n",
       "      <td>3</td>\n",
       "      <td>Grumpier Old Men (1995)</td>\n",
       "      <td>Comedy|Romance</td>\n",
       "    </tr>\n",
       "    <tr>\n",
       "      <th>3</th>\n",
       "      <td>4</td>\n",
       "      <td>Waiting to Exhale (1995)</td>\n",
       "      <td>Comedy|Drama|Romance</td>\n",
       "    </tr>\n",
       "    <tr>\n",
       "      <th>4</th>\n",
       "      <td>5</td>\n",
       "      <td>Father of the Bride Part II (1995)</td>\n",
       "      <td>Comedy</td>\n",
       "    </tr>\n",
       "  </tbody>\n",
       "</table>\n",
       "</div>"
      ],
      "text/plain": [
       "   movieId                               title  \\\n",
       "0        1                    Toy Story (1995)   \n",
       "1        2                      Jumanji (1995)   \n",
       "2        3             Grumpier Old Men (1995)   \n",
       "3        4            Waiting to Exhale (1995)   \n",
       "4        5  Father of the Bride Part II (1995)   \n",
       "\n",
       "                                        genres  \n",
       "0  Adventure|Animation|Children|Comedy|Fantasy  \n",
       "1                   Adventure|Children|Fantasy  \n",
       "2                               Comedy|Romance  \n",
       "3                         Comedy|Drama|Romance  \n",
       "4                                       Comedy  "
      ]
     },
     "execution_count": 73,
     "metadata": {},
     "output_type": "execute_result"
    }
   ],
   "source": [
    "# look at the first few rows of the movie file.\n",
    "movies.head()"
   ]
  },
  {
   "cell_type": "code",
   "execution_count": 74,
   "id": "3cf28204",
   "metadata": {},
   "outputs": [
    {
     "data": {
      "text/plain": [
       "(27278, 3)"
      ]
     },
     "execution_count": 74,
     "metadata": {},
     "output_type": "execute_result"
    }
   ],
   "source": [
    "# look at the size of the movie file.\n",
    "movies.shape"
   ]
  },
  {
   "cell_type": "code",
   "execution_count": 75,
   "id": "7535ea81",
   "metadata": {},
   "outputs": [
    {
     "data": {
      "text/plain": [
       "27278"
      ]
     },
     "execution_count": 75,
     "metadata": {},
     "output_type": "execute_result"
    }
   ],
   "source": [
    "# see if every movie is unique.\n",
    "movies.movieId.nunique()"
   ]
  },
  {
   "cell_type": "markdown",
   "id": "f21b8f1e",
   "metadata": {},
   "source": [
    "We can see that every row is one movie and they are all unique in the movie file.\n",
    "Let's then read the rating file."
   ]
  },
  {
   "cell_type": "markdown",
   "id": "f38cc795",
   "metadata": {},
   "source": [
    "#### 1.3 Read Rating File"
   ]
  },
  {
   "cell_type": "code",
   "execution_count": 76,
   "id": "18d6410a",
   "metadata": {},
   "outputs": [],
   "source": [
    "# read the rating file.\n",
    "ratings = pd.read_csv('./ml-20m/ratings.csv')"
   ]
  },
  {
   "cell_type": "code",
   "execution_count": 77,
   "id": "201cec2c",
   "metadata": {},
   "outputs": [
    {
     "data": {
      "text/html": [
       "<div>\n",
       "<style scoped>\n",
       "    .dataframe tbody tr th:only-of-type {\n",
       "        vertical-align: middle;\n",
       "    }\n",
       "\n",
       "    .dataframe tbody tr th {\n",
       "        vertical-align: top;\n",
       "    }\n",
       "\n",
       "    .dataframe thead th {\n",
       "        text-align: right;\n",
       "    }\n",
       "</style>\n",
       "<table border=\"1\" class=\"dataframe\">\n",
       "  <thead>\n",
       "    <tr style=\"text-align: right;\">\n",
       "      <th></th>\n",
       "      <th>userId</th>\n",
       "      <th>movieId</th>\n",
       "      <th>rating</th>\n",
       "      <th>timestamp</th>\n",
       "    </tr>\n",
       "  </thead>\n",
       "  <tbody>\n",
       "    <tr>\n",
       "      <th>0</th>\n",
       "      <td>1</td>\n",
       "      <td>2</td>\n",
       "      <td>3.5</td>\n",
       "      <td>1112486027</td>\n",
       "    </tr>\n",
       "    <tr>\n",
       "      <th>1</th>\n",
       "      <td>1</td>\n",
       "      <td>29</td>\n",
       "      <td>3.5</td>\n",
       "      <td>1112484676</td>\n",
       "    </tr>\n",
       "    <tr>\n",
       "      <th>2</th>\n",
       "      <td>1</td>\n",
       "      <td>32</td>\n",
       "      <td>3.5</td>\n",
       "      <td>1112484819</td>\n",
       "    </tr>\n",
       "    <tr>\n",
       "      <th>3</th>\n",
       "      <td>1</td>\n",
       "      <td>47</td>\n",
       "      <td>3.5</td>\n",
       "      <td>1112484727</td>\n",
       "    </tr>\n",
       "    <tr>\n",
       "      <th>4</th>\n",
       "      <td>1</td>\n",
       "      <td>50</td>\n",
       "      <td>3.5</td>\n",
       "      <td>1112484580</td>\n",
       "    </tr>\n",
       "  </tbody>\n",
       "</table>\n",
       "</div>"
      ],
      "text/plain": [
       "   userId  movieId  rating   timestamp\n",
       "0       1        2     3.5  1112486027\n",
       "1       1       29     3.5  1112484676\n",
       "2       1       32     3.5  1112484819\n",
       "3       1       47     3.5  1112484727\n",
       "4       1       50     3.5  1112484580"
      ]
     },
     "execution_count": 77,
     "metadata": {},
     "output_type": "execute_result"
    }
   ],
   "source": [
    "# look at first few rows in the rating file.\n",
    "ratings.head()"
   ]
  },
  {
   "cell_type": "code",
   "execution_count": 78,
   "id": "c4d11604",
   "metadata": {},
   "outputs": [],
   "source": [
    "# column 'timestamp' is not necessary to our model. So let's drop it.\n",
    "ratings = ratings.drop(columns=['timestamp'])"
   ]
  },
  {
   "cell_type": "code",
   "execution_count": 79,
   "id": "c18eadf3",
   "metadata": {},
   "outputs": [
    {
     "data": {
      "text/plain": [
       "userId     0\n",
       "movieId    0\n",
       "rating     0\n",
       "dtype: int64"
      ]
     },
     "execution_count": 79,
     "metadata": {},
     "output_type": "execute_result"
    }
   ],
   "source": [
    "# see if there is missing values in the rating file.\n",
    "ratings.isna().sum()"
   ]
  },
  {
   "cell_type": "markdown",
   "id": "58a78bf9",
   "metadata": {},
   "source": [
    "It shows that there is no missing values in the rating file."
   ]
  },
  {
   "cell_type": "code",
   "execution_count": 80,
   "id": "2a1a6895",
   "metadata": {},
   "outputs": [
    {
     "data": {
      "text/plain": [
       "(20000263, 3)"
      ]
     },
     "execution_count": 80,
     "metadata": {},
     "output_type": "execute_result"
    }
   ],
   "source": [
    "# look at the size of the rating file. \n",
    "ratings.shape"
   ]
  },
  {
   "cell_type": "markdown",
   "id": "93da903d",
   "metadata": {},
   "source": [
    "Next we want to build a model to predict users' rating. The steps are: 1. select a data with suitable size; 2. Split the data into train and test set; 3. Apply several algorithms and compare the performance. In this Notebook we will only work on the first part, which is to create a dataset with the right size. Considering the capacity for a personal computer, we think the size of 100,000 rows is good for this study. "
   ]
  },
  {
   "cell_type": "code",
   "execution_count": 81,
   "id": "63f0ea5b",
   "metadata": {},
   "outputs": [
    {
     "data": {
      "text/plain": [
       "138493"
      ]
     },
     "execution_count": 81,
     "metadata": {},
     "output_type": "execute_result"
    }
   ],
   "source": [
    "# look at how many people who give movie ratings.\n",
    "ratings['userId'].nunique()"
   ]
  },
  {
   "cell_type": "code",
   "execution_count": 82,
   "id": "cb800bae",
   "metadata": {},
   "outputs": [
    {
     "data": {
      "text/plain": [
       "26744"
      ]
     },
     "execution_count": 82,
     "metadata": {},
     "output_type": "execute_result"
    }
   ],
   "source": [
    "# look at how many movies in the rating file. \n",
    "ratings['movieId'].nunique()"
   ]
  },
  {
   "cell_type": "markdown",
   "id": "ffee8584",
   "metadata": {},
   "source": [
    "There are 138,493 users and 26744 movies in the rating file. "
   ]
  },
  {
   "cell_type": "markdown",
   "id": "87d3edf5",
   "metadata": {},
   "source": [
    "#### 1.4 Read Tag File"
   ]
  },
  {
   "cell_type": "code",
   "execution_count": 83,
   "id": "dc7a18c5",
   "metadata": {},
   "outputs": [],
   "source": [
    "tags = pd.read_csv('./ml-20m/tags.csv')"
   ]
  },
  {
   "cell_type": "code",
   "execution_count": 84,
   "id": "bb8fb6d2",
   "metadata": {},
   "outputs": [
    {
     "data": {
      "text/html": [
       "<div>\n",
       "<style scoped>\n",
       "    .dataframe tbody tr th:only-of-type {\n",
       "        vertical-align: middle;\n",
       "    }\n",
       "\n",
       "    .dataframe tbody tr th {\n",
       "        vertical-align: top;\n",
       "    }\n",
       "\n",
       "    .dataframe thead th {\n",
       "        text-align: right;\n",
       "    }\n",
       "</style>\n",
       "<table border=\"1\" class=\"dataframe\">\n",
       "  <thead>\n",
       "    <tr style=\"text-align: right;\">\n",
       "      <th></th>\n",
       "      <th>userId</th>\n",
       "      <th>movieId</th>\n",
       "      <th>tag</th>\n",
       "      <th>timestamp</th>\n",
       "    </tr>\n",
       "  </thead>\n",
       "  <tbody>\n",
       "    <tr>\n",
       "      <th>0</th>\n",
       "      <td>18</td>\n",
       "      <td>4141</td>\n",
       "      <td>Mark Waters</td>\n",
       "      <td>1240597180</td>\n",
       "    </tr>\n",
       "    <tr>\n",
       "      <th>1</th>\n",
       "      <td>65</td>\n",
       "      <td>208</td>\n",
       "      <td>dark hero</td>\n",
       "      <td>1368150078</td>\n",
       "    </tr>\n",
       "    <tr>\n",
       "      <th>2</th>\n",
       "      <td>65</td>\n",
       "      <td>353</td>\n",
       "      <td>dark hero</td>\n",
       "      <td>1368150079</td>\n",
       "    </tr>\n",
       "    <tr>\n",
       "      <th>3</th>\n",
       "      <td>65</td>\n",
       "      <td>521</td>\n",
       "      <td>noir thriller</td>\n",
       "      <td>1368149983</td>\n",
       "    </tr>\n",
       "    <tr>\n",
       "      <th>4</th>\n",
       "      <td>65</td>\n",
       "      <td>592</td>\n",
       "      <td>dark hero</td>\n",
       "      <td>1368150078</td>\n",
       "    </tr>\n",
       "  </tbody>\n",
       "</table>\n",
       "</div>"
      ],
      "text/plain": [
       "   userId  movieId            tag   timestamp\n",
       "0      18     4141    Mark Waters  1240597180\n",
       "1      65      208      dark hero  1368150078\n",
       "2      65      353      dark hero  1368150079\n",
       "3      65      521  noir thriller  1368149983\n",
       "4      65      592      dark hero  1368150078"
      ]
     },
     "execution_count": 84,
     "metadata": {},
     "output_type": "execute_result"
    }
   ],
   "source": [
    "# show the first few rows\n",
    "tags.head()"
   ]
  },
  {
   "cell_type": "code",
   "execution_count": 85,
   "id": "dd09694e",
   "metadata": {},
   "outputs": [
    {
     "data": {
      "text/plain": [
       "sci-fi             3384\n",
       "based on a book    3281\n",
       "atmospheric        2917\n",
       "comedy             2779\n",
       "action             2657\n",
       "surreal            2427\n",
       "BD-R               2334\n",
       "twist ending       2323\n",
       "funny              2072\n",
       "dystopia           1991\n",
       "Name: tag, dtype: int64"
      ]
     },
     "execution_count": 85,
     "metadata": {},
     "output_type": "execute_result"
    }
   ],
   "source": [
    "# show the top 10 tag values\n",
    "tags.tag.value_counts().head(10)"
   ]
  },
  {
   "cell_type": "code",
   "execution_count": 86,
   "id": "bba2a6b5",
   "metadata": {},
   "outputs": [
    {
     "data": {
      "text/plain": [
       "(465564, 4)"
      ]
     },
     "execution_count": 86,
     "metadata": {},
     "output_type": "execute_result"
    }
   ],
   "source": [
    "# show the tag file size\n",
    "tags.shape"
   ]
  },
  {
   "cell_type": "code",
   "execution_count": 87,
   "id": "8cba1294",
   "metadata": {},
   "outputs": [
    {
     "data": {
      "text/plain": [
       "7801"
      ]
     },
     "execution_count": 87,
     "metadata": {},
     "output_type": "execute_result"
    }
   ],
   "source": [
    "# show how many users give tags\n",
    "tags['userId'].nunique()"
   ]
  },
  {
   "cell_type": "code",
   "execution_count": 88,
   "id": "c02df046",
   "metadata": {},
   "outputs": [
    {
     "data": {
      "text/plain": [
       "19545"
      ]
     },
     "execution_count": 88,
     "metadata": {},
     "output_type": "execute_result"
    }
   ],
   "source": [
    "#show how many movies have tags\n",
    "tags['movieId'].nunique()"
   ]
  },
  {
   "cell_type": "markdown",
   "id": "0ac2908a",
   "metadata": {},
   "source": [
    "#### 1.5 Read Genome Score File, Genome Tag File, and Links File"
   ]
  },
  {
   "cell_type": "code",
   "execution_count": 89,
   "id": "2889e83d",
   "metadata": {},
   "outputs": [],
   "source": [
    "genome_scores = pd.read_csv('./ml-20m/genome-scores.csv')"
   ]
  },
  {
   "cell_type": "code",
   "execution_count": 90,
   "id": "992a8459",
   "metadata": {},
   "outputs": [],
   "source": [
    "genome_tags = pd.read_csv('./ml-20m/genome-tags.csv')"
   ]
  },
  {
   "cell_type": "code",
   "execution_count": 91,
   "id": "b227a018",
   "metadata": {},
   "outputs": [],
   "source": [
    "links = pd.read_csv('./ml-20m/links.csv')"
   ]
  },
  {
   "cell_type": "code",
   "execution_count": 92,
   "id": "f22a6b7d",
   "metadata": {},
   "outputs": [
    {
     "data": {
      "text/html": [
       "<div>\n",
       "<style scoped>\n",
       "    .dataframe tbody tr th:only-of-type {\n",
       "        vertical-align: middle;\n",
       "    }\n",
       "\n",
       "    .dataframe tbody tr th {\n",
       "        vertical-align: top;\n",
       "    }\n",
       "\n",
       "    .dataframe thead th {\n",
       "        text-align: right;\n",
       "    }\n",
       "</style>\n",
       "<table border=\"1\" class=\"dataframe\">\n",
       "  <thead>\n",
       "    <tr style=\"text-align: right;\">\n",
       "      <th></th>\n",
       "      <th>movieId</th>\n",
       "      <th>tagId</th>\n",
       "      <th>relevance</th>\n",
       "    </tr>\n",
       "  </thead>\n",
       "  <tbody>\n",
       "    <tr>\n",
       "      <th>0</th>\n",
       "      <td>1</td>\n",
       "      <td>1</td>\n",
       "      <td>0.02500</td>\n",
       "    </tr>\n",
       "    <tr>\n",
       "      <th>1</th>\n",
       "      <td>1</td>\n",
       "      <td>2</td>\n",
       "      <td>0.02500</td>\n",
       "    </tr>\n",
       "    <tr>\n",
       "      <th>2</th>\n",
       "      <td>1</td>\n",
       "      <td>3</td>\n",
       "      <td>0.05775</td>\n",
       "    </tr>\n",
       "    <tr>\n",
       "      <th>3</th>\n",
       "      <td>1</td>\n",
       "      <td>4</td>\n",
       "      <td>0.09675</td>\n",
       "    </tr>\n",
       "    <tr>\n",
       "      <th>4</th>\n",
       "      <td>1</td>\n",
       "      <td>5</td>\n",
       "      <td>0.14675</td>\n",
       "    </tr>\n",
       "  </tbody>\n",
       "</table>\n",
       "</div>"
      ],
      "text/plain": [
       "   movieId  tagId  relevance\n",
       "0        1      1    0.02500\n",
       "1        1      2    0.02500\n",
       "2        1      3    0.05775\n",
       "3        1      4    0.09675\n",
       "4        1      5    0.14675"
      ]
     },
     "execution_count": 92,
     "metadata": {},
     "output_type": "execute_result"
    }
   ],
   "source": [
    "genome_scores.head()"
   ]
  },
  {
   "cell_type": "code",
   "execution_count": 93,
   "id": "51b1bfdc",
   "metadata": {},
   "outputs": [
    {
     "data": {
      "text/html": [
       "<div>\n",
       "<style scoped>\n",
       "    .dataframe tbody tr th:only-of-type {\n",
       "        vertical-align: middle;\n",
       "    }\n",
       "\n",
       "    .dataframe tbody tr th {\n",
       "        vertical-align: top;\n",
       "    }\n",
       "\n",
       "    .dataframe thead th {\n",
       "        text-align: right;\n",
       "    }\n",
       "</style>\n",
       "<table border=\"1\" class=\"dataframe\">\n",
       "  <thead>\n",
       "    <tr style=\"text-align: right;\">\n",
       "      <th></th>\n",
       "      <th>tagId</th>\n",
       "      <th>tag</th>\n",
       "    </tr>\n",
       "  </thead>\n",
       "  <tbody>\n",
       "    <tr>\n",
       "      <th>0</th>\n",
       "      <td>1</td>\n",
       "      <td>007</td>\n",
       "    </tr>\n",
       "    <tr>\n",
       "      <th>1</th>\n",
       "      <td>2</td>\n",
       "      <td>007 (series)</td>\n",
       "    </tr>\n",
       "    <tr>\n",
       "      <th>2</th>\n",
       "      <td>3</td>\n",
       "      <td>18th century</td>\n",
       "    </tr>\n",
       "    <tr>\n",
       "      <th>3</th>\n",
       "      <td>4</td>\n",
       "      <td>1920s</td>\n",
       "    </tr>\n",
       "    <tr>\n",
       "      <th>4</th>\n",
       "      <td>5</td>\n",
       "      <td>1930s</td>\n",
       "    </tr>\n",
       "  </tbody>\n",
       "</table>\n",
       "</div>"
      ],
      "text/plain": [
       "   tagId           tag\n",
       "0      1           007\n",
       "1      2  007 (series)\n",
       "2      3  18th century\n",
       "3      4         1920s\n",
       "4      5         1930s"
      ]
     },
     "execution_count": 93,
     "metadata": {},
     "output_type": "execute_result"
    }
   ],
   "source": [
    "genome_tags.head()"
   ]
  },
  {
   "cell_type": "code",
   "execution_count": 94,
   "id": "96a3174a",
   "metadata": {},
   "outputs": [
    {
     "data": {
      "text/html": [
       "<div>\n",
       "<style scoped>\n",
       "    .dataframe tbody tr th:only-of-type {\n",
       "        vertical-align: middle;\n",
       "    }\n",
       "\n",
       "    .dataframe tbody tr th {\n",
       "        vertical-align: top;\n",
       "    }\n",
       "\n",
       "    .dataframe thead th {\n",
       "        text-align: right;\n",
       "    }\n",
       "</style>\n",
       "<table border=\"1\" class=\"dataframe\">\n",
       "  <thead>\n",
       "    <tr style=\"text-align: right;\">\n",
       "      <th></th>\n",
       "      <th>movieId</th>\n",
       "      <th>imdbId</th>\n",
       "      <th>tmdbId</th>\n",
       "    </tr>\n",
       "  </thead>\n",
       "  <tbody>\n",
       "    <tr>\n",
       "      <th>0</th>\n",
       "      <td>1</td>\n",
       "      <td>114709</td>\n",
       "      <td>862.0</td>\n",
       "    </tr>\n",
       "    <tr>\n",
       "      <th>1</th>\n",
       "      <td>2</td>\n",
       "      <td>113497</td>\n",
       "      <td>8844.0</td>\n",
       "    </tr>\n",
       "    <tr>\n",
       "      <th>2</th>\n",
       "      <td>3</td>\n",
       "      <td>113228</td>\n",
       "      <td>15602.0</td>\n",
       "    </tr>\n",
       "    <tr>\n",
       "      <th>3</th>\n",
       "      <td>4</td>\n",
       "      <td>114885</td>\n",
       "      <td>31357.0</td>\n",
       "    </tr>\n",
       "    <tr>\n",
       "      <th>4</th>\n",
       "      <td>5</td>\n",
       "      <td>113041</td>\n",
       "      <td>11862.0</td>\n",
       "    </tr>\n",
       "  </tbody>\n",
       "</table>\n",
       "</div>"
      ],
      "text/plain": [
       "   movieId  imdbId   tmdbId\n",
       "0        1  114709    862.0\n",
       "1        2  113497   8844.0\n",
       "2        3  113228  15602.0\n",
       "3        4  114885  31357.0\n",
       "4        5  113041  11862.0"
      ]
     },
     "execution_count": 94,
     "metadata": {},
     "output_type": "execute_result"
    }
   ],
   "source": [
    "links.head()"
   ]
  },
  {
   "cell_type": "code",
   "execution_count": 95,
   "id": "2c5fa7d3",
   "metadata": {},
   "outputs": [
    {
     "data": {
      "text/plain": [
       "1       10381\n",
       "750     10381\n",
       "756     10381\n",
       "755     10381\n",
       "754     10381\n",
       "        ...  \n",
       "383     10381\n",
       "384     10381\n",
       "385     10381\n",
       "386     10381\n",
       "1128    10381\n",
       "Name: tagId, Length: 1128, dtype: int64"
      ]
     },
     "execution_count": 95,
     "metadata": {},
     "output_type": "execute_result"
    }
   ],
   "source": [
    "genome_scores.tagId.value_counts()"
   ]
  },
  {
   "cell_type": "code",
   "execution_count": 96,
   "id": "00f54c94",
   "metadata": {},
   "outputs": [
    {
     "data": {
      "text/plain": [
       "10381"
      ]
     },
     "execution_count": 96,
     "metadata": {},
     "output_type": "execute_result"
    }
   ],
   "source": [
    "genome_scores.movieId.nunique()"
   ]
  },
  {
   "cell_type": "code",
   "execution_count": 97,
   "id": "b8624e89",
   "metadata": {},
   "outputs": [
    {
     "data": {
      "text/plain": [
       "(11709768, 3)"
      ]
     },
     "execution_count": 97,
     "metadata": {},
     "output_type": "execute_result"
    }
   ],
   "source": [
    "genome_scores.shape"
   ]
  },
  {
   "cell_type": "markdown",
   "id": "593d8b50",
   "metadata": {},
   "source": [
    "### 2. Explore the data"
   ]
  },
  {
   "cell_type": "markdown",
   "id": "4b772330",
   "metadata": {},
   "source": [
    "Let's look at statistics on the data."
   ]
  },
  {
   "cell_type": "markdown",
   "id": "c932abcb",
   "metadata": {},
   "source": [
    "#### What is the average rating?"
   ]
  },
  {
   "cell_type": "code",
   "execution_count": 98,
   "id": "6f60b2a2",
   "metadata": {},
   "outputs": [
    {
     "data": {
      "text/plain": [
       "3.5255285642993797"
      ]
     },
     "execution_count": 98,
     "metadata": {},
     "output_type": "execute_result"
    }
   ],
   "source": [
    "ratings['rating'].mean()"
   ]
  },
  {
   "cell_type": "markdown",
   "id": "90bc43f4",
   "metadata": {},
   "source": [
    "The average rating for all movies is 3.5."
   ]
  },
  {
   "cell_type": "markdown",
   "id": "a64a1757",
   "metadata": {},
   "source": [
    "#### How many ratings each user gives on average?"
   ]
  },
  {
   "cell_type": "code",
   "execution_count": 99,
   "id": "0e331acd",
   "metadata": {},
   "outputs": [
    {
     "data": {
      "text/plain": [
       "144.4135299257002"
      ]
     },
     "execution_count": 99,
     "metadata": {},
     "output_type": "execute_result"
    }
   ],
   "source": [
    "ratings.shape[0] / ratings['userId'].nunique()"
   ]
  },
  {
   "cell_type": "markdown",
   "id": "60ae08c9",
   "metadata": {},
   "source": [
    "On average, each user gives 144 movie ratings."
   ]
  },
  {
   "cell_type": "markdown",
   "id": "3d98191d",
   "metadata": {},
   "source": [
    "#### Which movie has the most ratings?"
   ]
  },
  {
   "cell_type": "code",
   "execution_count": 100,
   "id": "0cede0e0",
   "metadata": {},
   "outputs": [
    {
     "data": {
      "text/plain": [
       "296    67310\n",
       "Name: movieId, dtype: int64"
      ]
     },
     "execution_count": 100,
     "metadata": {},
     "output_type": "execute_result"
    }
   ],
   "source": [
    "ratings['movieId'].value_counts().head(1)"
   ]
  },
  {
   "cell_type": "code",
   "execution_count": 101,
   "id": "828e71fc",
   "metadata": {},
   "outputs": [
    {
     "data": {
      "text/html": [
       "<div>\n",
       "<style scoped>\n",
       "    .dataframe tbody tr th:only-of-type {\n",
       "        vertical-align: middle;\n",
       "    }\n",
       "\n",
       "    .dataframe tbody tr th {\n",
       "        vertical-align: top;\n",
       "    }\n",
       "\n",
       "    .dataframe thead th {\n",
       "        text-align: right;\n",
       "    }\n",
       "</style>\n",
       "<table border=\"1\" class=\"dataframe\">\n",
       "  <thead>\n",
       "    <tr style=\"text-align: right;\">\n",
       "      <th></th>\n",
       "      <th>movieId</th>\n",
       "      <th>title</th>\n",
       "      <th>genres</th>\n",
       "    </tr>\n",
       "  </thead>\n",
       "  <tbody>\n",
       "    <tr>\n",
       "      <th>293</th>\n",
       "      <td>296</td>\n",
       "      <td>Pulp Fiction (1994)</td>\n",
       "      <td>Comedy|Crime|Drama|Thriller</td>\n",
       "    </tr>\n",
       "  </tbody>\n",
       "</table>\n",
       "</div>"
      ],
      "text/plain": [
       "     movieId                title                       genres\n",
       "293      296  Pulp Fiction (1994)  Comedy|Crime|Drama|Thriller"
      ]
     },
     "execution_count": 101,
     "metadata": {},
     "output_type": "execute_result"
    }
   ],
   "source": [
    "movies[movies['movieId']==296]"
   ]
  },
  {
   "cell_type": "markdown",
   "id": "a904eca0",
   "metadata": {},
   "source": [
    "The movie \"Pulp Fiction (1994)\" is the most rated movie. It has 67310 ratings. "
   ]
  },
  {
   "cell_type": "markdown",
   "id": "11344623",
   "metadata": {},
   "source": [
    "### 3. Data Wrangling and Export the Data"
   ]
  },
  {
   "cell_type": "markdown",
   "id": "703f10b5",
   "metadata": {},
   "source": [
    "Let's merge the rating file with the movie file, so that there will be information of title and genres in the rating file."
   ]
  },
  {
   "cell_type": "code",
   "execution_count": 102,
   "id": "3e005210",
   "metadata": {},
   "outputs": [],
   "source": [
    "# merge ratings with movie file. \n",
    "new_ratings = ratings.merge(movies, on='movieId', how='left')"
   ]
  },
  {
   "cell_type": "code",
   "execution_count": 103,
   "id": "e8687d42",
   "metadata": {},
   "outputs": [
    {
     "data": {
      "text/plain": [
       "((20000263, 3), (20000263, 5))"
      ]
     },
     "execution_count": 103,
     "metadata": {},
     "output_type": "execute_result"
    }
   ],
   "source": [
    "# check the size of the rating file before and after the merge.\n",
    "ratings.shape, new_ratings.shape"
   ]
  },
  {
   "cell_type": "markdown",
   "id": "998c9297",
   "metadata": {},
   "source": [
    "Let's then think about reducing data size. As mentioned before, our target is to reduce its size to about 100,000 rows. In order to do that, let's consider the genres, the count on users, and the count on movies.\n",
    "\n",
    "For the genres, we wants to select only the top 20 genres."
   ]
  },
  {
   "cell_type": "code",
   "execution_count": 104,
   "id": "7ff98a1b",
   "metadata": {},
   "outputs": [],
   "source": [
    "# create a dataframe with the top five genres\n",
    "most_rated_genres = pd.DataFrame(new_ratings.genres.value_counts(ascending=False).reset_index().head(20))"
   ]
  },
  {
   "cell_type": "code",
   "execution_count": 105,
   "id": "588ae01b",
   "metadata": {},
   "outputs": [
    {
     "data": {
      "text/html": [
       "<div>\n",
       "<style scoped>\n",
       "    .dataframe tbody tr th:only-of-type {\n",
       "        vertical-align: middle;\n",
       "    }\n",
       "\n",
       "    .dataframe tbody tr th {\n",
       "        vertical-align: top;\n",
       "    }\n",
       "\n",
       "    .dataframe thead th {\n",
       "        text-align: right;\n",
       "    }\n",
       "</style>\n",
       "<table border=\"1\" class=\"dataframe\">\n",
       "  <thead>\n",
       "    <tr style=\"text-align: right;\">\n",
       "      <th></th>\n",
       "      <th>index</th>\n",
       "      <th>genres</th>\n",
       "    </tr>\n",
       "  </thead>\n",
       "  <tbody>\n",
       "    <tr>\n",
       "      <th>0</th>\n",
       "      <td>Drama</td>\n",
       "      <td>1467402</td>\n",
       "    </tr>\n",
       "    <tr>\n",
       "      <th>1</th>\n",
       "      <td>Comedy</td>\n",
       "      <td>1316161</td>\n",
       "    </tr>\n",
       "    <tr>\n",
       "      <th>2</th>\n",
       "      <td>Comedy|Romance</td>\n",
       "      <td>793252</td>\n",
       "    </tr>\n",
       "    <tr>\n",
       "      <th>3</th>\n",
       "      <td>Comedy|Drama</td>\n",
       "      <td>656474</td>\n",
       "    </tr>\n",
       "    <tr>\n",
       "      <th>4</th>\n",
       "      <td>Drama|Romance</td>\n",
       "      <td>644626</td>\n",
       "    </tr>\n",
       "    <tr>\n",
       "      <th>5</th>\n",
       "      <td>Comedy|Drama|Romance</td>\n",
       "      <td>615897</td>\n",
       "    </tr>\n",
       "    <tr>\n",
       "      <th>6</th>\n",
       "      <td>Crime|Drama</td>\n",
       "      <td>467417</td>\n",
       "    </tr>\n",
       "    <tr>\n",
       "      <th>7</th>\n",
       "      <td>Action|Adventure|Sci-Fi</td>\n",
       "      <td>441351</td>\n",
       "    </tr>\n",
       "    <tr>\n",
       "      <th>8</th>\n",
       "      <td>Action|Adventure|Thriller</td>\n",
       "      <td>313902</td>\n",
       "    </tr>\n",
       "    <tr>\n",
       "      <th>9</th>\n",
       "      <td>Action|Crime|Thriller</td>\n",
       "      <td>310685</td>\n",
       "    </tr>\n",
       "    <tr>\n",
       "      <th>10</th>\n",
       "      <td>Drama|Thriller</td>\n",
       "      <td>292533</td>\n",
       "    </tr>\n",
       "    <tr>\n",
       "      <th>11</th>\n",
       "      <td>Action|Adventure|Sci-Fi|Thriller</td>\n",
       "      <td>291796</td>\n",
       "    </tr>\n",
       "    <tr>\n",
       "      <th>12</th>\n",
       "      <td>Drama|War</td>\n",
       "      <td>239542</td>\n",
       "    </tr>\n",
       "    <tr>\n",
       "      <th>13</th>\n",
       "      <td>Action|Sci-Fi|Thriller</td>\n",
       "      <td>232931</td>\n",
       "    </tr>\n",
       "    <tr>\n",
       "      <th>14</th>\n",
       "      <td>Crime|Drama|Thriller</td>\n",
       "      <td>217121</td>\n",
       "    </tr>\n",
       "    <tr>\n",
       "      <th>15</th>\n",
       "      <td>Comedy|Crime</td>\n",
       "      <td>217032</td>\n",
       "    </tr>\n",
       "    <tr>\n",
       "      <th>16</th>\n",
       "      <td>Action|Drama|War</td>\n",
       "      <td>213007</td>\n",
       "    </tr>\n",
       "    <tr>\n",
       "      <th>17</th>\n",
       "      <td>Action|Crime|Drama|Thriller</td>\n",
       "      <td>195241</td>\n",
       "    </tr>\n",
       "    <tr>\n",
       "      <th>18</th>\n",
       "      <td>Documentary</td>\n",
       "      <td>173848</td>\n",
       "    </tr>\n",
       "    <tr>\n",
       "      <th>19</th>\n",
       "      <td>Thriller</td>\n",
       "      <td>152139</td>\n",
       "    </tr>\n",
       "  </tbody>\n",
       "</table>\n",
       "</div>"
      ],
      "text/plain": [
       "                               index   genres\n",
       "0                              Drama  1467402\n",
       "1                             Comedy  1316161\n",
       "2                     Comedy|Romance   793252\n",
       "3                       Comedy|Drama   656474\n",
       "4                      Drama|Romance   644626\n",
       "5               Comedy|Drama|Romance   615897\n",
       "6                        Crime|Drama   467417\n",
       "7            Action|Adventure|Sci-Fi   441351\n",
       "8          Action|Adventure|Thriller   313902\n",
       "9              Action|Crime|Thriller   310685\n",
       "10                    Drama|Thriller   292533\n",
       "11  Action|Adventure|Sci-Fi|Thriller   291796\n",
       "12                         Drama|War   239542\n",
       "13            Action|Sci-Fi|Thriller   232931\n",
       "14              Crime|Drama|Thriller   217121\n",
       "15                      Comedy|Crime   217032\n",
       "16                  Action|Drama|War   213007\n",
       "17       Action|Crime|Drama|Thriller   195241\n",
       "18                       Documentary   173848\n",
       "19                          Thriller   152139"
      ]
     },
     "execution_count": 105,
     "metadata": {},
     "output_type": "execute_result"
    }
   ],
   "source": [
    "most_rated_genres"
   ]
  },
  {
   "cell_type": "code",
   "execution_count": 106,
   "id": "ef600a7a",
   "metadata": {},
   "outputs": [],
   "source": [
    "most_rated_genres = most_rated_genres.rename(columns=({'index':'genres', 'genres':'count'}))"
   ]
  },
  {
   "cell_type": "code",
   "execution_count": 107,
   "id": "afcbfc16",
   "metadata": {},
   "outputs": [
    {
     "data": {
      "text/html": [
       "<div>\n",
       "<style scoped>\n",
       "    .dataframe tbody tr th:only-of-type {\n",
       "        vertical-align: middle;\n",
       "    }\n",
       "\n",
       "    .dataframe tbody tr th {\n",
       "        vertical-align: top;\n",
       "    }\n",
       "\n",
       "    .dataframe thead th {\n",
       "        text-align: right;\n",
       "    }\n",
       "</style>\n",
       "<table border=\"1\" class=\"dataframe\">\n",
       "  <thead>\n",
       "    <tr style=\"text-align: right;\">\n",
       "      <th></th>\n",
       "      <th>genres</th>\n",
       "      <th>count</th>\n",
       "    </tr>\n",
       "  </thead>\n",
       "  <tbody>\n",
       "    <tr>\n",
       "      <th>0</th>\n",
       "      <td>Drama</td>\n",
       "      <td>1467402</td>\n",
       "    </tr>\n",
       "    <tr>\n",
       "      <th>1</th>\n",
       "      <td>Comedy</td>\n",
       "      <td>1316161</td>\n",
       "    </tr>\n",
       "    <tr>\n",
       "      <th>2</th>\n",
       "      <td>Comedy|Romance</td>\n",
       "      <td>793252</td>\n",
       "    </tr>\n",
       "    <tr>\n",
       "      <th>3</th>\n",
       "      <td>Comedy|Drama</td>\n",
       "      <td>656474</td>\n",
       "    </tr>\n",
       "    <tr>\n",
       "      <th>4</th>\n",
       "      <td>Drama|Romance</td>\n",
       "      <td>644626</td>\n",
       "    </tr>\n",
       "    <tr>\n",
       "      <th>5</th>\n",
       "      <td>Comedy|Drama|Romance</td>\n",
       "      <td>615897</td>\n",
       "    </tr>\n",
       "    <tr>\n",
       "      <th>6</th>\n",
       "      <td>Crime|Drama</td>\n",
       "      <td>467417</td>\n",
       "    </tr>\n",
       "    <tr>\n",
       "      <th>7</th>\n",
       "      <td>Action|Adventure|Sci-Fi</td>\n",
       "      <td>441351</td>\n",
       "    </tr>\n",
       "    <tr>\n",
       "      <th>8</th>\n",
       "      <td>Action|Adventure|Thriller</td>\n",
       "      <td>313902</td>\n",
       "    </tr>\n",
       "    <tr>\n",
       "      <th>9</th>\n",
       "      <td>Action|Crime|Thriller</td>\n",
       "      <td>310685</td>\n",
       "    </tr>\n",
       "    <tr>\n",
       "      <th>10</th>\n",
       "      <td>Drama|Thriller</td>\n",
       "      <td>292533</td>\n",
       "    </tr>\n",
       "    <tr>\n",
       "      <th>11</th>\n",
       "      <td>Action|Adventure|Sci-Fi|Thriller</td>\n",
       "      <td>291796</td>\n",
       "    </tr>\n",
       "    <tr>\n",
       "      <th>12</th>\n",
       "      <td>Drama|War</td>\n",
       "      <td>239542</td>\n",
       "    </tr>\n",
       "    <tr>\n",
       "      <th>13</th>\n",
       "      <td>Action|Sci-Fi|Thriller</td>\n",
       "      <td>232931</td>\n",
       "    </tr>\n",
       "    <tr>\n",
       "      <th>14</th>\n",
       "      <td>Crime|Drama|Thriller</td>\n",
       "      <td>217121</td>\n",
       "    </tr>\n",
       "    <tr>\n",
       "      <th>15</th>\n",
       "      <td>Comedy|Crime</td>\n",
       "      <td>217032</td>\n",
       "    </tr>\n",
       "    <tr>\n",
       "      <th>16</th>\n",
       "      <td>Action|Drama|War</td>\n",
       "      <td>213007</td>\n",
       "    </tr>\n",
       "    <tr>\n",
       "      <th>17</th>\n",
       "      <td>Action|Crime|Drama|Thriller</td>\n",
       "      <td>195241</td>\n",
       "    </tr>\n",
       "    <tr>\n",
       "      <th>18</th>\n",
       "      <td>Documentary</td>\n",
       "      <td>173848</td>\n",
       "    </tr>\n",
       "    <tr>\n",
       "      <th>19</th>\n",
       "      <td>Thriller</td>\n",
       "      <td>152139</td>\n",
       "    </tr>\n",
       "  </tbody>\n",
       "</table>\n",
       "</div>"
      ],
      "text/plain": [
       "                              genres    count\n",
       "0                              Drama  1467402\n",
       "1                             Comedy  1316161\n",
       "2                     Comedy|Romance   793252\n",
       "3                       Comedy|Drama   656474\n",
       "4                      Drama|Romance   644626\n",
       "5               Comedy|Drama|Romance   615897\n",
       "6                        Crime|Drama   467417\n",
       "7            Action|Adventure|Sci-Fi   441351\n",
       "8          Action|Adventure|Thriller   313902\n",
       "9              Action|Crime|Thriller   310685\n",
       "10                    Drama|Thriller   292533\n",
       "11  Action|Adventure|Sci-Fi|Thriller   291796\n",
       "12                         Drama|War   239542\n",
       "13            Action|Sci-Fi|Thriller   232931\n",
       "14              Crime|Drama|Thriller   217121\n",
       "15                      Comedy|Crime   217032\n",
       "16                  Action|Drama|War   213007\n",
       "17       Action|Crime|Drama|Thriller   195241\n",
       "18                       Documentary   173848\n",
       "19                          Thriller   152139"
      ]
     },
     "execution_count": 107,
     "metadata": {},
     "output_type": "execute_result"
    }
   ],
   "source": [
    "most_rated_genres"
   ]
  },
  {
   "cell_type": "markdown",
   "id": "09d28d8d",
   "metadata": {},
   "source": [
    "We will then select the ratings whose genres is within the top genres"
   ]
  },
  {
   "cell_type": "code",
   "execution_count": 108,
   "id": "43329119",
   "metadata": {},
   "outputs": [],
   "source": [
    "ratings_top_genres = new_ratings[new_ratings['genres'].isin(most_rated_genres['genres'])]"
   ]
  },
  {
   "cell_type": "code",
   "execution_count": 109,
   "id": "6c7a4144",
   "metadata": {},
   "outputs": [
    {
     "data": {
      "text/plain": [
       "((9252357, 5), (20000263, 5))"
      ]
     },
     "execution_count": 109,
     "metadata": {},
     "output_type": "execute_result"
    }
   ],
   "source": [
    "ratings_top_genres.shape, new_ratings.shape"
   ]
  },
  {
   "cell_type": "markdown",
   "id": "d739cf48",
   "metadata": {},
   "source": [
    "There are 400,000 rows in the new dataset. Let's then consider the count on users. We will select only users who give more than 200 ratings in the new dataset. "
   ]
  },
  {
   "cell_type": "code",
   "execution_count": 110,
   "id": "c315694f",
   "metadata": {},
   "outputs": [],
   "source": [
    "# list total users in the new rating data.\n",
    "user_counts = pd.DataFrame(ratings_top_genres.userId.value_counts().reset_index())"
   ]
  },
  {
   "cell_type": "code",
   "execution_count": 111,
   "id": "97d1227d",
   "metadata": {},
   "outputs": [],
   "source": [
    "most_rating_users = user_counts[user_counts['userId']>100]"
   ]
  },
  {
   "cell_type": "code",
   "execution_count": 112,
   "id": "41eb397a",
   "metadata": {},
   "outputs": [],
   "source": [
    "most_rating_users = most_rating_users.rename(columns=({'index':'userId', 'userId':'count'}))"
   ]
  },
  {
   "cell_type": "code",
   "execution_count": 113,
   "id": "3990e64f",
   "metadata": {},
   "outputs": [
    {
     "data": {
      "text/html": [
       "<div>\n",
       "<style scoped>\n",
       "    .dataframe tbody tr th:only-of-type {\n",
       "        vertical-align: middle;\n",
       "    }\n",
       "\n",
       "    .dataframe tbody tr th {\n",
       "        vertical-align: top;\n",
       "    }\n",
       "\n",
       "    .dataframe thead th {\n",
       "        text-align: right;\n",
       "    }\n",
       "</style>\n",
       "<table border=\"1\" class=\"dataframe\">\n",
       "  <thead>\n",
       "    <tr style=\"text-align: right;\">\n",
       "      <th></th>\n",
       "      <th>userId</th>\n",
       "      <th>count</th>\n",
       "    </tr>\n",
       "  </thead>\n",
       "  <tbody>\n",
       "    <tr>\n",
       "      <th>0</th>\n",
       "      <td>118205</td>\n",
       "      <td>4985</td>\n",
       "    </tr>\n",
       "    <tr>\n",
       "      <th>1</th>\n",
       "      <td>8405</td>\n",
       "      <td>3843</td>\n",
       "    </tr>\n",
       "    <tr>\n",
       "      <th>2</th>\n",
       "      <td>8963</td>\n",
       "      <td>3266</td>\n",
       "    </tr>\n",
       "    <tr>\n",
       "      <th>3</th>\n",
       "      <td>82418</td>\n",
       "      <td>3233</td>\n",
       "    </tr>\n",
       "    <tr>\n",
       "      <th>4</th>\n",
       "      <td>121535</td>\n",
       "      <td>2855</td>\n",
       "    </tr>\n",
       "    <tr>\n",
       "      <th>...</th>\n",
       "      <td>...</td>\n",
       "      <td>...</td>\n",
       "    </tr>\n",
       "    <tr>\n",
       "      <th>23635</th>\n",
       "      <td>117640</td>\n",
       "      <td>101</td>\n",
       "    </tr>\n",
       "    <tr>\n",
       "      <th>23636</th>\n",
       "      <td>11709</td>\n",
       "      <td>101</td>\n",
       "    </tr>\n",
       "    <tr>\n",
       "      <th>23637</th>\n",
       "      <td>91894</td>\n",
       "      <td>101</td>\n",
       "    </tr>\n",
       "    <tr>\n",
       "      <th>23638</th>\n",
       "      <td>14687</td>\n",
       "      <td>101</td>\n",
       "    </tr>\n",
       "    <tr>\n",
       "      <th>23639</th>\n",
       "      <td>132895</td>\n",
       "      <td>101</td>\n",
       "    </tr>\n",
       "  </tbody>\n",
       "</table>\n",
       "<p>23640 rows × 2 columns</p>\n",
       "</div>"
      ],
      "text/plain": [
       "       userId  count\n",
       "0      118205   4985\n",
       "1        8405   3843\n",
       "2        8963   3266\n",
       "3       82418   3233\n",
       "4      121535   2855\n",
       "...       ...    ...\n",
       "23635  117640    101\n",
       "23636   11709    101\n",
       "23637   91894    101\n",
       "23638   14687    101\n",
       "23639  132895    101\n",
       "\n",
       "[23640 rows x 2 columns]"
      ]
     },
     "execution_count": 113,
     "metadata": {},
     "output_type": "execute_result"
    }
   ],
   "source": [
    "most_rating_users"
   ]
  },
  {
   "cell_type": "code",
   "execution_count": 114,
   "id": "005168f5",
   "metadata": {},
   "outputs": [],
   "source": [
    "# create the new rating file\n",
    "new_ratings = ratings_top_genres[ratings_top_genres['userId'].isin(most_rating_users['userId'])]"
   ]
  },
  {
   "cell_type": "code",
   "execution_count": 115,
   "id": "26bcab08",
   "metadata": {},
   "outputs": [
    {
     "data": {
      "text/plain": [
       "((5486765, 5), (9252357, 5))"
      ]
     },
     "execution_count": 115,
     "metadata": {},
     "output_type": "execute_result"
    }
   ],
   "source": [
    "# check the new and old data size\n",
    "new_ratings.shape, ratings_top_genres.shape"
   ]
  },
  {
   "cell_type": "markdown",
   "id": "deea68eb",
   "metadata": {},
   "source": [
    "Finally let's consider the count on movie ids in the new dataset. We will drop movies with less than 500 ratings."
   ]
  },
  {
   "cell_type": "code",
   "execution_count": 116,
   "id": "408299fe",
   "metadata": {},
   "outputs": [],
   "source": [
    "movie_count = new_ratings['movieId'].value_counts()"
   ]
  },
  {
   "cell_type": "code",
   "execution_count": 117,
   "id": "49de625e",
   "metadata": {},
   "outputs": [
    {
     "data": {
      "text/plain": [
       "array([18386, 18377, 18336, ...,     1,     1,     1], dtype=int64)"
      ]
     },
     "execution_count": 117,
     "metadata": {},
     "output_type": "execute_result"
    }
   ],
   "source": [
    "movie_count.values"
   ]
  },
  {
   "cell_type": "code",
   "execution_count": 118,
   "id": "02d2bcbd",
   "metadata": {},
   "outputs": [],
   "source": [
    "most_rated_movies = movie_count[movie_count.values>100].index"
   ]
  },
  {
   "cell_type": "code",
   "execution_count": 119,
   "id": "ed6b1e7a",
   "metadata": {},
   "outputs": [
    {
     "data": {
      "text/plain": [
       "Int64Index([  480,  2571,   318,   260,  1196,  2858,  1210,   110,   780,\n",
       "              527,\n",
       "            ...\n",
       "            46959,  5215,  1519,  2545,  2061,   394,  6180, 62235,  6528,\n",
       "             6467],\n",
       "           dtype='int64', length=4078)"
      ]
     },
     "execution_count": 119,
     "metadata": {},
     "output_type": "execute_result"
    }
   ],
   "source": [
    "most_rated_movies"
   ]
  },
  {
   "cell_type": "code",
   "execution_count": 120,
   "id": "accc4abc",
   "metadata": {},
   "outputs": [],
   "source": [
    "latest_ratings = new_ratings[new_ratings['movieId'].isin(most_rated_movies)]"
   ]
  },
  {
   "cell_type": "code",
   "execution_count": 121,
   "id": "69af3e07",
   "metadata": {},
   "outputs": [
    {
     "data": {
      "text/plain": [
       "((5319088, 5), (5486765, 5))"
      ]
     },
     "execution_count": 121,
     "metadata": {},
     "output_type": "execute_result"
    }
   ],
   "source": [
    "latest_ratings.shape, new_ratings.shape"
   ]
  },
  {
   "cell_type": "code",
   "execution_count": 122,
   "id": "2f1ba797",
   "metadata": {},
   "outputs": [],
   "source": [
    "final_users = most_rating_users.sample(frac=0.1)"
   ]
  },
  {
   "cell_type": "code",
   "execution_count": 123,
   "id": "9399f254",
   "metadata": {},
   "outputs": [
    {
     "data": {
      "text/html": [
       "<div>\n",
       "<style scoped>\n",
       "    .dataframe tbody tr th:only-of-type {\n",
       "        vertical-align: middle;\n",
       "    }\n",
       "\n",
       "    .dataframe tbody tr th {\n",
       "        vertical-align: top;\n",
       "    }\n",
       "\n",
       "    .dataframe thead th {\n",
       "        text-align: right;\n",
       "    }\n",
       "</style>\n",
       "<table border=\"1\" class=\"dataframe\">\n",
       "  <thead>\n",
       "    <tr style=\"text-align: right;\">\n",
       "      <th></th>\n",
       "      <th>userId</th>\n",
       "      <th>count</th>\n",
       "    </tr>\n",
       "  </thead>\n",
       "  <tbody>\n",
       "    <tr>\n",
       "      <th>4193</th>\n",
       "      <td>120840</td>\n",
       "      <td>316</td>\n",
       "    </tr>\n",
       "    <tr>\n",
       "      <th>3390</th>\n",
       "      <td>120118</td>\n",
       "      <td>353</td>\n",
       "    </tr>\n",
       "    <tr>\n",
       "      <th>14409</th>\n",
       "      <td>80559</td>\n",
       "      <td>148</td>\n",
       "    </tr>\n",
       "    <tr>\n",
       "      <th>22396</th>\n",
       "      <td>85166</td>\n",
       "      <td>105</td>\n",
       "    </tr>\n",
       "    <tr>\n",
       "      <th>17134</th>\n",
       "      <td>79859</td>\n",
       "      <td>130</td>\n",
       "    </tr>\n",
       "  </tbody>\n",
       "</table>\n",
       "</div>"
      ],
      "text/plain": [
       "       userId  count\n",
       "4193   120840    316\n",
       "3390   120118    353\n",
       "14409   80559    148\n",
       "22396   85166    105\n",
       "17134   79859    130"
      ]
     },
     "execution_count": 123,
     "metadata": {},
     "output_type": "execute_result"
    }
   ],
   "source": [
    "final_users.head()"
   ]
  },
  {
   "cell_type": "code",
   "execution_count": 124,
   "id": "e2f83099",
   "metadata": {},
   "outputs": [],
   "source": [
    "final_ratings = latest_ratings[latest_ratings['userId'].isin(final_users['userId'])]"
   ]
  },
  {
   "cell_type": "code",
   "execution_count": 125,
   "id": "0bd07a79",
   "metadata": {},
   "outputs": [
    {
     "data": {
      "text/plain": [
       "((535404, 5), (5319088, 5))"
      ]
     },
     "execution_count": 125,
     "metadata": {},
     "output_type": "execute_result"
    }
   ],
   "source": [
    "final_ratings.shape, latest_ratings.shape"
   ]
  },
  {
   "cell_type": "markdown",
   "id": "728c41c4",
   "metadata": {},
   "source": [
    "So the \"final_ratings\" is our final data for the rating predicting. Let's look at its details. "
   ]
  },
  {
   "cell_type": "code",
   "execution_count": 126,
   "id": "4b2653c5",
   "metadata": {},
   "outputs": [
    {
     "data": {
      "text/html": [
       "<div>\n",
       "<style scoped>\n",
       "    .dataframe tbody tr th:only-of-type {\n",
       "        vertical-align: middle;\n",
       "    }\n",
       "\n",
       "    .dataframe tbody tr th {\n",
       "        vertical-align: top;\n",
       "    }\n",
       "\n",
       "    .dataframe thead th {\n",
       "        text-align: right;\n",
       "    }\n",
       "</style>\n",
       "<table border=\"1\" class=\"dataframe\">\n",
       "  <thead>\n",
       "    <tr style=\"text-align: right;\">\n",
       "      <th></th>\n",
       "      <th>userId</th>\n",
       "      <th>movieId</th>\n",
       "      <th>rating</th>\n",
       "      <th>title</th>\n",
       "      <th>genres</th>\n",
       "    </tr>\n",
       "  </thead>\n",
       "  <tbody>\n",
       "    <tr>\n",
       "      <th>2538</th>\n",
       "      <td>24</td>\n",
       "      <td>5</td>\n",
       "      <td>2.0</td>\n",
       "      <td>Father of the Bride Part II (1995)</td>\n",
       "      <td>Comedy</td>\n",
       "    </tr>\n",
       "    <tr>\n",
       "      <th>2539</th>\n",
       "      <td>24</td>\n",
       "      <td>6</td>\n",
       "      <td>4.0</td>\n",
       "      <td>Heat (1995)</td>\n",
       "      <td>Action|Crime|Thriller</td>\n",
       "    </tr>\n",
       "    <tr>\n",
       "      <th>2540</th>\n",
       "      <td>24</td>\n",
       "      <td>7</td>\n",
       "      <td>3.0</td>\n",
       "      <td>Sabrina (1995)</td>\n",
       "      <td>Comedy|Romance</td>\n",
       "    </tr>\n",
       "    <tr>\n",
       "      <th>2541</th>\n",
       "      <td>24</td>\n",
       "      <td>10</td>\n",
       "      <td>3.0</td>\n",
       "      <td>GoldenEye (1995)</td>\n",
       "      <td>Action|Adventure|Thriller</td>\n",
       "    </tr>\n",
       "    <tr>\n",
       "      <th>2542</th>\n",
       "      <td>24</td>\n",
       "      <td>16</td>\n",
       "      <td>5.0</td>\n",
       "      <td>Casino (1995)</td>\n",
       "      <td>Crime|Drama</td>\n",
       "    </tr>\n",
       "  </tbody>\n",
       "</table>\n",
       "</div>"
      ],
      "text/plain": [
       "      userId  movieId  rating                               title  \\\n",
       "2538      24        5     2.0  Father of the Bride Part II (1995)   \n",
       "2539      24        6     4.0                         Heat (1995)   \n",
       "2540      24        7     3.0                      Sabrina (1995)   \n",
       "2541      24       10     3.0                    GoldenEye (1995)   \n",
       "2542      24       16     5.0                       Casino (1995)   \n",
       "\n",
       "                         genres  \n",
       "2538                     Comedy  \n",
       "2539      Action|Crime|Thriller  \n",
       "2540             Comedy|Romance  \n",
       "2541  Action|Adventure|Thriller  \n",
       "2542                Crime|Drama  "
      ]
     },
     "execution_count": 126,
     "metadata": {},
     "output_type": "execute_result"
    }
   ],
   "source": [
    "final_ratings.head()"
   ]
  },
  {
   "cell_type": "markdown",
   "id": "e888f9ff",
   "metadata": {},
   "source": [
    "Let's then count its userId, movieId, and genres."
   ]
  },
  {
   "cell_type": "code",
   "execution_count": 127,
   "id": "f5b8d937",
   "metadata": {},
   "outputs": [
    {
     "data": {
      "text/plain": [
       "118205    3103\n",
       "125794    2235\n",
       "135425    1260\n",
       "57735     1214\n",
       "65401     1167\n",
       "          ... \n",
       "7526        96\n",
       "73097       95\n",
       "55324       95\n",
       "83638       94\n",
       "36505       93\n",
       "Name: userId, Length: 2364, dtype: int64"
      ]
     },
     "execution_count": 127,
     "metadata": {},
     "output_type": "execute_result"
    }
   ],
   "source": [
    "final_ratings['userId'].value_counts()"
   ]
  },
  {
   "cell_type": "code",
   "execution_count": 128,
   "id": "715cc102",
   "metadata": {},
   "outputs": [
    {
     "data": {
      "text/plain": [
       "480      1864\n",
       "318      1864\n",
       "2571     1856\n",
       "260      1803\n",
       "1196     1784\n",
       "         ... \n",
       "6180        5\n",
       "7227        5\n",
       "61210       4\n",
       "33815       4\n",
       "3132        3\n",
       "Name: movieId, Length: 4078, dtype: int64"
      ]
     },
     "execution_count": 128,
     "metadata": {},
     "output_type": "execute_result"
    }
   ],
   "source": [
    "final_ratings['movieId'].value_counts()"
   ]
  },
  {
   "cell_type": "code",
   "execution_count": 129,
   "id": "f3e4f6ff",
   "metadata": {},
   "outputs": [
    {
     "data": {
      "text/plain": [
       "Drama                               90527\n",
       "Comedy                              80598\n",
       "Comedy|Romance                      44903\n",
       "Comedy|Drama                        41303\n",
       "Comedy|Drama|Romance                37750\n",
       "Drama|Romance                       37543\n",
       "Crime|Drama                         25083\n",
       "Action|Adventure|Sci-Fi             20774\n",
       "Drama|Thriller                      17757\n",
       "Action|Adventure|Thriller           16638\n",
       "Action|Crime|Thriller               14811\n",
       "Crime|Drama|Thriller                14153\n",
       "Action|Adventure|Sci-Fi|Thriller    14037\n",
       "Comedy|Crime                        13978\n",
       "Drama|War                           13588\n",
       "Action|Sci-Fi|Thriller              12019\n",
       "Documentary                         11041\n",
       "Action|Drama|War                    10609\n",
       "Action|Crime|Drama|Thriller         10200\n",
       "Thriller                             8092\n",
       "Name: genres, dtype: int64"
      ]
     },
     "execution_count": 129,
     "metadata": {},
     "output_type": "execute_result"
    }
   ],
   "source": [
    "final_ratings['genres'].value_counts()"
   ]
  },
  {
   "cell_type": "markdown",
   "id": "e58171f2",
   "metadata": {},
   "source": [
    "They all looks good. Let's write it to a new csv file. "
   ]
  },
  {
   "cell_type": "code",
   "execution_count": 130,
   "id": "3dd79a54",
   "metadata": {},
   "outputs": [],
   "source": [
    "file_name = './ml-20m/new_ratings.csv'\n",
    "final_ratings.to_csv(file_name, index=False)"
   ]
  },
  {
   "cell_type": "code",
   "execution_count": null,
   "id": "2eb847ae",
   "metadata": {},
   "outputs": [],
   "source": []
  }
 ],
 "metadata": {
  "kernelspec": {
   "display_name": "Python 3 (ipykernel)",
   "language": "python",
   "name": "python3"
  },
  "language_info": {
   "codemirror_mode": {
    "name": "ipython",
    "version": 3
   },
   "file_extension": ".py",
   "mimetype": "text/x-python",
   "name": "python",
   "nbconvert_exporter": "python",
   "pygments_lexer": "ipython3",
   "version": "3.9.7"
  }
 },
 "nbformat": 4,
 "nbformat_minor": 5
}
