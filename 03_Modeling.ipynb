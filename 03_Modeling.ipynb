{
 "cells": [
  {
   "cell_type": "markdown",
   "id": "600714ae",
   "metadata": {},
   "source": [
    "## MovieLens 20M Dataset Recommender System - 03_Modeling"
   ]
  },
  {
   "cell_type": "markdown",
   "id": "20a5981f",
   "metadata": {},
   "source": [
    "This dataset describes 5-star rating and free-text tagging activity from [MovieLens](http://movielens.org), a movie recommendation service. These data were created by users between January 09, 1995 and March 31, 2015. This dataset was generated on March 31, 2015, and updated on October 17, 2016 to update links.csv and add genome-* files. \n",
    "\n",
    "Users were selected at random for inclusion. All selected users had rated at least 20 movies. No demographic information is included. Each user is represented by an id, and no other information is provided,\n",
    "\n",
    "The data are contained in six files, 'genome-scores.csv', 'genome-tags.csv', 'links.csv', 'movies.csv', 'ratings.csv' and 'tags.csv'.\n",
    "\n",
    "We would like to use it to build a model of recommender systems.\n",
    "\n",
    "This is the final part of the study: Modeling."
   ]
  },
  {
   "cell_type": "markdown",
   "id": "8deedb85",
   "metadata": {},
   "source": [
    "### Content\n",
    "### 1. Import Modules and Read Data File"
   ]
  },
  {
   "cell_type": "markdown",
   "id": "feee037b",
   "metadata": {},
   "source": []
  },
  {
   "cell_type": "markdown",
   "id": "938d07e0",
   "metadata": {},
   "source": [
    "### 1. Import Modules and Read Data File"
   ]
  },
  {
   "cell_type": "code",
   "execution_count": 1,
   "id": "90578fb6",
   "metadata": {},
   "outputs": [],
   "source": [
    "import pandas as pd\n",
    "import numpy as np\n",
    "import matplotlib.pyplot as plt"
   ]
  },
  {
   "cell_type": "code",
   "execution_count": 17,
   "id": "45b0bd9e",
   "metadata": {},
   "outputs": [],
   "source": [
    "from surprise import Reader, SVDpp, Dataset, accuracy\n",
    "from surprise.model_selection import train_test_split, cross_validate"
   ]
  },
  {
   "cell_type": "code",
   "execution_count": 3,
   "id": "c79f32b7",
   "metadata": {},
   "outputs": [],
   "source": [
    "import recmetrics"
   ]
  },
  {
   "cell_type": "code",
   "execution_count": 4,
   "id": "355ea4b3",
   "metadata": {},
   "outputs": [],
   "source": [
    "# First, read the rating file.\n",
    "ratings = pd.read_csv('./ml-20m/new_ratings.csv')"
   ]
  },
  {
   "cell_type": "code",
   "execution_count": 5,
   "id": "f75cdde9",
   "metadata": {},
   "outputs": [],
   "source": [
    "# remove ratings smaller than 3.5\n",
    "ratings = ratings[ratings['rating']>=3.5]"
   ]
  },
  {
   "cell_type": "code",
   "execution_count": 7,
   "id": "604998fc",
   "metadata": {},
   "outputs": [
    {
     "data": {
      "text/html": [
       "<div>\n",
       "<style scoped>\n",
       "    .dataframe tbody tr th:only-of-type {\n",
       "        vertical-align: middle;\n",
       "    }\n",
       "\n",
       "    .dataframe tbody tr th {\n",
       "        vertical-align: top;\n",
       "    }\n",
       "\n",
       "    .dataframe thead th {\n",
       "        text-align: right;\n",
       "    }\n",
       "</style>\n",
       "<table border=\"1\" class=\"dataframe\">\n",
       "  <thead>\n",
       "    <tr style=\"text-align: right;\">\n",
       "      <th></th>\n",
       "      <th>userId</th>\n",
       "      <th>movieId</th>\n",
       "      <th>rating</th>\n",
       "      <th>rating_year</th>\n",
       "      <th>title</th>\n",
       "      <th>genres</th>\n",
       "    </tr>\n",
       "  </thead>\n",
       "  <tbody>\n",
       "    <tr>\n",
       "      <th>1</th>\n",
       "      <td>73</td>\n",
       "      <td>55</td>\n",
       "      <td>5.0</td>\n",
       "      <td>2000</td>\n",
       "      <td>Georgia (1995)</td>\n",
       "      <td>Drama</td>\n",
       "    </tr>\n",
       "    <tr>\n",
       "      <th>2</th>\n",
       "      <td>73</td>\n",
       "      <td>110</td>\n",
       "      <td>5.0</td>\n",
       "      <td>2000</td>\n",
       "      <td>Braveheart (1995)</td>\n",
       "      <td>Action|Drama|War</td>\n",
       "    </tr>\n",
       "    <tr>\n",
       "      <th>3</th>\n",
       "      <td>73</td>\n",
       "      <td>111</td>\n",
       "      <td>4.0</td>\n",
       "      <td>2000</td>\n",
       "      <td>Taxi Driver (1976)</td>\n",
       "      <td>Crime|Drama|Thriller</td>\n",
       "    </tr>\n",
       "    <tr>\n",
       "      <th>4</th>\n",
       "      <td>73</td>\n",
       "      <td>246</td>\n",
       "      <td>4.0</td>\n",
       "      <td>2000</td>\n",
       "      <td>Hoop Dreams (1994)</td>\n",
       "      <td>Documentary</td>\n",
       "    </tr>\n",
       "    <tr>\n",
       "      <th>6</th>\n",
       "      <td>73</td>\n",
       "      <td>318</td>\n",
       "      <td>5.0</td>\n",
       "      <td>2000</td>\n",
       "      <td>Shawshank Redemption, The (1994)</td>\n",
       "      <td>Crime|Drama</td>\n",
       "    </tr>\n",
       "  </tbody>\n",
       "</table>\n",
       "</div>"
      ],
      "text/plain": [
       "   userId  movieId  rating  rating_year                             title  \\\n",
       "1      73       55     5.0         2000                    Georgia (1995)   \n",
       "2      73      110     5.0         2000                 Braveheart (1995)   \n",
       "3      73      111     4.0         2000                Taxi Driver (1976)   \n",
       "4      73      246     4.0         2000                Hoop Dreams (1994)   \n",
       "6      73      318     5.0         2000  Shawshank Redemption, The (1994)   \n",
       "\n",
       "                 genres  \n",
       "1                 Drama  \n",
       "2      Action|Drama|War  \n",
       "3  Crime|Drama|Thriller  \n",
       "4           Documentary  \n",
       "6           Crime|Drama  "
      ]
     },
     "execution_count": 7,
     "metadata": {},
     "output_type": "execute_result"
    }
   ],
   "source": [
    "ratings.head()"
   ]
  },
  {
   "cell_type": "code",
   "execution_count": 8,
   "id": "60167c3e",
   "metadata": {},
   "outputs": [
    {
     "data": {
      "text/plain": [
       "(315200, 6)"
      ]
     },
     "execution_count": 8,
     "metadata": {},
     "output_type": "execute_result"
    }
   ],
   "source": [
    "ratings.shape"
   ]
  },
  {
   "cell_type": "code",
   "execution_count": 9,
   "id": "ff1be6be",
   "metadata": {},
   "outputs": [
    {
     "name": "stderr",
     "output_type": "stream",
     "text": [
      "C:\\Users\\cheng\\anaconda3\\lib\\site-packages\\seaborn\\_decorators.py:36: FutureWarning: Pass the following variable as a keyword arg: x. From version 0.12, the only valid positional argument will be `data`, and passing other arguments without an explicit keyword will result in an error or misinterpretation.\n",
      "  warnings.warn(\n"
     ]
    },
    {
     "data": {
      "image/png": "[encoded data removed]",
      "text/plain": [
       "<Figure size 864x504 with 1 Axes>"
      ]
     },
     "metadata": {
      "needs_background": "light"
     },
     "output_type": "display_data"
    }
   ],
   "source": [
    "# Create long tail plot\n",
    "fig = plt.figure(figsize=(12, 7))\n",
    "recmetrics.long_tail_plot(df=ratings, \n",
    "             item_id_column=\"movieId\", \n",
    "             interaction_type=\"movie ratings\", \n",
    "             percentage=0.5,\n",
    "             x_labels=False)"
   ]
  },
  {
   "cell_type": "markdown",
   "id": "5c7d39d1",
   "metadata": {},
   "source": [
    "### 2. Use SVD++ Model to Predict the Rate"
   ]
  },
  {
   "cell_type": "code",
   "execution_count": 10,
   "id": "0bd4b7b2",
   "metadata": {},
   "outputs": [],
   "source": [
    "# All models in surprise use a special data type. First we need to convert the pandas dataframe to that special type.\n",
    "# A reader is still needed but only the rating_scale param is requiered.\n",
    "reader = Reader(rating_scale=(0, 5))\n",
    "\n",
    "# The columns must correspond to user id, item id and ratings (in that order).\n",
    "new_ratings = Dataset.load_from_df(ratings[['userId', 'movieId', 'rating']], reader)"
   ]
  },
  {
   "cell_type": "code",
   "execution_count": 11,
   "id": "d447f35c",
   "metadata": {},
   "outputs": [],
   "source": [
    "# split the rating into train data and test data\n",
    "trainset, testset = train_test_split(new_ratings, test_size=.10)"
   ]
  },
  {
   "cell_type": "code",
   "execution_count": 12,
   "id": "de4f23b7",
   "metadata": {},
   "outputs": [],
   "source": [
    "# create the SVD++ model \n",
    "svdpp = SVDpp()"
   ]
  },
  {
   "cell_type": "code",
   "execution_count": 13,
   "id": "ec2956f5",
   "metadata": {},
   "outputs": [
    {
     "data": {
      "text/plain": [
       "<surprise.prediction_algorithms.matrix_factorization.SVDpp at 0x14c828e33d0>"
      ]
     },
     "execution_count": 13,
     "metadata": {},
     "output_type": "execute_result"
    }
   ],
   "source": [
    "# Fit the model\n",
    "svdpp.fit(trainset)"
   ]
  },
  {
   "cell_type": "code",
   "execution_count": 18,
   "id": "53bd37d3",
   "metadata": {},
   "outputs": [
    {
     "name": "stdout",
     "output_type": "stream",
     "text": [
      "RMSE: 0.4322\n",
      "The RMSE for the rating prediction is:  0.4321821534164485\n"
     ]
    }
   ],
   "source": [
    "print('The RMSE for the rating prediction is: ', accuracy.rmse(svdpp.test(testset)))"
   ]
  },
  {
   "cell_type": "code",
   "execution_count": 19,
   "id": "11c453d0",
   "metadata": {},
   "outputs": [],
   "source": [
    "# predict the rating in the test data\n",
    "predictions = pd.DataFrame(svdpp.test(testset))"
   ]
  },
  {
   "cell_type": "code",
   "execution_count": 20,
   "id": "a419eeba",
   "metadata": {},
   "outputs": [
    {
     "data": {
      "text/html": [
       "<div>\n",
       "<style scoped>\n",
       "    .dataframe tbody tr th:only-of-type {\n",
       "        vertical-align: middle;\n",
       "    }\n",
       "\n",
       "    .dataframe tbody tr th {\n",
       "        vertical-align: top;\n",
       "    }\n",
       "\n",
       "    .dataframe thead th {\n",
       "        text-align: right;\n",
       "    }\n",
       "</style>\n",
       "<table border=\"1\" class=\"dataframe\">\n",
       "  <thead>\n",
       "    <tr style=\"text-align: right;\">\n",
       "      <th></th>\n",
       "      <th>uid</th>\n",
       "      <th>iid</th>\n",
       "      <th>r_ui</th>\n",
       "      <th>est</th>\n",
       "      <th>details</th>\n",
       "    </tr>\n",
       "  </thead>\n",
       "  <tbody>\n",
       "    <tr>\n",
       "      <th>0</th>\n",
       "      <td>82034</td>\n",
       "      <td>4489</td>\n",
       "      <td>4.5</td>\n",
       "      <td>3.887821</td>\n",
       "      <td>{'was_impossible': False}</td>\n",
       "    </tr>\n",
       "    <tr>\n",
       "      <th>1</th>\n",
       "      <td>88828</td>\n",
       "      <td>3477</td>\n",
       "      <td>4.0</td>\n",
       "      <td>4.324178</td>\n",
       "      <td>{'was_impossible': False}</td>\n",
       "    </tr>\n",
       "    <tr>\n",
       "      <th>2</th>\n",
       "      <td>69343</td>\n",
       "      <td>3129</td>\n",
       "      <td>5.0</td>\n",
       "      <td>4.617660</td>\n",
       "      <td>{'was_impossible': False}</td>\n",
       "    </tr>\n",
       "    <tr>\n",
       "      <th>3</th>\n",
       "      <td>74962</td>\n",
       "      <td>3897</td>\n",
       "      <td>4.0</td>\n",
       "      <td>4.103698</td>\n",
       "      <td>{'was_impossible': False}</td>\n",
       "    </tr>\n",
       "    <tr>\n",
       "      <th>4</th>\n",
       "      <td>97284</td>\n",
       "      <td>3361</td>\n",
       "      <td>3.5</td>\n",
       "      <td>3.889136</td>\n",
       "      <td>{'was_impossible': False}</td>\n",
       "    </tr>\n",
       "  </tbody>\n",
       "</table>\n",
       "</div>"
      ],
      "text/plain": [
       "     uid   iid  r_ui       est                    details\n",
       "0  82034  4489   4.5  3.887821  {'was_impossible': False}\n",
       "1  88828  3477   4.0  4.324178  {'was_impossible': False}\n",
       "2  69343  3129   5.0  4.617660  {'was_impossible': False}\n",
       "3  74962  3897   4.0  4.103698  {'was_impossible': False}\n",
       "4  97284  3361   3.5  3.889136  {'was_impossible': False}"
      ]
     },
     "execution_count": 20,
     "metadata": {},
     "output_type": "execute_result"
    }
   ],
   "source": [
    "predictions.head()"
   ]
  },
  {
   "cell_type": "code",
   "execution_count": 21,
   "id": "89c24170",
   "metadata": {},
   "outputs": [],
   "source": [
    "# drop column and rename columns \n",
    "predictions.drop(\"details\", inplace=True, axis=1)\n",
    "predictions.columns = ['userId', 'movieId', 'actual', 'cf_predictions']"
   ]
  },
  {
   "cell_type": "code",
   "execution_count": 115,
   "id": "c357f4ff",
   "metadata": {},
   "outputs": [
    {
     "data": {
      "text/html": [
       "<div>\n",
       "<style scoped>\n",
       "    .dataframe tbody tr th:only-of-type {\n",
       "        vertical-align: middle;\n",
       "    }\n",
       "\n",
       "    .dataframe tbody tr th {\n",
       "        vertical-align: top;\n",
       "    }\n",
       "\n",
       "    .dataframe thead th {\n",
       "        text-align: right;\n",
       "    }\n",
       "</style>\n",
       "<table border=\"1\" class=\"dataframe\">\n",
       "  <thead>\n",
       "    <tr style=\"text-align: right;\">\n",
       "      <th></th>\n",
       "      <th>userId</th>\n",
       "      <th>movieId</th>\n",
       "      <th>actual</th>\n",
       "      <th>cf_predictions</th>\n",
       "    </tr>\n",
       "  </thead>\n",
       "  <tbody>\n",
       "    <tr>\n",
       "      <th>0</th>\n",
       "      <td>82034</td>\n",
       "      <td>4489</td>\n",
       "      <td>4.5</td>\n",
       "      <td>3.887821</td>\n",
       "    </tr>\n",
       "    <tr>\n",
       "      <th>1</th>\n",
       "      <td>88828</td>\n",
       "      <td>3477</td>\n",
       "      <td>4.0</td>\n",
       "      <td>4.324178</td>\n",
       "    </tr>\n",
       "    <tr>\n",
       "      <th>2</th>\n",
       "      <td>69343</td>\n",
       "      <td>3129</td>\n",
       "      <td>5.0</td>\n",
       "      <td>4.617660</td>\n",
       "    </tr>\n",
       "    <tr>\n",
       "      <th>3</th>\n",
       "      <td>74962</td>\n",
       "      <td>3897</td>\n",
       "      <td>4.0</td>\n",
       "      <td>4.103698</td>\n",
       "    </tr>\n",
       "    <tr>\n",
       "      <th>4</th>\n",
       "      <td>97284</td>\n",
       "      <td>3361</td>\n",
       "      <td>3.5</td>\n",
       "      <td>3.889136</td>\n",
       "    </tr>\n",
       "  </tbody>\n",
       "</table>\n",
       "</div>"
      ],
      "text/plain": [
       "   userId  movieId  actual  cf_predictions\n",
       "0   82034     4489     4.5        3.887821\n",
       "1   88828     3477     4.0        4.324178\n",
       "2   69343     3129     5.0        4.617660\n",
       "3   74962     3897     4.0        4.103698\n",
       "4   97284     3361     3.5        3.889136"
      ]
     },
     "execution_count": 115,
     "metadata": {},
     "output_type": "execute_result"
    }
   ],
   "source": [
    "predictions.head()"
   ]
  },
  {
   "cell_type": "markdown",
   "id": "0fc5a610",
   "metadata": {},
   "source": [
    "### 3. Make Various Recommendations to Users in Test Data"
   ]
  },
  {
   "cell_type": "markdown",
   "id": "c3a87261",
   "metadata": {},
   "source": [
    "#### 3.1 Make Collaborative Filtering Recommendation"
   ]
  },
  {
   "cell_type": "code",
   "execution_count": 162,
   "id": "68262cde",
   "metadata": {},
   "outputs": [],
   "source": [
    "# create the recommendation matrix\n",
    "recommended_movies = predictions.copy().groupby('userId', as_index=False)['movieId'].agg({'actual': (lambda x: list(set(x)))})"
   ]
  },
  {
   "cell_type": "code",
   "execution_count": 163,
   "id": "f954a682",
   "metadata": {},
   "outputs": [
    {
     "data": {
      "text/html": [
       "<div>\n",
       "<style scoped>\n",
       "    .dataframe tbody tr th:only-of-type {\n",
       "        vertical-align: middle;\n",
       "    }\n",
       "\n",
       "    .dataframe tbody tr th {\n",
       "        vertical-align: top;\n",
       "    }\n",
       "\n",
       "    .dataframe thead th {\n",
       "        text-align: right;\n",
       "    }\n",
       "</style>\n",
       "<table border=\"1\" class=\"dataframe\">\n",
       "  <thead>\n",
       "    <tr style=\"text-align: right;\">\n",
       "      <th></th>\n",
       "      <th>userId</th>\n",
       "      <th>actual</th>\n",
       "    </tr>\n",
       "  </thead>\n",
       "  <tbody>\n",
       "    <tr>\n",
       "      <th>0</th>\n",
       "      <td>73</td>\n",
       "      <td>[1187, 3684, 3174, 1228, 3668, 1276]</td>\n",
       "    </tr>\n",
       "    <tr>\n",
       "      <th>1</th>\n",
       "      <td>238</td>\n",
       "      <td>[2336, 260, 2599, 1961, 3949, 1230, 527, 2329,...</td>\n",
       "    </tr>\n",
       "    <tr>\n",
       "      <th>2</th>\n",
       "      <td>280</td>\n",
       "      <td>[973, 1103, 4880, 1747, 950, 3742]</td>\n",
       "    </tr>\n",
       "    <tr>\n",
       "      <th>3</th>\n",
       "      <td>283</td>\n",
       "      <td>[3363, 1189, 1127, 141, 500, 1079, 507]</td>\n",
       "    </tr>\n",
       "    <tr>\n",
       "      <th>4</th>\n",
       "      <td>344</td>\n",
       "      <td>[3298, 6, 2502, 3178, 4973, 2128, 4881, 3538, ...</td>\n",
       "    </tr>\n",
       "  </tbody>\n",
       "</table>\n",
       "</div>"
      ],
      "text/plain": [
       "   userId                                             actual\n",
       "0      73               [1187, 3684, 3174, 1228, 3668, 1276]\n",
       "1     238  [2336, 260, 2599, 1961, 3949, 1230, 527, 2329,...\n",
       "2     280                 [973, 1103, 4880, 1747, 950, 3742]\n",
       "3     283            [3363, 1189, 1127, 141, 500, 1079, 507]\n",
       "4     344  [3298, 6, 2502, 3178, 4973, 2128, 4881, 3538, ..."
      ]
     },
     "execution_count": 163,
     "metadata": {},
     "output_type": "execute_result"
    }
   ],
   "source": [
    "recommended_movies.head()"
   ]
  },
  {
   "cell_type": "code",
   "execution_count": 159,
   "id": "eb7e15f1",
   "metadata": {},
   "outputs": [],
   "source": [
    "# create prediction pivot table\n",
    "cf_model = predictions.pivot_table(index='userId', columns='movieId', values='cf_predictions').fillna(0)"
   ]
  },
  {
   "cell_type": "code",
   "execution_count": 160,
   "id": "9d68050e",
   "metadata": {},
   "outputs": [],
   "source": [
    "# define recommendation function\n",
    "def get_users_recommendations(user_id, n, model):\n",
    "    recommended_items = pd.DataFrame(model.loc[user_id])\n",
    "    recommended_items.columns = [\"predicted_rating\"]\n",
    "    recommended_items = recommended_items.sort_values('predicted_rating', ascending=False)    \n",
    "    recommended_items = recommended_items.head(n)\n",
    "    return recommended_items.index.tolist()"
   ]
  },
  {
   "cell_type": "code",
   "execution_count": 164,
   "id": "1993369d",
   "metadata": {},
   "outputs": [],
   "source": [
    "# set userId as index\n",
    "recommended_movies = recommended_movies.set_index('userId')"
   ]
  },
  {
   "cell_type": "code",
   "execution_count": 165,
   "id": "f4d1050d",
   "metadata": {},
   "outputs": [
    {
     "data": {
      "text/html": [
       "<div>\n",
       "<style scoped>\n",
       "    .dataframe tbody tr th:only-of-type {\n",
       "        vertical-align: middle;\n",
       "    }\n",
       "\n",
       "    .dataframe tbody tr th {\n",
       "        vertical-align: top;\n",
       "    }\n",
       "\n",
       "    .dataframe thead th {\n",
       "        text-align: right;\n",
       "    }\n",
       "</style>\n",
       "<table border=\"1\" class=\"dataframe\">\n",
       "  <thead>\n",
       "    <tr style=\"text-align: right;\">\n",
       "      <th></th>\n",
       "      <th>actual</th>\n",
       "    </tr>\n",
       "    <tr>\n",
       "      <th>userId</th>\n",
       "      <th></th>\n",
       "    </tr>\n",
       "  </thead>\n",
       "  <tbody>\n",
       "    <tr>\n",
       "      <th>73</th>\n",
       "      <td>[1187, 3684, 3174, 1228, 3668, 1276]</td>\n",
       "    </tr>\n",
       "    <tr>\n",
       "      <th>238</th>\n",
       "      <td>[2336, 260, 2599, 1961, 3949, 1230, 527, 2329,...</td>\n",
       "    </tr>\n",
       "    <tr>\n",
       "      <th>280</th>\n",
       "      <td>[973, 1103, 4880, 1747, 950, 3742]</td>\n",
       "    </tr>\n",
       "    <tr>\n",
       "      <th>283</th>\n",
       "      <td>[3363, 1189, 1127, 141, 500, 1079, 507]</td>\n",
       "    </tr>\n",
       "    <tr>\n",
       "      <th>344</th>\n",
       "      <td>[3298, 6, 2502, 3178, 4973, 2128, 4881, 3538, ...</td>\n",
       "    </tr>\n",
       "  </tbody>\n",
       "</table>\n",
       "</div>"
      ],
      "text/plain": [
       "                                                   actual\n",
       "userId                                                   \n",
       "73                   [1187, 3684, 3174, 1228, 3668, 1276]\n",
       "238     [2336, 260, 2599, 1961, 3949, 1230, 527, 2329,...\n",
       "280                    [973, 1103, 4880, 1747, 950, 3742]\n",
       "283               [3363, 1189, 1127, 141, 500, 1079, 507]\n",
       "344     [3298, 6, 2502, 3178, 4973, 2128, 4881, 3538, ..."
      ]
     },
     "execution_count": 165,
     "metadata": {},
     "output_type": "execute_result"
    }
   ],
   "source": [
    "recommended_movies.head()"
   ]
  },
  {
   "cell_type": "code",
   "execution_count": 166,
   "id": "d51b826c",
   "metadata": {},
   "outputs": [],
   "source": [
    "# recommendations from collaborative filtering model\n",
    "cf_recs = []\n",
    "for user in recommended_movies.index:\n",
    "    cf_predictions = get_users_recommendations(user, 10, cf_model)\n",
    "    cf_recs.append(cf_predictions)"
   ]
  },
  {
   "cell_type": "code",
   "execution_count": 167,
   "id": "594d8e55",
   "metadata": {},
   "outputs": [],
   "source": [
    "# add collaborative filtering recommendations to the recommendation matrix\n",
    "recommended_movies['cf_recommendations'] = cf_recs"
   ]
  },
  {
   "cell_type": "code",
   "execution_count": 168,
   "id": "896c40c9",
   "metadata": {},
   "outputs": [
    {
     "data": {
      "text/html": [
       "<div>\n",
       "<style scoped>\n",
       "    .dataframe tbody tr th:only-of-type {\n",
       "        vertical-align: middle;\n",
       "    }\n",
       "\n",
       "    .dataframe tbody tr th {\n",
       "        vertical-align: top;\n",
       "    }\n",
       "\n",
       "    .dataframe thead th {\n",
       "        text-align: right;\n",
       "    }\n",
       "</style>\n",
       "<table border=\"1\" class=\"dataframe\">\n",
       "  <thead>\n",
       "    <tr style=\"text-align: right;\">\n",
       "      <th></th>\n",
       "      <th>actual</th>\n",
       "      <th>cf_recommendations</th>\n",
       "    </tr>\n",
       "    <tr>\n",
       "      <th>userId</th>\n",
       "      <th></th>\n",
       "      <th></th>\n",
       "    </tr>\n",
       "  </thead>\n",
       "  <tbody>\n",
       "    <tr>\n",
       "      <th>73</th>\n",
       "      <td>[1187, 3684, 3174, 1228, 3668, 1276]</td>\n",
       "      <td>[1228, 1276, 3668, 1187, 3684, 3174, 7026, 700...</td>\n",
       "    </tr>\n",
       "    <tr>\n",
       "      <th>238</th>\n",
       "      <td>[2336, 260, 2599, 1961, 3949, 1230, 527, 2329,...</td>\n",
       "      <td>[858, 260, 527, 1230, 2329, 3949, 2336, 1307, ...</td>\n",
       "    </tr>\n",
       "    <tr>\n",
       "      <th>280</th>\n",
       "      <td>[973, 1103, 4880, 1747, 950, 3742]</td>\n",
       "      <td>[950, 3742, 1103, 973, 4880, 1747, 3, 7028, 70...</td>\n",
       "    </tr>\n",
       "    <tr>\n",
       "      <th>283</th>\n",
       "      <td>[3363, 1189, 1127, 141, 500, 1079, 507]</td>\n",
       "      <td>[1189, 1079, 3363, 1127, 507, 141, 500, 7034, ...</td>\n",
       "    </tr>\n",
       "    <tr>\n",
       "      <th>344</th>\n",
       "      <td>[3298, 6, 2502, 3178, 4973, 2128, 4881, 3538, ...</td>\n",
       "      <td>[4973, 2502, 4881, 6, 3129, 1747, 3178, 3298, ...</td>\n",
       "    </tr>\n",
       "  </tbody>\n",
       "</table>\n",
       "</div>"
      ],
      "text/plain": [
       "                                                   actual  \\\n",
       "userId                                                      \n",
       "73                   [1187, 3684, 3174, 1228, 3668, 1276]   \n",
       "238     [2336, 260, 2599, 1961, 3949, 1230, 527, 2329,...   \n",
       "280                    [973, 1103, 4880, 1747, 950, 3742]   \n",
       "283               [3363, 1189, 1127, 141, 500, 1079, 507]   \n",
       "344     [3298, 6, 2502, 3178, 4973, 2128, 4881, 3538, ...   \n",
       "\n",
       "                                       cf_recommendations  \n",
       "userId                                                     \n",
       "73      [1228, 1276, 3668, 1187, 3684, 3174, 7026, 700...  \n",
       "238     [858, 260, 527, 1230, 2329, 3949, 2336, 1307, ...  \n",
       "280     [950, 3742, 1103, 973, 4880, 1747, 3, 7028, 70...  \n",
       "283     [1189, 1079, 3363, 1127, 507, 141, 500, 7034, ...  \n",
       "344     [4973, 2502, 4881, 6, 3129, 1747, 3178, 3298, ...  "
      ]
     },
     "execution_count": 168,
     "metadata": {},
     "output_type": "execute_result"
    }
   ],
   "source": [
    "recommended_movies.head()"
   ]
  },
  {
   "cell_type": "markdown",
   "id": "ecb56aac",
   "metadata": {},
   "source": [
    "#### 3.2 Make Popularity Recommendation"
   ]
  },
  {
   "cell_type": "code",
   "execution_count": 169,
   "id": "8aa83eac",
   "metadata": {},
   "outputs": [],
   "source": [
    "# make popularity recommendations for all users in the test data\n",
    "popularity_recs = ratings.movieId.value_counts().head(10).index.tolist()"
   ]
  },
  {
   "cell_type": "code",
   "execution_count": 170,
   "id": "1504eb11",
   "metadata": {},
   "outputs": [],
   "source": [
    "# recommendations from popularity\n",
    "pop_recs = []\n",
    "for user in recommended_movies.index:\n",
    "    pop_predictions = popularity_recs\n",
    "    pop_recs.append(pop_predictions)"
   ]
  },
  {
   "cell_type": "code",
   "execution_count": 171,
   "id": "39d58da0",
   "metadata": {},
   "outputs": [],
   "source": [
    "# add popularity recommendations to the recommendation matrix\n",
    "recommended_movies['pop_recommendations'] = pop_recs"
   ]
  },
  {
   "cell_type": "code",
   "execution_count": 172,
   "id": "67c5c447",
   "metadata": {},
   "outputs": [
    {
     "data": {
      "text/html": [
       "<div>\n",
       "<style scoped>\n",
       "    .dataframe tbody tr th:only-of-type {\n",
       "        vertical-align: middle;\n",
       "    }\n",
       "\n",
       "    .dataframe tbody tr th {\n",
       "        vertical-align: top;\n",
       "    }\n",
       "\n",
       "    .dataframe thead th {\n",
       "        text-align: right;\n",
       "    }\n",
       "</style>\n",
       "<table border=\"1\" class=\"dataframe\">\n",
       "  <thead>\n",
       "    <tr style=\"text-align: right;\">\n",
       "      <th></th>\n",
       "      <th>actual</th>\n",
       "      <th>cf_recommendations</th>\n",
       "      <th>pop_recommendations</th>\n",
       "    </tr>\n",
       "    <tr>\n",
       "      <th>userId</th>\n",
       "      <th></th>\n",
       "      <th></th>\n",
       "      <th></th>\n",
       "    </tr>\n",
       "  </thead>\n",
       "  <tbody>\n",
       "    <tr>\n",
       "      <th>73</th>\n",
       "      <td>[1187, 3684, 3174, 1228, 3668, 1276]</td>\n",
       "      <td>[1228, 1276, 3668, 1187, 3684, 3174, 7026, 700...</td>\n",
       "      <td>[318, 260, 2571, 2858, 1196, 527, 858, 1210, 2...</td>\n",
       "    </tr>\n",
       "    <tr>\n",
       "      <th>238</th>\n",
       "      <td>[2336, 260, 2599, 1961, 3949, 1230, 527, 2329,...</td>\n",
       "      <td>[858, 260, 527, 1230, 2329, 3949, 2336, 1307, ...</td>\n",
       "      <td>[318, 260, 2571, 2858, 1196, 527, 858, 1210, 2...</td>\n",
       "    </tr>\n",
       "    <tr>\n",
       "      <th>280</th>\n",
       "      <td>[973, 1103, 4880, 1747, 950, 3742]</td>\n",
       "      <td>[950, 3742, 1103, 973, 4880, 1747, 3, 7028, 70...</td>\n",
       "      <td>[318, 260, 2571, 2858, 1196, 527, 858, 1210, 2...</td>\n",
       "    </tr>\n",
       "    <tr>\n",
       "      <th>283</th>\n",
       "      <td>[3363, 1189, 1127, 141, 500, 1079, 507]</td>\n",
       "      <td>[1189, 1079, 3363, 1127, 507, 141, 500, 7034, ...</td>\n",
       "      <td>[318, 260, 2571, 2858, 1196, 527, 858, 1210, 2...</td>\n",
       "    </tr>\n",
       "    <tr>\n",
       "      <th>344</th>\n",
       "      <td>[3298, 6, 2502, 3178, 4973, 2128, 4881, 3538, ...</td>\n",
       "      <td>[4973, 2502, 4881, 6, 3129, 1747, 3178, 3298, ...</td>\n",
       "      <td>[318, 260, 2571, 2858, 1196, 527, 858, 1210, 2...</td>\n",
       "    </tr>\n",
       "  </tbody>\n",
       "</table>\n",
       "</div>"
      ],
      "text/plain": [
       "                                                   actual  \\\n",
       "userId                                                      \n",
       "73                   [1187, 3684, 3174, 1228, 3668, 1276]   \n",
       "238     [2336, 260, 2599, 1961, 3949, 1230, 527, 2329,...   \n",
       "280                    [973, 1103, 4880, 1747, 950, 3742]   \n",
       "283               [3363, 1189, 1127, 141, 500, 1079, 507]   \n",
       "344     [3298, 6, 2502, 3178, 4973, 2128, 4881, 3538, ...   \n",
       "\n",
       "                                       cf_recommendations  \\\n",
       "userId                                                      \n",
       "73      [1228, 1276, 3668, 1187, 3684, 3174, 7026, 700...   \n",
       "238     [858, 260, 527, 1230, 2329, 3949, 2336, 1307, ...   \n",
       "280     [950, 3742, 1103, 973, 4880, 1747, 3, 7028, 70...   \n",
       "283     [1189, 1079, 3363, 1127, 507, 141, 500, 7034, ...   \n",
       "344     [4973, 2502, 4881, 6, 3129, 1747, 3178, 3298, ...   \n",
       "\n",
       "                                      pop_recommendations  \n",
       "userId                                                     \n",
       "73      [318, 260, 2571, 2858, 1196, 527, 858, 1210, 2...  \n",
       "238     [318, 260, 2571, 2858, 1196, 527, 858, 1210, 2...  \n",
       "280     [318, 260, 2571, 2858, 1196, 527, 858, 1210, 2...  \n",
       "283     [318, 260, 2571, 2858, 1196, 527, 858, 1210, 2...  \n",
       "344     [318, 260, 2571, 2858, 1196, 527, 858, 1210, 2...  "
      ]
     },
     "execution_count": 172,
     "metadata": {},
     "output_type": "execute_result"
    }
   ],
   "source": [
    "recommended_movies.head()"
   ]
  },
  {
   "cell_type": "markdown",
   "id": "3b4218e7",
   "metadata": {},
   "source": [
    "#### 3.3 Make Random Recommendation"
   ]
  },
  {
   "cell_type": "code",
   "execution_count": 175,
   "id": "4b129bf9",
   "metadata": {},
   "outputs": [],
   "source": [
    "# make random recommendation\n",
    "random_recs = []\n",
    "for user in recommended_movies.index:\n",
    "    random_predictions = ratings.movieId.sample(10).values.tolist()\n",
    "    random_recs.append(random_predictions)"
   ]
  },
  {
   "cell_type": "code",
   "execution_count": 176,
   "id": "33da19ab",
   "metadata": {},
   "outputs": [],
   "source": [
    "# add random recommendations to the recommendation matrix\n",
    "recommended_movies['random_recommendations'] = random_recs"
   ]
  },
  {
   "cell_type": "code",
   "execution_count": 177,
   "id": "7556ec86",
   "metadata": {},
   "outputs": [
    {
     "data": {
      "text/html": [
       "<div>\n",
       "<style scoped>\n",
       "    .dataframe tbody tr th:only-of-type {\n",
       "        vertical-align: middle;\n",
       "    }\n",
       "\n",
       "    .dataframe tbody tr th {\n",
       "        vertical-align: top;\n",
       "    }\n",
       "\n",
       "    .dataframe thead th {\n",
       "        text-align: right;\n",
       "    }\n",
       "</style>\n",
       "<table border=\"1\" class=\"dataframe\">\n",
       "  <thead>\n",
       "    <tr style=\"text-align: right;\">\n",
       "      <th></th>\n",
       "      <th>actual</th>\n",
       "      <th>cf_recommendations</th>\n",
       "      <th>pop_recommendations</th>\n",
       "      <th>random_recommendations</th>\n",
       "    </tr>\n",
       "    <tr>\n",
       "      <th>userId</th>\n",
       "      <th></th>\n",
       "      <th></th>\n",
       "      <th></th>\n",
       "      <th></th>\n",
       "    </tr>\n",
       "  </thead>\n",
       "  <tbody>\n",
       "    <tr>\n",
       "      <th>73</th>\n",
       "      <td>[1187, 3684, 3174, 1228, 3668, 1276]</td>\n",
       "      <td>[1228, 1276, 3668, 1187, 3684, 3174, 7026, 700...</td>\n",
       "      <td>[318, 260, 2571, 2858, 1196, 527, 858, 1210, 2...</td>\n",
       "      <td>[388, 81932, 4014, 1943, 6638, 6807, 2908, 112...</td>\n",
       "    </tr>\n",
       "    <tr>\n",
       "      <th>238</th>\n",
       "      <td>[2336, 260, 2599, 1961, 3949, 1230, 527, 2329,...</td>\n",
       "      <td>[858, 260, 527, 1230, 2329, 3949, 2336, 1307, ...</td>\n",
       "      <td>[318, 260, 2571, 2858, 1196, 527, 858, 1210, 2...</td>\n",
       "      <td>[2396, 7303, 2352, 5303, 10, 1228, 45186, 1036...</td>\n",
       "    </tr>\n",
       "    <tr>\n",
       "      <th>280</th>\n",
       "      <td>[973, 1103, 4880, 1747, 950, 3742]</td>\n",
       "      <td>[950, 3742, 1103, 973, 4880, 1747, 3, 7028, 70...</td>\n",
       "      <td>[318, 260, 2571, 2858, 1196, 527, 858, 1210, 2...</td>\n",
       "      <td>[8641, 4351, 1648, 762, 260, 442, 1213, 4231, ...</td>\n",
       "    </tr>\n",
       "    <tr>\n",
       "      <th>283</th>\n",
       "      <td>[3363, 1189, 1127, 141, 500, 1079, 507]</td>\n",
       "      <td>[1189, 1079, 3363, 1127, 507, 141, 500, 7034, ...</td>\n",
       "      <td>[318, 260, 2571, 2858, 1196, 527, 858, 1210, 2...</td>\n",
       "      <td>[1213, 1240, 4995, 247, 1036, 1923, 592, 733, ...</td>\n",
       "    </tr>\n",
       "    <tr>\n",
       "      <th>344</th>\n",
       "      <td>[3298, 6, 2502, 3178, 4973, 2128, 4881, 3538, ...</td>\n",
       "      <td>[4973, 2502, 4881, 6, 3129, 1747, 3178, 3298, ...</td>\n",
       "      <td>[318, 260, 2571, 2858, 1196, 527, 858, 1210, 2...</td>\n",
       "      <td>[7263, 3872, 6942, 2300, 32139, 1513, 912, 191...</td>\n",
       "    </tr>\n",
       "  </tbody>\n",
       "</table>\n",
       "</div>"
      ],
      "text/plain": [
       "                                                   actual  \\\n",
       "userId                                                      \n",
       "73                   [1187, 3684, 3174, 1228, 3668, 1276]   \n",
       "238     [2336, 260, 2599, 1961, 3949, 1230, 527, 2329,...   \n",
       "280                    [973, 1103, 4880, 1747, 950, 3742]   \n",
       "283               [3363, 1189, 1127, 141, 500, 1079, 507]   \n",
       "344     [3298, 6, 2502, 3178, 4973, 2128, 4881, 3538, ...   \n",
       "\n",
       "                                       cf_recommendations  \\\n",
       "userId                                                      \n",
       "73      [1228, 1276, 3668, 1187, 3684, 3174, 7026, 700...   \n",
       "238     [858, 260, 527, 1230, 2329, 3949, 2336, 1307, ...   \n",
       "280     [950, 3742, 1103, 973, 4880, 1747, 3, 7028, 70...   \n",
       "283     [1189, 1079, 3363, 1127, 507, 141, 500, 7034, ...   \n",
       "344     [4973, 2502, 4881, 6, 3129, 1747, 3178, 3298, ...   \n",
       "\n",
       "                                      pop_recommendations  \\\n",
       "userId                                                      \n",
       "73      [318, 260, 2571, 2858, 1196, 527, 858, 1210, 2...   \n",
       "238     [318, 260, 2571, 2858, 1196, 527, 858, 1210, 2...   \n",
       "280     [318, 260, 2571, 2858, 1196, 527, 858, 1210, 2...   \n",
       "283     [318, 260, 2571, 2858, 1196, 527, 858, 1210, 2...   \n",
       "344     [318, 260, 2571, 2858, 1196, 527, 858, 1210, 2...   \n",
       "\n",
       "                                   random_recommendations  \n",
       "userId                                                     \n",
       "73      [388, 81932, 4014, 1943, 6638, 6807, 2908, 112...  \n",
       "238     [2396, 7303, 2352, 5303, 10, 1228, 45186, 1036...  \n",
       "280     [8641, 4351, 1648, 762, 260, 442, 1213, 4231, ...  \n",
       "283     [1213, 1240, 4995, 247, 1036, 1923, 592, 733, ...  \n",
       "344     [7263, 3872, 6942, 2300, 32139, 1513, 912, 191...  "
      ]
     },
     "execution_count": 177,
     "metadata": {},
     "output_type": "execute_result"
    }
   ],
   "source": [
    "recommended_movies.head()"
   ]
  },
  {
   "cell_type": "markdown",
   "id": "7086b35b",
   "metadata": {},
   "source": [
    "#### 3.4 Make Parallel Recommendation"
   ]
  },
  {
   "cell_type": "markdown",
   "id": "b2f6da72",
   "metadata": {},
   "source": [
    "Youtube provides recommendations of \"other people who watched this movie also watch:\". Basically Youtube will recommend you with videos watched by other people who also watched your favorates. I think this is a great idea so I would like to do the same in this study.\n",
    "\n",
    "Here is the procedure: for each user in the test data, find top five movies he/she rated the highest; then find the total rating on these five movies from each user in the rating file, and find 10 users who give highest total ratings. Then for each of the 10 users, find one movie he/she give highest rating. This movie should not be in the original top five movies. So we get one movie from each of the 10 users. We will then recommend these ten movies to the original user. We call this recommendation as \"parallel recommendation\".\n",
    "\n",
    "We will repeat this procedure to every user in the test data."
   ]
  },
  {
   "cell_type": "code",
   "execution_count": 43,
   "id": "d21c2746",
   "metadata": {},
   "outputs": [],
   "source": [
    "# find all users in the rating file\n",
    "users_in_rating = ratings['userId'].unique()"
   ]
  },
  {
   "cell_type": "code",
   "execution_count": 44,
   "id": "e22b425c",
   "metadata": {},
   "outputs": [],
   "source": [
    "# find top five movies the user rated the highest\n",
    "def find_top_rated_movies(user):\n",
    "    return ratings[ratings['userId']==user].sort_values('rating', ascending=False)['movieId'].values[:5]"
   ]
  },
  {
   "cell_type": "code",
   "execution_count": 45,
   "id": "0f963149",
   "metadata": {},
   "outputs": [],
   "source": [
    "# find top 10 users who give highest total ratings on the five movies\n",
    "def users_rated_highest_on_movies(user, movies):\n",
    "    total_rating_value = []\n",
    "    for u in users_in_rating:\n",
    "        rating = 0.0\n",
    "        for movie in movies:\n",
    "            rating = rating + find_rating(u, movie)\n",
    "        if u!=user:\n",
    "            total_rating_value.append(rating)\n",
    "    \n",
    "    user_list = list(users_in_rating)\n",
    "    user_list.remove(user)\n",
    "#        print('user:', user)\n",
    "#        print('rating:', rating)\n",
    "#    print (len(users_in_train))\n",
    "#    print(total_rating_value)\n",
    "    rating_df = pd.DataFrame({'userId':user_list, 'total_rating': total_rating_value})\n",
    "    rating_df = rating_df.sort_values('total_rating', ascending=False, ignore_index=True)\n",
    "    return rating_df.loc[:10,'userId'], rating_df.loc[:10,'total_rating']"
   ]
  },
  {
   "cell_type": "code",
   "execution_count": 46,
   "id": "c21909fb",
   "metadata": {},
   "outputs": [],
   "source": [
    "# find a movie a user give highest score. The movie should be excluded in the 'movies'\n",
    "def recommend_movie(user, movies):\n",
    "    movies_watched = ratings[ratings['userId']==user].sort_values('rating', ascending=False)['movieId'].values\n",
    "    for movie in movies_watched:\n",
    "        if movie not in movies:\n",
    "            return movie"
   ]
  },
  {
   "cell_type": "code",
   "execution_count": 47,
   "id": "0684451b",
   "metadata": {},
   "outputs": [],
   "source": [
    "# find the rating of a user on a movie in the rating file\n",
    "def find_rating(user, movie):\n",
    "    users_watched = ratings[ratings['movieId']==movie]['userId'].unique()\n",
    "    if user in users_watched:\n",
    "        return ratings[(ratings['movieId']==movie)&(ratings['userId']==user)]['rating'].values[0]\n",
    "    else:\n",
    "        return 0.0"
   ]
  },
  {
   "cell_type": "code",
   "execution_count": 195,
   "id": "35b71cc7",
   "metadata": {},
   "outputs": [
    {
     "name": "stdout",
     "output_type": "stream",
     "text": [
      "i =  0\n",
      "i =  100\n",
      "i =  200\n",
      "i =  300\n",
      "i =  400\n",
      "i =  500\n",
      "i =  600\n",
      "i =  700\n",
      "i =  800\n",
      "i =  900\n",
      "i =  1000\n",
      "i =  1100\n",
      "i =  1200\n",
      "i =  1300\n",
      "i =  1400\n",
      "i =  1500\n",
      "i =  1600\n",
      "i =  1700\n",
      "i =  1800\n",
      "i =  1900\n",
      "i =  2000\n",
      "i =  2100\n",
      "i =  2200\n",
      "i =  2300\n"
     ]
    }
   ],
   "source": [
    "parallel_recs = []                # list to store recommended movies  \n",
    "for i in range(len(recommended_movies.index)):      # for each user in the test data\n",
    "    if(i%100)==0: print('i = ', i)                # print i when i = 100, 200, ... so that we know the instant iteration status\n",
    "    user = recommended_movies.index[i]\n",
    "    five_top_rated_movies = find_top_rated_movies(user)     # return 5 top rated movies\n",
    "#    print('five top rated movieId', five_top_rated_movies)\n",
    "#    print('five top rated movies', movie_title[movie_title.index.isin(five_top_rated_movies)]['title'])\n",
    "    users, scores = users_rated_highest_on_movies(user, five_top_rated_movies)    # find 10 users who give highest total score\n",
    "#    print('users:', users)\n",
    "#    print('ratings', scores)\n",
    "    recommended = []     # list to store recommended movies for this user\n",
    "    for u in users:\n",
    "        rec_movie = recommend_movie(u, five_top_rated_movies)   # find a movie the user give. the movie should not be in the 5 movies\n",
    "        recommended.append(rec_movie)\n",
    "    parallel_recs.append(list(set(recommended)))   # we see repeat movies in the recommendation. remove duplicates.\n",
    "#    print('total rec movieId:', total_rec_movies)\n",
    "#    print('total rec movies:', movie_title[movie_title.index.isin(total_rec_movies[0])]['title'])\n",
    "#    print('\\n')"
   ]
  },
  {
   "cell_type": "code",
   "execution_count": 196,
   "id": "468a1bfe",
   "metadata": {},
   "outputs": [],
   "source": [
    "# add parallel recommendations to the recommendation matrix\n",
    "recommended_movies['parallel_recommendations'] = parallel_recs"
   ]
  },
  {
   "cell_type": "code",
   "execution_count": 197,
   "id": "3d940108",
   "metadata": {},
   "outputs": [
    {
     "data": {
      "text/html": [
       "<div>\n",
       "<style scoped>\n",
       "    .dataframe tbody tr th:only-of-type {\n",
       "        vertical-align: middle;\n",
       "    }\n",
       "\n",
       "    .dataframe tbody tr th {\n",
       "        vertical-align: top;\n",
       "    }\n",
       "\n",
       "    .dataframe thead th {\n",
       "        text-align: right;\n",
       "    }\n",
       "</style>\n",
       "<table border=\"1\" class=\"dataframe\">\n",
       "  <thead>\n",
       "    <tr style=\"text-align: right;\">\n",
       "      <th></th>\n",
       "      <th>actual</th>\n",
       "      <th>cf_recommendations</th>\n",
       "      <th>pop_recommendations</th>\n",
       "      <th>random_recommendations</th>\n",
       "      <th>parallel_recommendations</th>\n",
       "      <th>unrated_recommendations</th>\n",
       "    </tr>\n",
       "    <tr>\n",
       "      <th>userId</th>\n",
       "      <th></th>\n",
       "      <th></th>\n",
       "      <th></th>\n",
       "      <th></th>\n",
       "      <th></th>\n",
       "      <th></th>\n",
       "    </tr>\n",
       "  </thead>\n",
       "  <tbody>\n",
       "    <tr>\n",
       "      <th>73</th>\n",
       "      <td>[1187, 3684, 3174, 1228, 3668, 1276]</td>\n",
       "      <td>[1228, 1276, 3668, 1187, 3684, 3174, 7026, 700...</td>\n",
       "      <td>[318, 260, 2571, 2858, 1196, 527, 858, 1210, 2...</td>\n",
       "      <td>[388, 81932, 4014, 1943, 6638, 6807, 2908, 112...</td>\n",
       "      <td>[1217, 36, 6, 7, 2247, 4970, 3789, 912, 6385, ...</td>\n",
       "      <td>[26150, 3736, 2920, 6669, 670, 7502, 77658, 37...</td>\n",
       "    </tr>\n",
       "    <tr>\n",
       "      <th>238</th>\n",
       "      <td>[2336, 260, 2599, 1961, 3949, 1230, 527, 2329,...</td>\n",
       "      <td>[858, 260, 527, 1230, 2329, 3949, 2336, 1307, ...</td>\n",
       "      <td>[318, 260, 2571, 2858, 1196, 527, 858, 1210, 2...</td>\n",
       "      <td>[2396, 7303, 2352, 5303, 10, 1228, 45186, 1036...</td>\n",
       "      <td>[3424, 1280, 1923, 293, 7, 3911, 3246, 8910, 2...</td>\n",
       "      <td>[670, 3739, 26150, 2920, 7502, 3736, 6669, 776...</td>\n",
       "    </tr>\n",
       "    <tr>\n",
       "      <th>280</th>\n",
       "      <td>[973, 1103, 4880, 1747, 950, 3742]</td>\n",
       "      <td>[950, 3742, 1103, 973, 4880, 1747, 3, 7028, 70...</td>\n",
       "      <td>[318, 260, 2571, 2858, 1196, 527, 858, 1210, 2...</td>\n",
       "      <td>[8641, 4351, 1648, 762, 260, 442, 1213, 4231, ...</td>\n",
       "      <td>[1218, 515, 5989, 2278, 6985, 2959, 1939, 3967...</td>\n",
       "      <td>[26094, 858, 3739, 25805, 6643, 1221, 3232, 49...</td>\n",
       "    </tr>\n",
       "    <tr>\n",
       "      <th>283</th>\n",
       "      <td>[3363, 1189, 1127, 141, 500, 1079, 507]</td>\n",
       "      <td>[1189, 1079, 3363, 1127, 507, 141, 500, 7034, ...</td>\n",
       "      <td>[318, 260, 2571, 2858, 1196, 527, 858, 1210, 2...</td>\n",
       "      <td>[1213, 1240, 4995, 247, 1036, 1923, 592, 733, ...</td>\n",
       "      <td>[4995, 2858, 1227, 1036, 909, 1196, 337, 8596,...</td>\n",
       "      <td>[26150, 77658, 670, 6669, 2920, 3736, 7502, 68...</td>\n",
       "    </tr>\n",
       "    <tr>\n",
       "      <th>344</th>\n",
       "      <td>[3298, 6, 2502, 3178, 4973, 2128, 4881, 3538, ...</td>\n",
       "      <td>[4973, 2502, 4881, 6, 3129, 1747, 3178, 3298, ...</td>\n",
       "      <td>[318, 260, 2571, 2858, 1196, 527, 858, 1210, 2...</td>\n",
       "      <td>[7263, 3872, 6942, 2300, 32139, 1513, 912, 191...</td>\n",
       "      <td>[994, 3, 1897, 1641, 1643, 1196, 3083, 592, 27...</td>\n",
       "      <td>[26150, 670, 77658, 6669, 6643, 7939, 6818, 44...</td>\n",
       "    </tr>\n",
       "  </tbody>\n",
       "</table>\n",
       "</div>"
      ],
      "text/plain": [
       "                                                   actual  \\\n",
       "userId                                                      \n",
       "73                   [1187, 3684, 3174, 1228, 3668, 1276]   \n",
       "238     [2336, 260, 2599, 1961, 3949, 1230, 527, 2329,...   \n",
       "280                    [973, 1103, 4880, 1747, 950, 3742]   \n",
       "283               [3363, 1189, 1127, 141, 500, 1079, 507]   \n",
       "344     [3298, 6, 2502, 3178, 4973, 2128, 4881, 3538, ...   \n",
       "\n",
       "                                       cf_recommendations  \\\n",
       "userId                                                      \n",
       "73      [1228, 1276, 3668, 1187, 3684, 3174, 7026, 700...   \n",
       "238     [858, 260, 527, 1230, 2329, 3949, 2336, 1307, ...   \n",
       "280     [950, 3742, 1103, 973, 4880, 1747, 3, 7028, 70...   \n",
       "283     [1189, 1079, 3363, 1127, 507, 141, 500, 7034, ...   \n",
       "344     [4973, 2502, 4881, 6, 3129, 1747, 3178, 3298, ...   \n",
       "\n",
       "                                      pop_recommendations  \\\n",
       "userId                                                      \n",
       "73      [318, 260, 2571, 2858, 1196, 527, 858, 1210, 2...   \n",
       "238     [318, 260, 2571, 2858, 1196, 527, 858, 1210, 2...   \n",
       "280     [318, 260, 2571, 2858, 1196, 527, 858, 1210, 2...   \n",
       "283     [318, 260, 2571, 2858, 1196, 527, 858, 1210, 2...   \n",
       "344     [318, 260, 2571, 2858, 1196, 527, 858, 1210, 2...   \n",
       "\n",
       "                                   random_recommendations  \\\n",
       "userId                                                      \n",
       "73      [388, 81932, 4014, 1943, 6638, 6807, 2908, 112...   \n",
       "238     [2396, 7303, 2352, 5303, 10, 1228, 45186, 1036...   \n",
       "280     [8641, 4351, 1648, 762, 260, 442, 1213, 4231, ...   \n",
       "283     [1213, 1240, 4995, 247, 1036, 1923, 592, 733, ...   \n",
       "344     [7263, 3872, 6942, 2300, 32139, 1513, 912, 191...   \n",
       "\n",
       "                                 parallel_recommendations  \\\n",
       "userId                                                      \n",
       "73      [1217, 36, 6, 7, 2247, 4970, 3789, 912, 6385, ...   \n",
       "238     [3424, 1280, 1923, 293, 7, 3911, 3246, 8910, 2...   \n",
       "280     [1218, 515, 5989, 2278, 6985, 2959, 1939, 3967...   \n",
       "283     [4995, 2858, 1227, 1036, 909, 1196, 337, 8596,...   \n",
       "344     [994, 3, 1897, 1641, 1643, 1196, 3083, 592, 27...   \n",
       "\n",
       "                                  unrated_recommendations  \n",
       "userId                                                     \n",
       "73      [26150, 3736, 2920, 6669, 670, 7502, 77658, 37...  \n",
       "238     [670, 3739, 26150, 2920, 7502, 3736, 6669, 776...  \n",
       "280     [26094, 858, 3739, 25805, 6643, 1221, 3232, 49...  \n",
       "283     [26150, 77658, 670, 6669, 2920, 3736, 7502, 68...  \n",
       "344     [26150, 670, 77658, 6669, 6643, 7939, 6818, 44...  "
      ]
     },
     "execution_count": 197,
     "metadata": {},
     "output_type": "execute_result"
    }
   ],
   "source": [
    "recommended_movies.head()"
   ]
  },
  {
   "cell_type": "markdown",
   "id": "8476c7c6",
   "metadata": {},
   "source": [
    "#### 3.5 Make Unrated Recommendation"
   ]
  },
  {
   "cell_type": "markdown",
   "id": "93cf10e7",
   "metadata": {},
   "source": [
    "Basically recommendations should be restricted to the items the user has not used/watched. How can we know if one user will like/not like a movie he has not watched? Well, we already have a prediction algorithm. We can use it to predict the rating from any user/movie pair.\n",
    "\n",
    "We call this recommendations on movies a user has not rated as \"unrated recommendation\".\n",
    "\n",
    "Here is the precedure: for each user in the test data, find all movies he/she has not watched. Then we will create a new test set for the prediction. In this new set there are three columns: first column is about users in the (old) test set, second columnn is about the list of movies each user has not rated. third column is about the \"actual rating\". Since this data set is about movies user has not watched, there is no actual rating. We can just set all actual rating to be zero. This column is not useful for the modeling, but if we do not have this column, the algorithm does not work. So we will just have this column in our data. Our focus is on the predicted rating. "
   ]
  },
  {
   "cell_type": "code",
   "execution_count": 51,
   "id": "512b3190",
   "metadata": {},
   "outputs": [],
   "source": [
    "# all movies in the rating file\n",
    "movies_in_rating = ratings.movieId.unique()"
   ]
  },
  {
   "cell_type": "code",
   "execution_count": 52,
   "id": "7956bfce",
   "metadata": {},
   "outputs": [
    {
     "name": "stdout",
     "output_type": "stream",
     "text": [
      "i =  0\n",
      "i =  100\n",
      "i =  200\n",
      "i =  300\n",
      "i =  400\n",
      "i =  500\n",
      "i =  600\n",
      "i =  700\n",
      "i =  800\n",
      "i =  900\n",
      "i =  1000\n",
      "i =  1100\n",
      "i =  1200\n",
      "i =  1300\n",
      "i =  1400\n",
      "i =  1500\n",
      "i =  1600\n",
      "i =  1700\n",
      "i =  1800\n",
      "i =  1900\n",
      "i =  2000\n",
      "i =  2100\n",
      "i =  2200\n",
      "i =  2300\n"
     ]
    }
   ],
   "source": [
    "predictions_unrated = []\n",
    "for i in range(len(recommended_movies.index)):\n",
    "    if(i%100)==0: print('i = ', i)\n",
    "    user = recommended_movies.index[i]      # for each user in the test data\n",
    "    movies_rated = ratings[ratings['userId']==user]['movieId']    # movies the user has rated\n",
    "    movies_not_rated = list(set(movies_in_rating) - set(movies_rated))      # movies the user has not rated\n",
    "    users_list = [user for i in range(len(movies_not_rated))]   # create a list with repeated user id\n",
    "    user_movie_pair = []        # create a list to store user movie pair\n",
    "    for i in range(len(users_list)):\n",
    "        user_movie_pair.append(tuple([users_list[i], movies_not_rated[i], 0]))    # create a list of user, movie, dummy rating pair \n",
    "    pred = pd.DataFrame(svdpp.test(user_movie_pair))       # use our prediction algorithm to predict the rating\n",
    "    pred = pred.sort_values('est', ascending=False)       # sort the data by the predicted rating value\n",
    "    predictions_unrated.append(pred['iid'].head(10).tolist())    # return the ids of 10 movies with highest predicted rating"
   ]
  },
  {
   "cell_type": "code",
   "execution_count": 180,
   "id": "bee4d22b",
   "metadata": {},
   "outputs": [],
   "source": [
    "# add unrated recommendations to the recommendation matrix\n",
    "recommended_movies['unrated_recommendations'] = predictions_unrated"
   ]
  },
  {
   "cell_type": "code",
   "execution_count": 181,
   "id": "62bf468e",
   "metadata": {},
   "outputs": [
    {
     "data": {
      "text/html": [
       "<div>\n",
       "<style scoped>\n",
       "    .dataframe tbody tr th:only-of-type {\n",
       "        vertical-align: middle;\n",
       "    }\n",
       "\n",
       "    .dataframe tbody tr th {\n",
       "        vertical-align: top;\n",
       "    }\n",
       "\n",
       "    .dataframe thead th {\n",
       "        text-align: right;\n",
       "    }\n",
       "</style>\n",
       "<table border=\"1\" class=\"dataframe\">\n",
       "  <thead>\n",
       "    <tr style=\"text-align: right;\">\n",
       "      <th></th>\n",
       "      <th>actual</th>\n",
       "      <th>cf_recommendations</th>\n",
       "      <th>pop_recommendations</th>\n",
       "      <th>random_recommendations</th>\n",
       "      <th>parallel_recommendations</th>\n",
       "      <th>unrated_recommendations</th>\n",
       "    </tr>\n",
       "    <tr>\n",
       "      <th>userId</th>\n",
       "      <th></th>\n",
       "      <th></th>\n",
       "      <th></th>\n",
       "      <th></th>\n",
       "      <th></th>\n",
       "      <th></th>\n",
       "    </tr>\n",
       "  </thead>\n",
       "  <tbody>\n",
       "    <tr>\n",
       "      <th>73</th>\n",
       "      <td>[1187, 3684, 3174, 1228, 3668, 1276]</td>\n",
       "      <td>[1228, 1276, 3668, 1187, 3684, 3174, 7026, 700...</td>\n",
       "      <td>[318, 260, 2571, 2858, 1196, 527, 858, 1210, 2...</td>\n",
       "      <td>[388, 81932, 4014, 1943, 6638, 6807, 2908, 112...</td>\n",
       "      <td>[5989, 6, 2396, 6, 26400, 1923, 1680, 1280, 39...</td>\n",
       "      <td>[26150, 3736, 2920, 6669, 670, 7502, 77658, 37...</td>\n",
       "    </tr>\n",
       "    <tr>\n",
       "      <th>238</th>\n",
       "      <td>[2336, 260, 2599, 1961, 3949, 1230, 527, 2329,...</td>\n",
       "      <td>[858, 260, 527, 1230, 2329, 3949, 2336, 1307, ...</td>\n",
       "      <td>[318, 260, 2571, 2858, 1196, 527, 858, 1210, 2...</td>\n",
       "      <td>[2396, 7303, 2352, 5303, 10, 1228, 45186, 1036...</td>\n",
       "      <td>[113573, 7, 6, 11, 6, 1704, 51678, 1358, 4119,...</td>\n",
       "      <td>[670, 3739, 26150, 2920, 7502, 3736, 6669, 776...</td>\n",
       "    </tr>\n",
       "    <tr>\n",
       "      <th>280</th>\n",
       "      <td>[973, 1103, 4880, 1747, 950, 3742]</td>\n",
       "      <td>[950, 3742, 1103, 973, 4880, 1747, 3, 7028, 70...</td>\n",
       "      <td>[318, 260, 2571, 2858, 1196, 527, 858, 1210, 2...</td>\n",
       "      <td>[8641, 4351, 1648, 762, 260, 442, 1213, 4231, ...</td>\n",
       "      <td>[26400, 3703, 3148, 6, 1535, 2313, 1225, 11357...</td>\n",
       "      <td>[26094, 858, 3739, 25805, 6643, 1221, 3232, 49...</td>\n",
       "    </tr>\n",
       "    <tr>\n",
       "      <th>283</th>\n",
       "      <td>[3363, 1189, 1127, 141, 500, 1079, 507]</td>\n",
       "      <td>[1189, 1079, 3363, 1127, 507, 141, 500, 7034, ...</td>\n",
       "      <td>[318, 260, 2571, 2858, 1196, 527, 858, 1210, 2...</td>\n",
       "      <td>[1213, 1240, 4995, 247, 1036, 1923, 592, 733, ...</td>\n",
       "      <td>[2336, 1307, 2028, 3789, 1649, 3265, 3083, 363...</td>\n",
       "      <td>[26150, 77658, 670, 6669, 2920, 3736, 7502, 68...</td>\n",
       "    </tr>\n",
       "    <tr>\n",
       "      <th>344</th>\n",
       "      <td>[3298, 6, 2502, 3178, 4973, 2128, 4881, 3538, ...</td>\n",
       "      <td>[4973, 2502, 4881, 6, 3129, 1747, 3178, 3298, ...</td>\n",
       "      <td>[318, 260, 2571, 2858, 1196, 527, 858, 1210, 2...</td>\n",
       "      <td>[7263, 3872, 6942, 2300, 32139, 1513, 912, 191...</td>\n",
       "      <td>[6, 1680, 2245, 11, 36, 3451, 2105, 6, 1649, 2...</td>\n",
       "      <td>[26150, 670, 77658, 6669, 6643, 7939, 6818, 44...</td>\n",
       "    </tr>\n",
       "  </tbody>\n",
       "</table>\n",
       "</div>"
      ],
      "text/plain": [
       "                                                   actual  \\\n",
       "userId                                                      \n",
       "73                   [1187, 3684, 3174, 1228, 3668, 1276]   \n",
       "238     [2336, 260, 2599, 1961, 3949, 1230, 527, 2329,...   \n",
       "280                    [973, 1103, 4880, 1747, 950, 3742]   \n",
       "283               [3363, 1189, 1127, 141, 500, 1079, 507]   \n",
       "344     [3298, 6, 2502, 3178, 4973, 2128, 4881, 3538, ...   \n",
       "\n",
       "                                       cf_recommendations  \\\n",
       "userId                                                      \n",
       "73      [1228, 1276, 3668, 1187, 3684, 3174, 7026, 700...   \n",
       "238     [858, 260, 527, 1230, 2329, 3949, 2336, 1307, ...   \n",
       "280     [950, 3742, 1103, 973, 4880, 1747, 3, 7028, 70...   \n",
       "283     [1189, 1079, 3363, 1127, 507, 141, 500, 7034, ...   \n",
       "344     [4973, 2502, 4881, 6, 3129, 1747, 3178, 3298, ...   \n",
       "\n",
       "                                      pop_recommendations  \\\n",
       "userId                                                      \n",
       "73      [318, 260, 2571, 2858, 1196, 527, 858, 1210, 2...   \n",
       "238     [318, 260, 2571, 2858, 1196, 527, 858, 1210, 2...   \n",
       "280     [318, 260, 2571, 2858, 1196, 527, 858, 1210, 2...   \n",
       "283     [318, 260, 2571, 2858, 1196, 527, 858, 1210, 2...   \n",
       "344     [318, 260, 2571, 2858, 1196, 527, 858, 1210, 2...   \n",
       "\n",
       "                                   random_recommendations  \\\n",
       "userId                                                      \n",
       "73      [388, 81932, 4014, 1943, 6638, 6807, 2908, 112...   \n",
       "238     [2396, 7303, 2352, 5303, 10, 1228, 45186, 1036...   \n",
       "280     [8641, 4351, 1648, 762, 260, 442, 1213, 4231, ...   \n",
       "283     [1213, 1240, 4995, 247, 1036, 1923, 592, 733, ...   \n",
       "344     [7263, 3872, 6942, 2300, 32139, 1513, 912, 191...   \n",
       "\n",
       "                                 parallel_recommendations  \\\n",
       "userId                                                      \n",
       "73      [5989, 6, 2396, 6, 26400, 1923, 1680, 1280, 39...   \n",
       "238     [113573, 7, 6, 11, 6, 1704, 51678, 1358, 4119,...   \n",
       "280     [26400, 3703, 3148, 6, 1535, 2313, 1225, 11357...   \n",
       "283     [2336, 1307, 2028, 3789, 1649, 3265, 3083, 363...   \n",
       "344     [6, 1680, 2245, 11, 36, 3451, 2105, 6, 1649, 2...   \n",
       "\n",
       "                                  unrated_recommendations  \n",
       "userId                                                     \n",
       "73      [26150, 3736, 2920, 6669, 670, 7502, 77658, 37...  \n",
       "238     [670, 3739, 26150, 2920, 7502, 3736, 6669, 776...  \n",
       "280     [26094, 858, 3739, 25805, 6643, 1221, 3232, 49...  \n",
       "283     [26150, 77658, 670, 6669, 2920, 3736, 7502, 68...  \n",
       "344     [26150, 670, 77658, 6669, 6643, 7939, 6818, 44...  "
      ]
     },
     "execution_count": 181,
     "metadata": {},
     "output_type": "execute_result"
    }
   ],
   "source": [
    "recommended_movies.head()"
   ]
  },
  {
   "cell_type": "markdown",
   "id": "6b8bc6e9",
   "metadata": {},
   "source": [
    "### 4. Evaluation on Recommendations "
   ]
  },
  {
   "cell_type": "markdown",
   "id": "92a5fb2a",
   "metadata": {},
   "source": [
    "Let's plot MAR@K (Mean Average at K) on all those recommendations. "
   ]
  },
  {
   "cell_type": "code",
   "execution_count": 182,
   "id": "57905a9c",
   "metadata": {},
   "outputs": [],
   "source": [
    "actual = recommended_movies.actual.values.tolist()\n",
    "cf_recommendations = recommended_movies.cf_recommendations.values.tolist()\n",
    "pop_recommendations = recommended_movies.pop_recommendations.values.tolist()\n",
    "random_recommendations = recommended_movies.random_recommendations.values.tolist()"
   ]
  },
  {
   "cell_type": "code",
   "execution_count": 183,
   "id": "6c1adda0",
   "metadata": {},
   "outputs": [],
   "source": [
    "parallel_recommendations = recommended_movies.parallel_recommendations.values.tolist()\n",
    "unrated_recommendations = recommended_movies.unrated_recommendations.values.tolist()"
   ]
  },
  {
   "cell_type": "code",
   "execution_count": 184,
   "id": "ea180656",
   "metadata": {},
   "outputs": [
    {
     "data": {
      "text/plain": [
       "[0.006716164998541742,\n",
       " 0.00977819701706851,\n",
       " 0.01173554961948596,\n",
       " 0.01332046476376805,\n",
       " 0.014607118714655951,\n",
       " 0.01597363728795046,\n",
       " 0.017145986815673146,\n",
       " 0.018116093563273723,\n",
       " 0.018883144486871565,\n",
       " 0.019628975475493513]"
      ]
     },
     "execution_count": 184,
     "metadata": {},
     "output_type": "execute_result"
    }
   ],
   "source": [
    "pop_mark = []\n",
    "for K in np.arange(1, 11):\n",
    "    pop_mark.extend([recmetrics.mark(actual, pop_recommendations, k=K)])\n",
    "pop_mark"
   ]
  },
  {
   "cell_type": "code",
   "execution_count": 185,
   "id": "2d719847",
   "metadata": {},
   "outputs": [
    {
     "data": {
      "text/plain": [
       "[0.0013866957147521649,\n",
       " 0.0021071941197973983,\n",
       " 0.002544815562065726,\n",
       " 0.002969639030637214,\n",
       " 0.0033938162206193145,\n",
       " 0.0035999112303333252,\n",
       " 0.0038397709367983587,\n",
       " 0.004041243071043648,\n",
       " 0.00428958920324179,\n",
       " 0.004434873226833337]"
      ]
     },
     "execution_count": 185,
     "metadata": {},
     "output_type": "execute_result"
    }
   ],
   "source": [
    "random_mark = []\n",
    "for K in np.arange(1, 11):\n",
    "    random_mark.extend([recmetrics.mark(actual, random_recommendations, k=K)])\n",
    "random_mark"
   ]
  },
  {
   "cell_type": "code",
   "execution_count": 186,
   "id": "ccc3d342",
   "metadata": {},
   "outputs": [
    {
     "data": {
      "text/plain": [
       "[0.12328020217075208,\n",
       " 0.23849588821247192,\n",
       " 0.34416148936454827,\n",
       " 0.4393573678227932,\n",
       " 0.523623704685113,\n",
       " 0.5967694982537145,\n",
       " 0.6589503795416143,\n",
       " 0.7138550056755,\n",
       " 0.7599523313000479,\n",
       " 0.7973720489261049]"
      ]
     },
     "execution_count": 186,
     "metadata": {},
     "output_type": "execute_result"
    }
   ],
   "source": [
    "cf_mark = []\n",
    "for K in np.arange(1, 11):\n",
    "    cf_mark.extend([recmetrics.mark(actual, cf_recommendations, k=K)])\n",
    "cf_mark"
   ]
  },
  {
   "cell_type": "code",
   "execution_count": 187,
   "id": "01065828",
   "metadata": {},
   "outputs": [
    {
     "data": {
      "text/plain": [
       "[0.0017035513132163573,\n",
       " 0.002440948633907493,\n",
       " 0.0029731404466217396,\n",
       " 0.0033502321822396,\n",
       " 0.00376763621024737,\n",
       " 0.004062970567073618,\n",
       " 0.00434032616608598,\n",
       " 0.004558623327730415,\n",
       " 0.004708007662366961,\n",
       " 0.004872014262216497]"
      ]
     },
     "execution_count": 187,
     "metadata": {},
     "output_type": "execute_result"
    }
   ],
   "source": [
    "parallel_mark = []\n",
    "for K in np.arange(1, 11):\n",
    "    parallel_mark.extend([recmetrics.mark(actual, parallel_recommendations, k=K)])\n",
    "parallel_mark"
   ]
  },
  {
   "cell_type": "code",
   "execution_count": 205,
   "id": "24bba05e",
   "metadata": {},
   "outputs": [
    {
     "data": {
      "text/plain": [
       "[0.00010299489066809292,\n",
       " 0.00019974326116689646,\n",
       " 0.0003017799678021008,\n",
       " 0.0003785792232118899,\n",
       " 0.00043366935326522054,\n",
       " 0.0005119482561294542,\n",
       " 0.0005836887823877732,\n",
       " 0.0006558643254355574,\n",
       " 0.0007039565563476428,\n",
       " 0.0007764372867789586]"
      ]
     },
     "execution_count": 205,
     "metadata": {},
     "output_type": "execute_result"
    }
   ],
   "source": [
    "unrated_mark = []\n",
    "for K in np.arange(1, 11):\n",
    "    unrated_mark.extend([recmetrics.mark(actual, unrated_recommendations, k=K)])\n",
    "unrated_mark"
   ]
  },
  {
   "cell_type": "code",
   "execution_count": 208,
   "id": "1768354c",
   "metadata": {},
   "outputs": [
    {
     "data": {
      "text/plain": [
       "[0.00046303441889180424,\n",
       " 0.0008103102330606574,\n",
       " 0.0010289653753151207,\n",
       " 0.0012411894839738642,\n",
       " 0.0014032515305859956,\n",
       " 0.0016026135720533007,\n",
       " 0.001790032265414269,\n",
       " 0.0019492003469083266,\n",
       " 0.00203066010578744,\n",
       " 0.0021464187105103916]"
      ]
     },
     "execution_count": 208,
     "metadata": {},
     "output_type": "execute_result"
    }
   ],
   "source": [
    "unrated_mark_2 = []\n",
    "for K in np.arange(1, 11):\n",
    "    unrated_mark_2.extend([recmetrics.mark(parallel_recommendations, unrated_recommendations, k=K)])\n",
    "unrated_mark_2"
   ]
  },
  {
   "cell_type": "code",
   "execution_count": 206,
   "id": "2b3dfc17",
   "metadata": {},
   "outputs": [],
   "source": [
    "mark_scores = [random_mark, pop_mark, cf_mark, parallel_mark, unrated_mark]\n",
    "index = range(1,10+1)\n",
    "names = ['Random Recommender', 'Popularity Recommender', 'Collaborative Filter', 'Parallel Recommender', 'Unrated Recommender']"
   ]
  },
  {
   "cell_type": "code",
   "execution_count": 207,
   "id": "6de99993",
   "metadata": {},
   "outputs": [
    {
     "data": {
      "image/png": "[encoded data removed]",
      "text/plain": [
       "<Figure size 1080x504 with 1 Axes>"
      ]
     },
     "metadata": {
      "needs_background": "light"
     },
     "output_type": "display_data"
    }
   ],
   "source": [
    "fig = plt.figure(figsize=(15, 7))\n",
    "recmetrics.mark_plot(mark_scores, model_names=names, k_range=index)"
   ]
  },
  {
   "cell_type": "markdown",
   "id": "292d8ecf",
   "metadata": {},
   "source": [
    "Conclusion: \n",
    "\n",
    "To explain the mean average recall at K, first let's see what recall means. A recall is defined as total predicted true positive divided by true positive. Here positive could be defined as a rating greater than 3.5. If a user gives a movie higher than 3.5, we also call the movie is \"relevant\" to the user. \n",
    "\n",
    "Recall at k is the proportion of relevant items found in the top-k recommendations. So in the MAR@K plot, a large slope of one recommenders means that many relevant items were found by using the recommender. We can see that the slope of the collaborative filtering is much higher than the other slopes. This means that the prediction from the collaborative filtering recommends many relevant items. \n",
    "\n",
    "But this raises a big problem. A good recommender should recommend items the user has never used but might be interested to use, not items the user has already used and rated. So if we have an efficient recommender, we should use it to predict ratings by a user to items(movies) he or she has never watched, and recommend items with high predicted ratings to this user. Because these movies have not watched by the user, there is no actual rating, so these movies are not relevant to this user, although they have high predicted rating by a powerful algorithm which is proved to be quite successful.\n",
    "\n",
    "In this study we use the SVD++ algorithm, which gives a RMSE of 0.43. This is believed to be quite low so we can say that the algorithm is successful. \n",
    "\n",
    "In the MAR@K plot, the slopes of the parallel recommender and the unrated recommender are quite flat. But we have confidence that both recommenders work well. This is because in the parallel recommenders we apply the idea \"users who liked those movies also watched...\", and in the unrated recommender, we use the SVD++ algorithm to predict ratings from movies a user has not rated, and recommend movies with high predicted ratings to this user. So although these two recommender give flat lines in the plot, we know they are useful to recommend movies that the users will most likely love. "
   ]
  },
  {
   "cell_type": "code",
   "execution_count": null,
   "id": "2e325bfc",
   "metadata": {},
   "outputs": [],
   "source": []
  }
 ],
 "metadata": {
  "kernelspec": {
   "display_name": "Python 3 (ipykernel)",
   "language": "python",
   "name": "python3"
  },
  "language_info": {
   "codemirror_mode": {
    "name": "ipython",
    "version": 3
   },
   "file_extension": ".py",
   "mimetype": "text/x-python",
   "name": "python",
   "nbconvert_exporter": "python",
   "pygments_lexer": "ipython3",
   "version": "3.9.7"
  }
 },
 "nbformat": 4,
 "nbformat_minor": 5
}
