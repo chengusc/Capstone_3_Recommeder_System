{
 "cells": [
  {
   "cell_type": "markdown",
   "id": "314e9d26",
   "metadata": {},
   "source": [
    "## MovieLens 20M Dataset Recommender System - 01_Data Wrangling and EDA"
   ]
  },
  {
   "cell_type": "markdown",
   "id": "ed700d05",
   "metadata": {},
   "source": [
    "This dataset describes 5-star rating and free-text tagging activity from [MovieLens](http://movielens.org), a movie recommendation service. These data were created by users between January 09, 1995 and March 31, 2015. This dataset was generated on March 31, 2015, and updated on October 17, 2016 to update links.csv and add genome-* files. \n",
    "\n",
    "Users were selected at random for inclusion. All selected users had rated at least 20 movies. No demographic information is included. Each user is represented by an id, and no other information is provided,\n",
    "\n",
    "The data are contained in six files, 'genome-scores.csv', 'genome-tags.csv', 'links.csv', 'movies.csv', 'ratings.csv' and 'tags.csv'.\n",
    "\n",
    "We would like to use it to build a model of recommender systems.\n",
    "\n",
    "This is the first part of the study: Data Wrangling and Exploratory Data Analysis (EDA)."
   ]
  },
  {
   "cell_type": "markdown",
   "id": "3bd60e2f",
   "metadata": {},
   "source": [
    "### Content\n",
    "### 1. Import Modules and Read Data Files\n",
    "#### 1.1 Import  Necessary Modules\n",
    "#### 1.2 Read Movie File\n",
    "#### 1.3 Read Rating File\n",
    "#### 1.4 Read Tag File\n",
    "#### 1.5 Read Genome Score File, Genome Tag File, and Links File\n",
    "### 2. Explore the data\n",
    "### 3. Data Wrangling and Export the Data"
   ]
  },
  {
   "cell_type": "markdown",
   "id": "a7218ad5",
   "metadata": {},
   "source": [
    "### 1. Import Modules and Read Data Files"
   ]
  },
  {
   "cell_type": "markdown",
   "id": "847b4709",
   "metadata": {},
   "source": [
    "#### 1.1 Import  Necessary Modules"
   ]
  },
  {
   "cell_type": "code",
   "execution_count": 1,
   "id": "cc166f70",
   "metadata": {},
   "outputs": [],
   "source": [
    "import pandas as pd\n",
    "import numpy as np"
   ]
  },
  {
   "cell_type": "markdown",
   "id": "0b898dd3",
   "metadata": {},
   "source": [
    "#### 1.2 Read Movie File"
   ]
  },
  {
   "cell_type": "code",
   "execution_count": 2,
   "id": "d3ebf802",
   "metadata": {},
   "outputs": [],
   "source": [
    "# First, read the movie file.\n",
    "movies = pd.read_csv('./ml-20m/movies.csv')"
   ]
  },
  {
   "cell_type": "code",
   "execution_count": 3,
   "id": "6e86f69a",
   "metadata": {},
   "outputs": [
    {
     "data": {
      "text/html": [
       "<div>\n",
       "<style scoped>\n",
       "    .dataframe tbody tr th:only-of-type {\n",
       "        vertical-align: middle;\n",
       "    }\n",
       "\n",
       "    .dataframe tbody tr th {\n",
       "        vertical-align: top;\n",
       "    }\n",
       "\n",
       "    .dataframe thead th {\n",
       "        text-align: right;\n",
       "    }\n",
       "</style>\n",
       "<table border=\"1\" class=\"dataframe\">\n",
       "  <thead>\n",
       "    <tr style=\"text-align: right;\">\n",
       "      <th></th>\n",
       "      <th>movieId</th>\n",
       "      <th>title</th>\n",
       "      <th>genres</th>\n",
       "    </tr>\n",
       "  </thead>\n",
       "  <tbody>\n",
       "    <tr>\n",
       "      <th>0</th>\n",
       "      <td>1</td>\n",
       "      <td>Toy Story (1995)</td>\n",
       "      <td>Adventure|Animation|Children|Comedy|Fantasy</td>\n",
       "    </tr>\n",
       "    <tr>\n",
       "      <th>1</th>\n",
       "      <td>2</td>\n",
       "      <td>Jumanji (1995)</td>\n",
       "      <td>Adventure|Children|Fantasy</td>\n",
       "    </tr>\n",
       "    <tr>\n",
       "      <th>2</th>\n",
       "      <td>3</td>\n",
       "      <td>Grumpier Old Men (1995)</td>\n",
       "      <td>Comedy|Romance</td>\n",
       "    </tr>\n",
       "    <tr>\n",
       "      <th>3</th>\n",
       "      <td>4</td>\n",
       "      <td>Waiting to Exhale (1995)</td>\n",
       "      <td>Comedy|Drama|Romance</td>\n",
       "    </tr>\n",
       "    <tr>\n",
       "      <th>4</th>\n",
       "      <td>5</td>\n",
       "      <td>Father of the Bride Part II (1995)</td>\n",
       "      <td>Comedy</td>\n",
       "    </tr>\n",
       "  </tbody>\n",
       "</table>\n",
       "</div>"
      ],
      "text/plain": [
       "   movieId                               title  \\\n",
       "0        1                    Toy Story (1995)   \n",
       "1        2                      Jumanji (1995)   \n",
       "2        3             Grumpier Old Men (1995)   \n",
       "3        4            Waiting to Exhale (1995)   \n",
       "4        5  Father of the Bride Part II (1995)   \n",
       "\n",
       "                                        genres  \n",
       "0  Adventure|Animation|Children|Comedy|Fantasy  \n",
       "1                   Adventure|Children|Fantasy  \n",
       "2                               Comedy|Romance  \n",
       "3                         Comedy|Drama|Romance  \n",
       "4                                       Comedy  "
      ]
     },
     "execution_count": 3,
     "metadata": {},
     "output_type": "execute_result"
    }
   ],
   "source": [
    "# look at the first few rows of the movie file.\n",
    "movies.head()"
   ]
  },
  {
   "cell_type": "code",
   "execution_count": 4,
   "id": "3cf28204",
   "metadata": {},
   "outputs": [
    {
     "data": {
      "text/plain": [
       "(27278, 3)"
      ]
     },
     "execution_count": 4,
     "metadata": {},
     "output_type": "execute_result"
    }
   ],
   "source": [
    "# look at the size of the movie file.\n",
    "movies.shape"
   ]
  },
  {
   "cell_type": "code",
   "execution_count": 5,
   "id": "7535ea81",
   "metadata": {},
   "outputs": [
    {
     "data": {
      "text/plain": [
       "27278"
      ]
     },
     "execution_count": 5,
     "metadata": {},
     "output_type": "execute_result"
    }
   ],
   "source": [
    "# see if every movie is unique.\n",
    "movies.movieId.nunique()"
   ]
  },
  {
   "cell_type": "markdown",
   "id": "f21b8f1e",
   "metadata": {},
   "source": [
    "We can see that every row is one movie and they are all unique in the movie file.\n",
    "Let's then read the rating file."
   ]
  },
  {
   "cell_type": "markdown",
   "id": "f38cc795",
   "metadata": {},
   "source": [
    "#### 1.3 Read Rating File"
   ]
  },
  {
   "cell_type": "code",
   "execution_count": 6,
   "id": "18d6410a",
   "metadata": {},
   "outputs": [],
   "source": [
    "# read the rating file.\n",
    "ratings = pd.read_csv('./ml-20m/ratings.csv')"
   ]
  },
  {
   "cell_type": "code",
   "execution_count": 7,
   "id": "201cec2c",
   "metadata": {},
   "outputs": [
    {
     "data": {
      "text/html": [
       "<div>\n",
       "<style scoped>\n",
       "    .dataframe tbody tr th:only-of-type {\n",
       "        vertical-align: middle;\n",
       "    }\n",
       "\n",
       "    .dataframe tbody tr th {\n",
       "        vertical-align: top;\n",
       "    }\n",
       "\n",
       "    .dataframe thead th {\n",
       "        text-align: right;\n",
       "    }\n",
       "</style>\n",
       "<table border=\"1\" class=\"dataframe\">\n",
       "  <thead>\n",
       "    <tr style=\"text-align: right;\">\n",
       "      <th></th>\n",
       "      <th>userId</th>\n",
       "      <th>movieId</th>\n",
       "      <th>rating</th>\n",
       "      <th>timestamp</th>\n",
       "    </tr>\n",
       "  </thead>\n",
       "  <tbody>\n",
       "    <tr>\n",
       "      <th>0</th>\n",
       "      <td>1</td>\n",
       "      <td>2</td>\n",
       "      <td>3.5</td>\n",
       "      <td>1112486027</td>\n",
       "    </tr>\n",
       "    <tr>\n",
       "      <th>1</th>\n",
       "      <td>1</td>\n",
       "      <td>29</td>\n",
       "      <td>3.5</td>\n",
       "      <td>1112484676</td>\n",
       "    </tr>\n",
       "    <tr>\n",
       "      <th>2</th>\n",
       "      <td>1</td>\n",
       "      <td>32</td>\n",
       "      <td>3.5</td>\n",
       "      <td>1112484819</td>\n",
       "    </tr>\n",
       "    <tr>\n",
       "      <th>3</th>\n",
       "      <td>1</td>\n",
       "      <td>47</td>\n",
       "      <td>3.5</td>\n",
       "      <td>1112484727</td>\n",
       "    </tr>\n",
       "    <tr>\n",
       "      <th>4</th>\n",
       "      <td>1</td>\n",
       "      <td>50</td>\n",
       "      <td>3.5</td>\n",
       "      <td>1112484580</td>\n",
       "    </tr>\n",
       "  </tbody>\n",
       "</table>\n",
       "</div>"
      ],
      "text/plain": [
       "   userId  movieId  rating   timestamp\n",
       "0       1        2     3.5  1112486027\n",
       "1       1       29     3.5  1112484676\n",
       "2       1       32     3.5  1112484819\n",
       "3       1       47     3.5  1112484727\n",
       "4       1       50     3.5  1112484580"
      ]
     },
     "execution_count": 7,
     "metadata": {},
     "output_type": "execute_result"
    }
   ],
   "source": [
    "# look at first few rows in the rating file.\n",
    "ratings.head()"
   ]
  },
  {
   "cell_type": "markdown",
   "id": "c4e04e70",
   "metadata": {},
   "source": [
    "We are curious to see if the rating time is related the rating values. So let's extract weekday, month and year from the timestamp, and see if the average rating differs among months, years, etc.  "
   ]
  },
  {
   "cell_type": "code",
   "execution_count": 8,
   "id": "c0f367d2",
   "metadata": {},
   "outputs": [],
   "source": [
    "# convert timestamp to datetime\n",
    "ratings['rating_time'] = pd.to_datetime(ratings['timestamp'], unit='s')"
   ]
  },
  {
   "cell_type": "code",
   "execution_count": 9,
   "id": "de2728c4",
   "metadata": {},
   "outputs": [
    {
     "data": {
      "text/html": [
       "<div>\n",
       "<style scoped>\n",
       "    .dataframe tbody tr th:only-of-type {\n",
       "        vertical-align: middle;\n",
       "    }\n",
       "\n",
       "    .dataframe tbody tr th {\n",
       "        vertical-align: top;\n",
       "    }\n",
       "\n",
       "    .dataframe thead th {\n",
       "        text-align: right;\n",
       "    }\n",
       "</style>\n",
       "<table border=\"1\" class=\"dataframe\">\n",
       "  <thead>\n",
       "    <tr style=\"text-align: right;\">\n",
       "      <th></th>\n",
       "      <th>userId</th>\n",
       "      <th>movieId</th>\n",
       "      <th>rating</th>\n",
       "      <th>timestamp</th>\n",
       "      <th>rating_time</th>\n",
       "    </tr>\n",
       "  </thead>\n",
       "  <tbody>\n",
       "    <tr>\n",
       "      <th>0</th>\n",
       "      <td>1</td>\n",
       "      <td>2</td>\n",
       "      <td>3.5</td>\n",
       "      <td>1112486027</td>\n",
       "      <td>2005-04-02 23:53:47</td>\n",
       "    </tr>\n",
       "    <tr>\n",
       "      <th>1</th>\n",
       "      <td>1</td>\n",
       "      <td>29</td>\n",
       "      <td>3.5</td>\n",
       "      <td>1112484676</td>\n",
       "      <td>2005-04-02 23:31:16</td>\n",
       "    </tr>\n",
       "    <tr>\n",
       "      <th>2</th>\n",
       "      <td>1</td>\n",
       "      <td>32</td>\n",
       "      <td>3.5</td>\n",
       "      <td>1112484819</td>\n",
       "      <td>2005-04-02 23:33:39</td>\n",
       "    </tr>\n",
       "    <tr>\n",
       "      <th>3</th>\n",
       "      <td>1</td>\n",
       "      <td>47</td>\n",
       "      <td>3.5</td>\n",
       "      <td>1112484727</td>\n",
       "      <td>2005-04-02 23:32:07</td>\n",
       "    </tr>\n",
       "    <tr>\n",
       "      <th>4</th>\n",
       "      <td>1</td>\n",
       "      <td>50</td>\n",
       "      <td>3.5</td>\n",
       "      <td>1112484580</td>\n",
       "      <td>2005-04-02 23:29:40</td>\n",
       "    </tr>\n",
       "  </tbody>\n",
       "</table>\n",
       "</div>"
      ],
      "text/plain": [
       "   userId  movieId  rating   timestamp         rating_time\n",
       "0       1        2     3.5  1112486027 2005-04-02 23:53:47\n",
       "1       1       29     3.5  1112484676 2005-04-02 23:31:16\n",
       "2       1       32     3.5  1112484819 2005-04-02 23:33:39\n",
       "3       1       47     3.5  1112484727 2005-04-02 23:32:07\n",
       "4       1       50     3.5  1112484580 2005-04-02 23:29:40"
      ]
     },
     "execution_count": 9,
     "metadata": {},
     "output_type": "execute_result"
    }
   ],
   "source": [
    "ratings.head()"
   ]
  },
  {
   "cell_type": "code",
   "execution_count": 10,
   "id": "17b8d8c3",
   "metadata": {},
   "outputs": [],
   "source": [
    "# extract day of week\n",
    "ratings['rating_weekday'] = ratings['rating_time'].dt.dayofweek"
   ]
  },
  {
   "cell_type": "code",
   "execution_count": 11,
   "id": "55c243ec",
   "metadata": {},
   "outputs": [],
   "source": [
    "# extract month\n",
    "ratings['rating_month'] = ratings['rating_time'].dt.month"
   ]
  },
  {
   "cell_type": "code",
   "execution_count": 12,
   "id": "535a64a8",
   "metadata": {},
   "outputs": [],
   "source": [
    "# extract year\n",
    "ratings['rating_year'] = ratings['rating_time'].dt.year"
   ]
  },
  {
   "cell_type": "code",
   "execution_count": 13,
   "id": "4bc65a4c",
   "metadata": {},
   "outputs": [
    {
     "data": {
      "text/html": [
       "<div>\n",
       "<style scoped>\n",
       "    .dataframe tbody tr th:only-of-type {\n",
       "        vertical-align: middle;\n",
       "    }\n",
       "\n",
       "    .dataframe tbody tr th {\n",
       "        vertical-align: top;\n",
       "    }\n",
       "\n",
       "    .dataframe thead th {\n",
       "        text-align: right;\n",
       "    }\n",
       "</style>\n",
       "<table border=\"1\" class=\"dataframe\">\n",
       "  <thead>\n",
       "    <tr style=\"text-align: right;\">\n",
       "      <th></th>\n",
       "      <th>userId</th>\n",
       "      <th>movieId</th>\n",
       "      <th>rating</th>\n",
       "      <th>timestamp</th>\n",
       "      <th>rating_time</th>\n",
       "      <th>rating_weekday</th>\n",
       "      <th>rating_month</th>\n",
       "      <th>rating_year</th>\n",
       "    </tr>\n",
       "  </thead>\n",
       "  <tbody>\n",
       "    <tr>\n",
       "      <th>0</th>\n",
       "      <td>1</td>\n",
       "      <td>2</td>\n",
       "      <td>3.5</td>\n",
       "      <td>1112486027</td>\n",
       "      <td>2005-04-02 23:53:47</td>\n",
       "      <td>5</td>\n",
       "      <td>4</td>\n",
       "      <td>2005</td>\n",
       "    </tr>\n",
       "    <tr>\n",
       "      <th>1</th>\n",
       "      <td>1</td>\n",
       "      <td>29</td>\n",
       "      <td>3.5</td>\n",
       "      <td>1112484676</td>\n",
       "      <td>2005-04-02 23:31:16</td>\n",
       "      <td>5</td>\n",
       "      <td>4</td>\n",
       "      <td>2005</td>\n",
       "    </tr>\n",
       "    <tr>\n",
       "      <th>2</th>\n",
       "      <td>1</td>\n",
       "      <td>32</td>\n",
       "      <td>3.5</td>\n",
       "      <td>1112484819</td>\n",
       "      <td>2005-04-02 23:33:39</td>\n",
       "      <td>5</td>\n",
       "      <td>4</td>\n",
       "      <td>2005</td>\n",
       "    </tr>\n",
       "    <tr>\n",
       "      <th>3</th>\n",
       "      <td>1</td>\n",
       "      <td>47</td>\n",
       "      <td>3.5</td>\n",
       "      <td>1112484727</td>\n",
       "      <td>2005-04-02 23:32:07</td>\n",
       "      <td>5</td>\n",
       "      <td>4</td>\n",
       "      <td>2005</td>\n",
       "    </tr>\n",
       "    <tr>\n",
       "      <th>4</th>\n",
       "      <td>1</td>\n",
       "      <td>50</td>\n",
       "      <td>3.5</td>\n",
       "      <td>1112484580</td>\n",
       "      <td>2005-04-02 23:29:40</td>\n",
       "      <td>5</td>\n",
       "      <td>4</td>\n",
       "      <td>2005</td>\n",
       "    </tr>\n",
       "  </tbody>\n",
       "</table>\n",
       "</div>"
      ],
      "text/plain": [
       "   userId  movieId  rating   timestamp         rating_time  rating_weekday  \\\n",
       "0       1        2     3.5  1112486027 2005-04-02 23:53:47               5   \n",
       "1       1       29     3.5  1112484676 2005-04-02 23:31:16               5   \n",
       "2       1       32     3.5  1112484819 2005-04-02 23:33:39               5   \n",
       "3       1       47     3.5  1112484727 2005-04-02 23:32:07               5   \n",
       "4       1       50     3.5  1112484580 2005-04-02 23:29:40               5   \n",
       "\n",
       "   rating_month  rating_year  \n",
       "0             4         2005  \n",
       "1             4         2005  \n",
       "2             4         2005  \n",
       "3             4         2005  \n",
       "4             4         2005  "
      ]
     },
     "execution_count": 13,
     "metadata": {},
     "output_type": "execute_result"
    }
   ],
   "source": [
    "ratings.head()"
   ]
  },
  {
   "cell_type": "code",
   "execution_count": 14,
   "id": "dfa97484",
   "metadata": {},
   "outputs": [
    {
     "data": {
      "text/plain": [
       "rating_weekday\n",
       "0    3.522597\n",
       "1    3.520359\n",
       "2    3.515987\n",
       "3    3.519239\n",
       "4    3.526774\n",
       "5    3.541368\n",
       "6    3.533937\n",
       "Name: rating, dtype: float64"
      ]
     },
     "execution_count": 14,
     "metadata": {},
     "output_type": "execute_result"
    }
   ],
   "source": [
    "# get the average rating at different weekdays\n",
    "ratings.groupby('rating_weekday')['rating'].mean()"
   ]
  },
  {
   "cell_type": "code",
   "execution_count": 15,
   "id": "f1ce0bff",
   "metadata": {},
   "outputs": [
    {
     "data": {
      "text/plain": [
       "rating_month\n",
       "1     3.520437\n",
       "2     3.524092\n",
       "3     3.496393\n",
       "4     3.528203\n",
       "5     3.514545\n",
       "6     3.513506\n",
       "7     3.517270\n",
       "8     3.505279\n",
       "9     3.528368\n",
       "10    3.565256\n",
       "11    3.546288\n",
       "12    3.539704\n",
       "Name: rating, dtype: float64"
      ]
     },
     "execution_count": 15,
     "metadata": {},
     "output_type": "execute_result"
    }
   ],
   "source": [
    "# get the average rating at different months\n",
    "ratings.groupby('rating_month')['rating'].mean()"
   ]
  },
  {
   "cell_type": "code",
   "execution_count": 16,
   "id": "1bf0104c",
   "metadata": {},
   "outputs": [
    {
     "data": {
      "text/plain": [
       "rating_year\n",
       "1995    3.750000\n",
       "1996    3.545408\n",
       "1997    3.588522\n",
       "1998    3.512484\n",
       "1999    3.616337\n",
       "2000    3.576119\n",
       "2001    3.533771\n",
       "2002    3.482654\n",
       "2003    3.474775\n",
       "2004    3.429614\n",
       "2005    3.434001\n",
       "2006    3.463172\n",
       "2007    3.471741\n",
       "2008    3.539019\n",
       "2009    3.508644\n",
       "2010    3.533408\n",
       "2011    3.562192\n",
       "2012    3.609827\n",
       "2013    3.644767\n",
       "2014    3.607711\n",
       "2015    3.499819\n",
       "Name: rating, dtype: float64"
      ]
     },
     "execution_count": 16,
     "metadata": {},
     "output_type": "execute_result"
    }
   ],
   "source": [
    "# get the average rating at different year\n",
    "ratings.groupby('rating_year')['rating'].mean()"
   ]
  },
  {
   "cell_type": "code",
   "execution_count": 17,
   "id": "fcda9492",
   "metadata": {},
   "outputs": [
    {
     "name": "stdout",
     "output_type": "stream",
     "text": [
      "<class 'pandas.core.frame.DataFrame'>\n",
      "RangeIndex: 20000263 entries, 0 to 20000262\n",
      "Data columns (total 8 columns):\n",
      " #   Column          Dtype         \n",
      "---  ------          -----         \n",
      " 0   userId          int64         \n",
      " 1   movieId         int64         \n",
      " 2   rating          float64       \n",
      " 3   timestamp       int64         \n",
      " 4   rating_time     datetime64[ns]\n",
      " 5   rating_weekday  int64         \n",
      " 6   rating_month    int64         \n",
      " 7   rating_year     int64         \n",
      "dtypes: datetime64[ns](1), float64(1), int64(6)\n",
      "memory usage: 1.2 GB\n"
     ]
    }
   ],
   "source": [
    "ratings.info()"
   ]
  },
  {
   "cell_type": "markdown",
   "id": "8a40db02",
   "metadata": {},
   "source": [
    "We can see that the rating at different weekday and months are quite close to each other, and rating at different years are different. So we would like to keep the year and remove the remaining. "
   ]
  },
  {
   "cell_type": "code",
   "execution_count": 18,
   "id": "c4d11604",
   "metadata": {},
   "outputs": [],
   "source": [
    "# column 'timestamp' is not necessary to our model. So let's drop it.\n",
    "ratings = ratings.drop(columns=['timestamp', 'rating_time', 'rating_weekday', 'rating_month'])"
   ]
  },
  {
   "cell_type": "code",
   "execution_count": 19,
   "id": "c18eadf3",
   "metadata": {},
   "outputs": [
    {
     "data": {
      "text/plain": [
       "userId         0\n",
       "movieId        0\n",
       "rating         0\n",
       "rating_year    0\n",
       "dtype: int64"
      ]
     },
     "execution_count": 19,
     "metadata": {},
     "output_type": "execute_result"
    }
   ],
   "source": [
    "# see if there is missing values in the rating file.\n",
    "ratings.isna().sum()"
   ]
  },
  {
   "cell_type": "markdown",
   "id": "58a78bf9",
   "metadata": {},
   "source": [
    "It shows that there is no missing values in the rating file."
   ]
  },
  {
   "cell_type": "code",
   "execution_count": 20,
   "id": "2a1a6895",
   "metadata": {},
   "outputs": [
    {
     "data": {
      "text/plain": [
       "(20000263, 4)"
      ]
     },
     "execution_count": 20,
     "metadata": {},
     "output_type": "execute_result"
    }
   ],
   "source": [
    "# look at the size of the rating file. \n",
    "ratings.shape"
   ]
  },
  {
   "cell_type": "markdown",
   "id": "93da903d",
   "metadata": {},
   "source": [
    "Next we want to build a model to predict users' rating. The steps are: 1. select a data with suitable size; 2. Split the data into train and test set; 3. Apply several algorithms and compare the performance. In this Notebook we will only work on the first part, which is to create a dataset with the right size. Considering the capacity for a personal computer, we think the size of 100,000 rows is good for this study. "
   ]
  },
  {
   "cell_type": "code",
   "execution_count": 21,
   "id": "63f0ea5b",
   "metadata": {},
   "outputs": [
    {
     "data": {
      "text/plain": [
       "138493"
      ]
     },
     "execution_count": 21,
     "metadata": {},
     "output_type": "execute_result"
    }
   ],
   "source": [
    "# look at how many people who give movie ratings.\n",
    "ratings['userId'].nunique()"
   ]
  },
  {
   "cell_type": "code",
   "execution_count": 22,
   "id": "cb800bae",
   "metadata": {},
   "outputs": [
    {
     "data": {
      "text/plain": [
       "26744"
      ]
     },
     "execution_count": 22,
     "metadata": {},
     "output_type": "execute_result"
    }
   ],
   "source": [
    "# look at how many movies in the rating file. \n",
    "ratings['movieId'].nunique()"
   ]
  },
  {
   "cell_type": "markdown",
   "id": "ffee8584",
   "metadata": {},
   "source": [
    "There are 138,493 users and 26744 movies in the rating file. "
   ]
  },
  {
   "cell_type": "markdown",
   "id": "87d3edf5",
   "metadata": {},
   "source": [
    "#### 1.4 Read Tag File"
   ]
  },
  {
   "cell_type": "code",
   "execution_count": 23,
   "id": "dc7a18c5",
   "metadata": {},
   "outputs": [],
   "source": [
    "tags = pd.read_csv('./ml-20m/tags.csv')"
   ]
  },
  {
   "cell_type": "code",
   "execution_count": 24,
   "id": "bb8fb6d2",
   "metadata": {},
   "outputs": [
    {
     "data": {
      "text/html": [
       "<div>\n",
       "<style scoped>\n",
       "    .dataframe tbody tr th:only-of-type {\n",
       "        vertical-align: middle;\n",
       "    }\n",
       "\n",
       "    .dataframe tbody tr th {\n",
       "        vertical-align: top;\n",
       "    }\n",
       "\n",
       "    .dataframe thead th {\n",
       "        text-align: right;\n",
       "    }\n",
       "</style>\n",
       "<table border=\"1\" class=\"dataframe\">\n",
       "  <thead>\n",
       "    <tr style=\"text-align: right;\">\n",
       "      <th></th>\n",
       "      <th>userId</th>\n",
       "      <th>movieId</th>\n",
       "      <th>tag</th>\n",
       "      <th>timestamp</th>\n",
       "    </tr>\n",
       "  </thead>\n",
       "  <tbody>\n",
       "    <tr>\n",
       "      <th>0</th>\n",
       "      <td>18</td>\n",
       "      <td>4141</td>\n",
       "      <td>Mark Waters</td>\n",
       "      <td>1240597180</td>\n",
       "    </tr>\n",
       "    <tr>\n",
       "      <th>1</th>\n",
       "      <td>65</td>\n",
       "      <td>208</td>\n",
       "      <td>dark hero</td>\n",
       "      <td>1368150078</td>\n",
       "    </tr>\n",
       "    <tr>\n",
       "      <th>2</th>\n",
       "      <td>65</td>\n",
       "      <td>353</td>\n",
       "      <td>dark hero</td>\n",
       "      <td>1368150079</td>\n",
       "    </tr>\n",
       "    <tr>\n",
       "      <th>3</th>\n",
       "      <td>65</td>\n",
       "      <td>521</td>\n",
       "      <td>noir thriller</td>\n",
       "      <td>1368149983</td>\n",
       "    </tr>\n",
       "    <tr>\n",
       "      <th>4</th>\n",
       "      <td>65</td>\n",
       "      <td>592</td>\n",
       "      <td>dark hero</td>\n",
       "      <td>1368150078</td>\n",
       "    </tr>\n",
       "  </tbody>\n",
       "</table>\n",
       "</div>"
      ],
      "text/plain": [
       "   userId  movieId            tag   timestamp\n",
       "0      18     4141    Mark Waters  1240597180\n",
       "1      65      208      dark hero  1368150078\n",
       "2      65      353      dark hero  1368150079\n",
       "3      65      521  noir thriller  1368149983\n",
       "4      65      592      dark hero  1368150078"
      ]
     },
     "execution_count": 24,
     "metadata": {},
     "output_type": "execute_result"
    }
   ],
   "source": [
    "# show the first few rows\n",
    "tags.head()"
   ]
  },
  {
   "cell_type": "code",
   "execution_count": 25,
   "id": "dd09694e",
   "metadata": {},
   "outputs": [
    {
     "data": {
      "text/plain": [
       "sci-fi             3384\n",
       "based on a book    3281\n",
       "atmospheric        2917\n",
       "comedy             2779\n",
       "action             2657\n",
       "surreal            2427\n",
       "BD-R               2334\n",
       "twist ending       2323\n",
       "funny              2072\n",
       "dystopia           1991\n",
       "Name: tag, dtype: int64"
      ]
     },
     "execution_count": 25,
     "metadata": {},
     "output_type": "execute_result"
    }
   ],
   "source": [
    "# show the top 10 tag values\n",
    "tags.tag.value_counts().head(10)"
   ]
  },
  {
   "cell_type": "code",
   "execution_count": 26,
   "id": "bba2a6b5",
   "metadata": {},
   "outputs": [
    {
     "data": {
      "text/plain": [
       "(465564, 4)"
      ]
     },
     "execution_count": 26,
     "metadata": {},
     "output_type": "execute_result"
    }
   ],
   "source": [
    "# show the tag file size\n",
    "tags.shape"
   ]
  },
  {
   "cell_type": "code",
   "execution_count": 27,
   "id": "8cba1294",
   "metadata": {},
   "outputs": [
    {
     "data": {
      "text/plain": [
       "7801"
      ]
     },
     "execution_count": 27,
     "metadata": {},
     "output_type": "execute_result"
    }
   ],
   "source": [
    "# show how many users give tags\n",
    "tags['userId'].nunique()"
   ]
  },
  {
   "cell_type": "code",
   "execution_count": 28,
   "id": "c02df046",
   "metadata": {},
   "outputs": [
    {
     "data": {
      "text/plain": [
       "19545"
      ]
     },
     "execution_count": 28,
     "metadata": {},
     "output_type": "execute_result"
    }
   ],
   "source": [
    "#show how many movies have tags\n",
    "tags['movieId'].nunique()"
   ]
  },
  {
   "cell_type": "markdown",
   "id": "0ac2908a",
   "metadata": {},
   "source": [
    "#### 1.5 Read Genome Score File, Genome Tag File, and Links File"
   ]
  },
  {
   "cell_type": "code",
   "execution_count": 29,
   "id": "2889e83d",
   "metadata": {},
   "outputs": [],
   "source": [
    "genome_scores = pd.read_csv('./ml-20m/genome-scores.csv')"
   ]
  },
  {
   "cell_type": "code",
   "execution_count": 30,
   "id": "992a8459",
   "metadata": {},
   "outputs": [],
   "source": [
    "genome_tags = pd.read_csv('./ml-20m/genome-tags.csv')"
   ]
  },
  {
   "cell_type": "code",
   "execution_count": 31,
   "id": "b227a018",
   "metadata": {},
   "outputs": [],
   "source": [
    "links = pd.read_csv('./ml-20m/links.csv')"
   ]
  },
  {
   "cell_type": "code",
   "execution_count": 32,
   "id": "f22a6b7d",
   "metadata": {},
   "outputs": [
    {
     "data": {
      "text/html": [
       "<div>\n",
       "<style scoped>\n",
       "    .dataframe tbody tr th:only-of-type {\n",
       "        vertical-align: middle;\n",
       "    }\n",
       "\n",
       "    .dataframe tbody tr th {\n",
       "        vertical-align: top;\n",
       "    }\n",
       "\n",
       "    .dataframe thead th {\n",
       "        text-align: right;\n",
       "    }\n",
       "</style>\n",
       "<table border=\"1\" class=\"dataframe\">\n",
       "  <thead>\n",
       "    <tr style=\"text-align: right;\">\n",
       "      <th></th>\n",
       "      <th>movieId</th>\n",
       "      <th>tagId</th>\n",
       "      <th>relevance</th>\n",
       "    </tr>\n",
       "  </thead>\n",
       "  <tbody>\n",
       "    <tr>\n",
       "      <th>0</th>\n",
       "      <td>1</td>\n",
       "      <td>1</td>\n",
       "      <td>0.02500</td>\n",
       "    </tr>\n",
       "    <tr>\n",
       "      <th>1</th>\n",
       "      <td>1</td>\n",
       "      <td>2</td>\n",
       "      <td>0.02500</td>\n",
       "    </tr>\n",
       "    <tr>\n",
       "      <th>2</th>\n",
       "      <td>1</td>\n",
       "      <td>3</td>\n",
       "      <td>0.05775</td>\n",
       "    </tr>\n",
       "    <tr>\n",
       "      <th>3</th>\n",
       "      <td>1</td>\n",
       "      <td>4</td>\n",
       "      <td>0.09675</td>\n",
       "    </tr>\n",
       "    <tr>\n",
       "      <th>4</th>\n",
       "      <td>1</td>\n",
       "      <td>5</td>\n",
       "      <td>0.14675</td>\n",
       "    </tr>\n",
       "  </tbody>\n",
       "</table>\n",
       "</div>"
      ],
      "text/plain": [
       "   movieId  tagId  relevance\n",
       "0        1      1    0.02500\n",
       "1        1      2    0.02500\n",
       "2        1      3    0.05775\n",
       "3        1      4    0.09675\n",
       "4        1      5    0.14675"
      ]
     },
     "execution_count": 32,
     "metadata": {},
     "output_type": "execute_result"
    }
   ],
   "source": [
    "genome_scores.head()"
   ]
  },
  {
   "cell_type": "code",
   "execution_count": 33,
   "id": "51b1bfdc",
   "metadata": {},
   "outputs": [
    {
     "data": {
      "text/html": [
       "<div>\n",
       "<style scoped>\n",
       "    .dataframe tbody tr th:only-of-type {\n",
       "        vertical-align: middle;\n",
       "    }\n",
       "\n",
       "    .dataframe tbody tr th {\n",
       "        vertical-align: top;\n",
       "    }\n",
       "\n",
       "    .dataframe thead th {\n",
       "        text-align: right;\n",
       "    }\n",
       "</style>\n",
       "<table border=\"1\" class=\"dataframe\">\n",
       "  <thead>\n",
       "    <tr style=\"text-align: right;\">\n",
       "      <th></th>\n",
       "      <th>tagId</th>\n",
       "      <th>tag</th>\n",
       "    </tr>\n",
       "  </thead>\n",
       "  <tbody>\n",
       "    <tr>\n",
       "      <th>0</th>\n",
       "      <td>1</td>\n",
       "      <td>007</td>\n",
       "    </tr>\n",
       "    <tr>\n",
       "      <th>1</th>\n",
       "      <td>2</td>\n",
       "      <td>007 (series)</td>\n",
       "    </tr>\n",
       "    <tr>\n",
       "      <th>2</th>\n",
       "      <td>3</td>\n",
       "      <td>18th century</td>\n",
       "    </tr>\n",
       "    <tr>\n",
       "      <th>3</th>\n",
       "      <td>4</td>\n",
       "      <td>1920s</td>\n",
       "    </tr>\n",
       "    <tr>\n",
       "      <th>4</th>\n",
       "      <td>5</td>\n",
       "      <td>1930s</td>\n",
       "    </tr>\n",
       "  </tbody>\n",
       "</table>\n",
       "</div>"
      ],
      "text/plain": [
       "   tagId           tag\n",
       "0      1           007\n",
       "1      2  007 (series)\n",
       "2      3  18th century\n",
       "3      4         1920s\n",
       "4      5         1930s"
      ]
     },
     "execution_count": 33,
     "metadata": {},
     "output_type": "execute_result"
    }
   ],
   "source": [
    "genome_tags.head()"
   ]
  },
  {
   "cell_type": "code",
   "execution_count": 34,
   "id": "96a3174a",
   "metadata": {},
   "outputs": [
    {
     "data": {
      "text/html": [
       "<div>\n",
       "<style scoped>\n",
       "    .dataframe tbody tr th:only-of-type {\n",
       "        vertical-align: middle;\n",
       "    }\n",
       "\n",
       "    .dataframe tbody tr th {\n",
       "        vertical-align: top;\n",
       "    }\n",
       "\n",
       "    .dataframe thead th {\n",
       "        text-align: right;\n",
       "    }\n",
       "</style>\n",
       "<table border=\"1\" class=\"dataframe\">\n",
       "  <thead>\n",
       "    <tr style=\"text-align: right;\">\n",
       "      <th></th>\n",
       "      <th>movieId</th>\n",
       "      <th>imdbId</th>\n",
       "      <th>tmdbId</th>\n",
       "    </tr>\n",
       "  </thead>\n",
       "  <tbody>\n",
       "    <tr>\n",
       "      <th>0</th>\n",
       "      <td>1</td>\n",
       "      <td>114709</td>\n",
       "      <td>862.0</td>\n",
       "    </tr>\n",
       "    <tr>\n",
       "      <th>1</th>\n",
       "      <td>2</td>\n",
       "      <td>113497</td>\n",
       "      <td>8844.0</td>\n",
       "    </tr>\n",
       "    <tr>\n",
       "      <th>2</th>\n",
       "      <td>3</td>\n",
       "      <td>113228</td>\n",
       "      <td>15602.0</td>\n",
       "    </tr>\n",
       "    <tr>\n",
       "      <th>3</th>\n",
       "      <td>4</td>\n",
       "      <td>114885</td>\n",
       "      <td>31357.0</td>\n",
       "    </tr>\n",
       "    <tr>\n",
       "      <th>4</th>\n",
       "      <td>5</td>\n",
       "      <td>113041</td>\n",
       "      <td>11862.0</td>\n",
       "    </tr>\n",
       "  </tbody>\n",
       "</table>\n",
       "</div>"
      ],
      "text/plain": [
       "   movieId  imdbId   tmdbId\n",
       "0        1  114709    862.0\n",
       "1        2  113497   8844.0\n",
       "2        3  113228  15602.0\n",
       "3        4  114885  31357.0\n",
       "4        5  113041  11862.0"
      ]
     },
     "execution_count": 34,
     "metadata": {},
     "output_type": "execute_result"
    }
   ],
   "source": [
    "links.head()"
   ]
  },
  {
   "cell_type": "code",
   "execution_count": 35,
   "id": "2c5fa7d3",
   "metadata": {},
   "outputs": [
    {
     "data": {
      "text/plain": [
       "1       10381\n",
       "750     10381\n",
       "756     10381\n",
       "755     10381\n",
       "754     10381\n",
       "        ...  \n",
       "383     10381\n",
       "384     10381\n",
       "385     10381\n",
       "386     10381\n",
       "1128    10381\n",
       "Name: tagId, Length: 1128, dtype: int64"
      ]
     },
     "execution_count": 35,
     "metadata": {},
     "output_type": "execute_result"
    }
   ],
   "source": [
    "genome_scores.tagId.value_counts()"
   ]
  },
  {
   "cell_type": "code",
   "execution_count": 36,
   "id": "00f54c94",
   "metadata": {},
   "outputs": [
    {
     "data": {
      "text/plain": [
       "10381"
      ]
     },
     "execution_count": 36,
     "metadata": {},
     "output_type": "execute_result"
    }
   ],
   "source": [
    "genome_scores.movieId.nunique()"
   ]
  },
  {
   "cell_type": "code",
   "execution_count": 37,
   "id": "b8624e89",
   "metadata": {},
   "outputs": [
    {
     "data": {
      "text/plain": [
       "(11709768, 3)"
      ]
     },
     "execution_count": 37,
     "metadata": {},
     "output_type": "execute_result"
    }
   ],
   "source": [
    "genome_scores.shape"
   ]
  },
  {
   "cell_type": "markdown",
   "id": "593d8b50",
   "metadata": {},
   "source": [
    "### 2. Explore the data"
   ]
  },
  {
   "cell_type": "markdown",
   "id": "4b772330",
   "metadata": {},
   "source": [
    "Let's look at statistics on the data."
   ]
  },
  {
   "cell_type": "markdown",
   "id": "c932abcb",
   "metadata": {},
   "source": [
    "#### What is the average rating?"
   ]
  },
  {
   "cell_type": "code",
   "execution_count": 38,
   "id": "6f60b2a2",
   "metadata": {},
   "outputs": [
    {
     "data": {
      "text/plain": [
       "3.5255285642993797"
      ]
     },
     "execution_count": 38,
     "metadata": {},
     "output_type": "execute_result"
    }
   ],
   "source": [
    "ratings['rating'].mean()"
   ]
  },
  {
   "cell_type": "markdown",
   "id": "90bc43f4",
   "metadata": {},
   "source": [
    "The average rating for all movies is 3.5."
   ]
  },
  {
   "cell_type": "markdown",
   "id": "a64a1757",
   "metadata": {},
   "source": [
    "#### How many ratings each user gives on average?"
   ]
  },
  {
   "cell_type": "code",
   "execution_count": 39,
   "id": "0e331acd",
   "metadata": {},
   "outputs": [
    {
     "data": {
      "text/plain": [
       "144.4135299257002"
      ]
     },
     "execution_count": 39,
     "metadata": {},
     "output_type": "execute_result"
    }
   ],
   "source": [
    "ratings.shape[0] / ratings['userId'].nunique()"
   ]
  },
  {
   "cell_type": "markdown",
   "id": "60ae08c9",
   "metadata": {},
   "source": [
    "On average, each user gives 144 movie ratings."
   ]
  },
  {
   "cell_type": "markdown",
   "id": "3d98191d",
   "metadata": {},
   "source": [
    "#### Which movie has the most ratings?"
   ]
  },
  {
   "cell_type": "code",
   "execution_count": 40,
   "id": "0cede0e0",
   "metadata": {},
   "outputs": [
    {
     "data": {
      "text/plain": [
       "296    67310\n",
       "Name: movieId, dtype: int64"
      ]
     },
     "execution_count": 40,
     "metadata": {},
     "output_type": "execute_result"
    }
   ],
   "source": [
    "ratings['movieId'].value_counts().head(1)"
   ]
  },
  {
   "cell_type": "code",
   "execution_count": 41,
   "id": "828e71fc",
   "metadata": {},
   "outputs": [
    {
     "data": {
      "text/html": [
       "<div>\n",
       "<style scoped>\n",
       "    .dataframe tbody tr th:only-of-type {\n",
       "        vertical-align: middle;\n",
       "    }\n",
       "\n",
       "    .dataframe tbody tr th {\n",
       "        vertical-align: top;\n",
       "    }\n",
       "\n",
       "    .dataframe thead th {\n",
       "        text-align: right;\n",
       "    }\n",
       "</style>\n",
       "<table border=\"1\" class=\"dataframe\">\n",
       "  <thead>\n",
       "    <tr style=\"text-align: right;\">\n",
       "      <th></th>\n",
       "      <th>movieId</th>\n",
       "      <th>title</th>\n",
       "      <th>genres</th>\n",
       "    </tr>\n",
       "  </thead>\n",
       "  <tbody>\n",
       "    <tr>\n",
       "      <th>293</th>\n",
       "      <td>296</td>\n",
       "      <td>Pulp Fiction (1994)</td>\n",
       "      <td>Comedy|Crime|Drama|Thriller</td>\n",
       "    </tr>\n",
       "  </tbody>\n",
       "</table>\n",
       "</div>"
      ],
      "text/plain": [
       "     movieId                title                       genres\n",
       "293      296  Pulp Fiction (1994)  Comedy|Crime|Drama|Thriller"
      ]
     },
     "execution_count": 41,
     "metadata": {},
     "output_type": "execute_result"
    }
   ],
   "source": [
    "movies[movies['movieId']==296]"
   ]
  },
  {
   "cell_type": "markdown",
   "id": "0d059a24",
   "metadata": {},
   "source": [
    "#### What is the rating matrix sparsity?"
   ]
  },
  {
   "cell_type": "code",
   "execution_count": 73,
   "id": "f1e46408",
   "metadata": {},
   "outputs": [],
   "source": [
    "sparsity = len(final_ratings)/(final_ratings['movieId'].nunique()*final_ratings['userId'].nunique())"
   ]
  },
  {
   "cell_type": "markdown",
   "id": "5bbc1eab",
   "metadata": {},
   "source": [
    "The movie \"Pulp Fiction (1994)\" is the most rated movie. It has 67310 ratings. "
   ]
  },
  {
   "cell_type": "code",
   "execution_count": 74,
   "id": "e49fa659",
   "metadata": {},
   "outputs": [
    {
     "name": "stdout",
     "output_type": "stream",
     "text": [
      "The rating matrix sparsity is:  0.05412425137898957\n"
     ]
    }
   ],
   "source": [
    "print('The rating matrix sparsity is: ', sparsity)"
   ]
  },
  {
   "cell_type": "markdown",
   "id": "11344623",
   "metadata": {},
   "source": [
    "### 3. Data Wrangling and Export the Data"
   ]
  },
  {
   "cell_type": "markdown",
   "id": "703f10b5",
   "metadata": {},
   "source": [
    "Let's merge the rating file with the movie file, so that there will be information of title and genres in the rating file."
   ]
  },
  {
   "cell_type": "code",
   "execution_count": 42,
   "id": "3e005210",
   "metadata": {},
   "outputs": [],
   "source": [
    "# merge ratings with movie file. \n",
    "new_ratings = ratings.merge(movies, on='movieId', how='left')"
   ]
  },
  {
   "cell_type": "code",
   "execution_count": 43,
   "id": "e8687d42",
   "metadata": {},
   "outputs": [
    {
     "data": {
      "text/plain": [
       "((20000263, 4), (20000263, 6))"
      ]
     },
     "execution_count": 43,
     "metadata": {},
     "output_type": "execute_result"
    }
   ],
   "source": [
    "# check the size of the rating file before and after the merge.\n",
    "ratings.shape, new_ratings.shape"
   ]
  },
  {
   "cell_type": "markdown",
   "id": "998c9297",
   "metadata": {},
   "source": [
    "Let's then think about reducing data size. As mentioned before, our target is to reduce its size to about 100,000 rows. In order to do that, let's consider the genres, the count on users, and the count on movies.\n",
    "\n",
    "For the genres, we wants to select only the top 20 genres."
   ]
  },
  {
   "cell_type": "code",
   "execution_count": 44,
   "id": "7ff98a1b",
   "metadata": {},
   "outputs": [],
   "source": [
    "# create a dataframe with the top five genres\n",
    "most_rated_genres = pd.DataFrame(new_ratings.genres.value_counts(ascending=False).reset_index().head(20))"
   ]
  },
  {
   "cell_type": "code",
   "execution_count": 45,
   "id": "588ae01b",
   "metadata": {},
   "outputs": [
    {
     "data": {
      "text/html": [
       "<div>\n",
       "<style scoped>\n",
       "    .dataframe tbody tr th:only-of-type {\n",
       "        vertical-align: middle;\n",
       "    }\n",
       "\n",
       "    .dataframe tbody tr th {\n",
       "        vertical-align: top;\n",
       "    }\n",
       "\n",
       "    .dataframe thead th {\n",
       "        text-align: right;\n",
       "    }\n",
       "</style>\n",
       "<table border=\"1\" class=\"dataframe\">\n",
       "  <thead>\n",
       "    <tr style=\"text-align: right;\">\n",
       "      <th></th>\n",
       "      <th>index</th>\n",
       "      <th>genres</th>\n",
       "    </tr>\n",
       "  </thead>\n",
       "  <tbody>\n",
       "    <tr>\n",
       "      <th>0</th>\n",
       "      <td>Drama</td>\n",
       "      <td>1467402</td>\n",
       "    </tr>\n",
       "    <tr>\n",
       "      <th>1</th>\n",
       "      <td>Comedy</td>\n",
       "      <td>1316161</td>\n",
       "    </tr>\n",
       "    <tr>\n",
       "      <th>2</th>\n",
       "      <td>Comedy|Romance</td>\n",
       "      <td>793252</td>\n",
       "    </tr>\n",
       "    <tr>\n",
       "      <th>3</th>\n",
       "      <td>Comedy|Drama</td>\n",
       "      <td>656474</td>\n",
       "    </tr>\n",
       "    <tr>\n",
       "      <th>4</th>\n",
       "      <td>Drama|Romance</td>\n",
       "      <td>644626</td>\n",
       "    </tr>\n",
       "    <tr>\n",
       "      <th>5</th>\n",
       "      <td>Comedy|Drama|Romance</td>\n",
       "      <td>615897</td>\n",
       "    </tr>\n",
       "    <tr>\n",
       "      <th>6</th>\n",
       "      <td>Crime|Drama</td>\n",
       "      <td>467417</td>\n",
       "    </tr>\n",
       "    <tr>\n",
       "      <th>7</th>\n",
       "      <td>Action|Adventure|Sci-Fi</td>\n",
       "      <td>441351</td>\n",
       "    </tr>\n",
       "    <tr>\n",
       "      <th>8</th>\n",
       "      <td>Action|Adventure|Thriller</td>\n",
       "      <td>313902</td>\n",
       "    </tr>\n",
       "    <tr>\n",
       "      <th>9</th>\n",
       "      <td>Action|Crime|Thriller</td>\n",
       "      <td>310685</td>\n",
       "    </tr>\n",
       "    <tr>\n",
       "      <th>10</th>\n",
       "      <td>Drama|Thriller</td>\n",
       "      <td>292533</td>\n",
       "    </tr>\n",
       "    <tr>\n",
       "      <th>11</th>\n",
       "      <td>Action|Adventure|Sci-Fi|Thriller</td>\n",
       "      <td>291796</td>\n",
       "    </tr>\n",
       "    <tr>\n",
       "      <th>12</th>\n",
       "      <td>Drama|War</td>\n",
       "      <td>239542</td>\n",
       "    </tr>\n",
       "    <tr>\n",
       "      <th>13</th>\n",
       "      <td>Action|Sci-Fi|Thriller</td>\n",
       "      <td>232931</td>\n",
       "    </tr>\n",
       "    <tr>\n",
       "      <th>14</th>\n",
       "      <td>Crime|Drama|Thriller</td>\n",
       "      <td>217121</td>\n",
       "    </tr>\n",
       "    <tr>\n",
       "      <th>15</th>\n",
       "      <td>Comedy|Crime</td>\n",
       "      <td>217032</td>\n",
       "    </tr>\n",
       "    <tr>\n",
       "      <th>16</th>\n",
       "      <td>Action|Drama|War</td>\n",
       "      <td>213007</td>\n",
       "    </tr>\n",
       "    <tr>\n",
       "      <th>17</th>\n",
       "      <td>Action|Crime|Drama|Thriller</td>\n",
       "      <td>195241</td>\n",
       "    </tr>\n",
       "    <tr>\n",
       "      <th>18</th>\n",
       "      <td>Documentary</td>\n",
       "      <td>173848</td>\n",
       "    </tr>\n",
       "    <tr>\n",
       "      <th>19</th>\n",
       "      <td>Thriller</td>\n",
       "      <td>152139</td>\n",
       "    </tr>\n",
       "  </tbody>\n",
       "</table>\n",
       "</div>"
      ],
      "text/plain": [
       "                               index   genres\n",
       "0                              Drama  1467402\n",
       "1                             Comedy  1316161\n",
       "2                     Comedy|Romance   793252\n",
       "3                       Comedy|Drama   656474\n",
       "4                      Drama|Romance   644626\n",
       "5               Comedy|Drama|Romance   615897\n",
       "6                        Crime|Drama   467417\n",
       "7            Action|Adventure|Sci-Fi   441351\n",
       "8          Action|Adventure|Thriller   313902\n",
       "9              Action|Crime|Thriller   310685\n",
       "10                    Drama|Thriller   292533\n",
       "11  Action|Adventure|Sci-Fi|Thriller   291796\n",
       "12                         Drama|War   239542\n",
       "13            Action|Sci-Fi|Thriller   232931\n",
       "14              Crime|Drama|Thriller   217121\n",
       "15                      Comedy|Crime   217032\n",
       "16                  Action|Drama|War   213007\n",
       "17       Action|Crime|Drama|Thriller   195241\n",
       "18                       Documentary   173848\n",
       "19                          Thriller   152139"
      ]
     },
     "execution_count": 45,
     "metadata": {},
     "output_type": "execute_result"
    }
   ],
   "source": [
    "most_rated_genres"
   ]
  },
  {
   "cell_type": "code",
   "execution_count": 46,
   "id": "ef600a7a",
   "metadata": {},
   "outputs": [],
   "source": [
    "most_rated_genres = most_rated_genres.rename(columns=({'index':'genres', 'genres':'count'}))"
   ]
  },
  {
   "cell_type": "code",
   "execution_count": 47,
   "id": "afcbfc16",
   "metadata": {},
   "outputs": [
    {
     "data": {
      "text/html": [
       "<div>\n",
       "<style scoped>\n",
       "    .dataframe tbody tr th:only-of-type {\n",
       "        vertical-align: middle;\n",
       "    }\n",
       "\n",
       "    .dataframe tbody tr th {\n",
       "        vertical-align: top;\n",
       "    }\n",
       "\n",
       "    .dataframe thead th {\n",
       "        text-align: right;\n",
       "    }\n",
       "</style>\n",
       "<table border=\"1\" class=\"dataframe\">\n",
       "  <thead>\n",
       "    <tr style=\"text-align: right;\">\n",
       "      <th></th>\n",
       "      <th>genres</th>\n",
       "      <th>count</th>\n",
       "    </tr>\n",
       "  </thead>\n",
       "  <tbody>\n",
       "    <tr>\n",
       "      <th>0</th>\n",
       "      <td>Drama</td>\n",
       "      <td>1467402</td>\n",
       "    </tr>\n",
       "    <tr>\n",
       "      <th>1</th>\n",
       "      <td>Comedy</td>\n",
       "      <td>1316161</td>\n",
       "    </tr>\n",
       "    <tr>\n",
       "      <th>2</th>\n",
       "      <td>Comedy|Romance</td>\n",
       "      <td>793252</td>\n",
       "    </tr>\n",
       "    <tr>\n",
       "      <th>3</th>\n",
       "      <td>Comedy|Drama</td>\n",
       "      <td>656474</td>\n",
       "    </tr>\n",
       "    <tr>\n",
       "      <th>4</th>\n",
       "      <td>Drama|Romance</td>\n",
       "      <td>644626</td>\n",
       "    </tr>\n",
       "    <tr>\n",
       "      <th>5</th>\n",
       "      <td>Comedy|Drama|Romance</td>\n",
       "      <td>615897</td>\n",
       "    </tr>\n",
       "    <tr>\n",
       "      <th>6</th>\n",
       "      <td>Crime|Drama</td>\n",
       "      <td>467417</td>\n",
       "    </tr>\n",
       "    <tr>\n",
       "      <th>7</th>\n",
       "      <td>Action|Adventure|Sci-Fi</td>\n",
       "      <td>441351</td>\n",
       "    </tr>\n",
       "    <tr>\n",
       "      <th>8</th>\n",
       "      <td>Action|Adventure|Thriller</td>\n",
       "      <td>313902</td>\n",
       "    </tr>\n",
       "    <tr>\n",
       "      <th>9</th>\n",
       "      <td>Action|Crime|Thriller</td>\n",
       "      <td>310685</td>\n",
       "    </tr>\n",
       "    <tr>\n",
       "      <th>10</th>\n",
       "      <td>Drama|Thriller</td>\n",
       "      <td>292533</td>\n",
       "    </tr>\n",
       "    <tr>\n",
       "      <th>11</th>\n",
       "      <td>Action|Adventure|Sci-Fi|Thriller</td>\n",
       "      <td>291796</td>\n",
       "    </tr>\n",
       "    <tr>\n",
       "      <th>12</th>\n",
       "      <td>Drama|War</td>\n",
       "      <td>239542</td>\n",
       "    </tr>\n",
       "    <tr>\n",
       "      <th>13</th>\n",
       "      <td>Action|Sci-Fi|Thriller</td>\n",
       "      <td>232931</td>\n",
       "    </tr>\n",
       "    <tr>\n",
       "      <th>14</th>\n",
       "      <td>Crime|Drama|Thriller</td>\n",
       "      <td>217121</td>\n",
       "    </tr>\n",
       "    <tr>\n",
       "      <th>15</th>\n",
       "      <td>Comedy|Crime</td>\n",
       "      <td>217032</td>\n",
       "    </tr>\n",
       "    <tr>\n",
       "      <th>16</th>\n",
       "      <td>Action|Drama|War</td>\n",
       "      <td>213007</td>\n",
       "    </tr>\n",
       "    <tr>\n",
       "      <th>17</th>\n",
       "      <td>Action|Crime|Drama|Thriller</td>\n",
       "      <td>195241</td>\n",
       "    </tr>\n",
       "    <tr>\n",
       "      <th>18</th>\n",
       "      <td>Documentary</td>\n",
       "      <td>173848</td>\n",
       "    </tr>\n",
       "    <tr>\n",
       "      <th>19</th>\n",
       "      <td>Thriller</td>\n",
       "      <td>152139</td>\n",
       "    </tr>\n",
       "  </tbody>\n",
       "</table>\n",
       "</div>"
      ],
      "text/plain": [
       "                              genres    count\n",
       "0                              Drama  1467402\n",
       "1                             Comedy  1316161\n",
       "2                     Comedy|Romance   793252\n",
       "3                       Comedy|Drama   656474\n",
       "4                      Drama|Romance   644626\n",
       "5               Comedy|Drama|Romance   615897\n",
       "6                        Crime|Drama   467417\n",
       "7            Action|Adventure|Sci-Fi   441351\n",
       "8          Action|Adventure|Thriller   313902\n",
       "9              Action|Crime|Thriller   310685\n",
       "10                    Drama|Thriller   292533\n",
       "11  Action|Adventure|Sci-Fi|Thriller   291796\n",
       "12                         Drama|War   239542\n",
       "13            Action|Sci-Fi|Thriller   232931\n",
       "14              Crime|Drama|Thriller   217121\n",
       "15                      Comedy|Crime   217032\n",
       "16                  Action|Drama|War   213007\n",
       "17       Action|Crime|Drama|Thriller   195241\n",
       "18                       Documentary   173848\n",
       "19                          Thriller   152139"
      ]
     },
     "execution_count": 47,
     "metadata": {},
     "output_type": "execute_result"
    }
   ],
   "source": [
    "most_rated_genres"
   ]
  },
  {
   "cell_type": "markdown",
   "id": "09d28d8d",
   "metadata": {},
   "source": [
    "We will then select the ratings whose genres is within the top genres"
   ]
  },
  {
   "cell_type": "code",
   "execution_count": 48,
   "id": "43329119",
   "metadata": {},
   "outputs": [],
   "source": [
    "ratings_top_genres = new_ratings[new_ratings['genres'].isin(most_rated_genres['genres'])]"
   ]
  },
  {
   "cell_type": "code",
   "execution_count": 49,
   "id": "6c7a4144",
   "metadata": {},
   "outputs": [
    {
     "data": {
      "text/plain": [
       "((9252357, 6), (20000263, 6))"
      ]
     },
     "execution_count": 49,
     "metadata": {},
     "output_type": "execute_result"
    }
   ],
   "source": [
    "ratings_top_genres.shape, new_ratings.shape"
   ]
  },
  {
   "cell_type": "markdown",
   "id": "d739cf48",
   "metadata": {},
   "source": [
    "There are 400,000 rows in the new dataset. Let's then consider the count on users. We will select only users who give more than 200 ratings in the new dataset. "
   ]
  },
  {
   "cell_type": "code",
   "execution_count": 50,
   "id": "c315694f",
   "metadata": {},
   "outputs": [],
   "source": [
    "# list total users in the new rating data.\n",
    "user_counts = pd.DataFrame(ratings_top_genres.userId.value_counts().reset_index())"
   ]
  },
  {
   "cell_type": "code",
   "execution_count": 51,
   "id": "97d1227d",
   "metadata": {},
   "outputs": [],
   "source": [
    "most_rating_users = user_counts[user_counts['userId']>100]"
   ]
  },
  {
   "cell_type": "code",
   "execution_count": 52,
   "id": "41eb397a",
   "metadata": {},
   "outputs": [],
   "source": [
    "most_rating_users = most_rating_users.rename(columns=({'index':'userId', 'userId':'count'}))"
   ]
  },
  {
   "cell_type": "code",
   "execution_count": 53,
   "id": "3990e64f",
   "metadata": {},
   "outputs": [
    {
     "data": {
      "text/html": [
       "<div>\n",
       "<style scoped>\n",
       "    .dataframe tbody tr th:only-of-type {\n",
       "        vertical-align: middle;\n",
       "    }\n",
       "\n",
       "    .dataframe tbody tr th {\n",
       "        vertical-align: top;\n",
       "    }\n",
       "\n",
       "    .dataframe thead th {\n",
       "        text-align: right;\n",
       "    }\n",
       "</style>\n",
       "<table border=\"1\" class=\"dataframe\">\n",
       "  <thead>\n",
       "    <tr style=\"text-align: right;\">\n",
       "      <th></th>\n",
       "      <th>userId</th>\n",
       "      <th>count</th>\n",
       "    </tr>\n",
       "  </thead>\n",
       "  <tbody>\n",
       "    <tr>\n",
       "      <th>0</th>\n",
       "      <td>118205</td>\n",
       "      <td>4985</td>\n",
       "    </tr>\n",
       "    <tr>\n",
       "      <th>1</th>\n",
       "      <td>8405</td>\n",
       "      <td>3843</td>\n",
       "    </tr>\n",
       "    <tr>\n",
       "      <th>2</th>\n",
       "      <td>8963</td>\n",
       "      <td>3266</td>\n",
       "    </tr>\n",
       "    <tr>\n",
       "      <th>3</th>\n",
       "      <td>82418</td>\n",
       "      <td>3233</td>\n",
       "    </tr>\n",
       "    <tr>\n",
       "      <th>4</th>\n",
       "      <td>121535</td>\n",
       "      <td>2855</td>\n",
       "    </tr>\n",
       "    <tr>\n",
       "      <th>...</th>\n",
       "      <td>...</td>\n",
       "      <td>...</td>\n",
       "    </tr>\n",
       "    <tr>\n",
       "      <th>23635</th>\n",
       "      <td>117640</td>\n",
       "      <td>101</td>\n",
       "    </tr>\n",
       "    <tr>\n",
       "      <th>23636</th>\n",
       "      <td>11709</td>\n",
       "      <td>101</td>\n",
       "    </tr>\n",
       "    <tr>\n",
       "      <th>23637</th>\n",
       "      <td>91894</td>\n",
       "      <td>101</td>\n",
       "    </tr>\n",
       "    <tr>\n",
       "      <th>23638</th>\n",
       "      <td>14687</td>\n",
       "      <td>101</td>\n",
       "    </tr>\n",
       "    <tr>\n",
       "      <th>23639</th>\n",
       "      <td>132895</td>\n",
       "      <td>101</td>\n",
       "    </tr>\n",
       "  </tbody>\n",
       "</table>\n",
       "<p>23640 rows × 2 columns</p>\n",
       "</div>"
      ],
      "text/plain": [
       "       userId  count\n",
       "0      118205   4985\n",
       "1        8405   3843\n",
       "2        8963   3266\n",
       "3       82418   3233\n",
       "4      121535   2855\n",
       "...       ...    ...\n",
       "23635  117640    101\n",
       "23636   11709    101\n",
       "23637   91894    101\n",
       "23638   14687    101\n",
       "23639  132895    101\n",
       "\n",
       "[23640 rows x 2 columns]"
      ]
     },
     "execution_count": 53,
     "metadata": {},
     "output_type": "execute_result"
    }
   ],
   "source": [
    "most_rating_users"
   ]
  },
  {
   "cell_type": "code",
   "execution_count": 54,
   "id": "005168f5",
   "metadata": {},
   "outputs": [],
   "source": [
    "# create the new rating file\n",
    "new_ratings = ratings_top_genres[ratings_top_genres['userId'].isin(most_rating_users['userId'])]"
   ]
  },
  {
   "cell_type": "code",
   "execution_count": 55,
   "id": "26bcab08",
   "metadata": {},
   "outputs": [
    {
     "data": {
      "text/plain": [
       "((5486765, 6), (9252357, 6))"
      ]
     },
     "execution_count": 55,
     "metadata": {},
     "output_type": "execute_result"
    }
   ],
   "source": [
    "# check the new and old data size\n",
    "new_ratings.shape, ratings_top_genres.shape"
   ]
  },
  {
   "cell_type": "markdown",
   "id": "deea68eb",
   "metadata": {},
   "source": [
    "Finally let's consider the count on movie ids in the new dataset. We will drop movies with less than 500 ratings."
   ]
  },
  {
   "cell_type": "code",
   "execution_count": 56,
   "id": "408299fe",
   "metadata": {},
   "outputs": [],
   "source": [
    "movie_count = new_ratings['movieId'].value_counts()"
   ]
  },
  {
   "cell_type": "code",
   "execution_count": 57,
   "id": "49de625e",
   "metadata": {},
   "outputs": [
    {
     "data": {
      "text/plain": [
       "array([18386, 18377, 18336, ...,     1,     1,     1], dtype=int64)"
      ]
     },
     "execution_count": 57,
     "metadata": {},
     "output_type": "execute_result"
    }
   ],
   "source": [
    "movie_count.values"
   ]
  },
  {
   "cell_type": "code",
   "execution_count": 58,
   "id": "02d2bcbd",
   "metadata": {},
   "outputs": [],
   "source": [
    "most_rated_movies = movie_count[movie_count.values>100].index"
   ]
  },
  {
   "cell_type": "code",
   "execution_count": 59,
   "id": "ed6b1e7a",
   "metadata": {},
   "outputs": [
    {
     "data": {
      "text/plain": [
       "Int64Index([  480,  2571,   318,   260,  1196,  2858,  1210,   110,   780,\n",
       "              527,\n",
       "            ...\n",
       "            46959,  5215,  1519,  2545,  2061,   394,  6180, 62235,  6528,\n",
       "             6467],\n",
       "           dtype='int64', length=4078)"
      ]
     },
     "execution_count": 59,
     "metadata": {},
     "output_type": "execute_result"
    }
   ],
   "source": [
    "most_rated_movies"
   ]
  },
  {
   "cell_type": "code",
   "execution_count": 60,
   "id": "accc4abc",
   "metadata": {},
   "outputs": [],
   "source": [
    "latest_ratings = new_ratings[new_ratings['movieId'].isin(most_rated_movies)]"
   ]
  },
  {
   "cell_type": "code",
   "execution_count": 61,
   "id": "69af3e07",
   "metadata": {},
   "outputs": [
    {
     "data": {
      "text/plain": [
       "((5319088, 6), (5486765, 6))"
      ]
     },
     "execution_count": 61,
     "metadata": {},
     "output_type": "execute_result"
    }
   ],
   "source": [
    "latest_ratings.shape, new_ratings.shape"
   ]
  },
  {
   "cell_type": "code",
   "execution_count": 62,
   "id": "2f1ba797",
   "metadata": {},
   "outputs": [],
   "source": [
    "final_users = most_rating_users.sample(frac=0.1)"
   ]
  },
  {
   "cell_type": "code",
   "execution_count": 63,
   "id": "9399f254",
   "metadata": {},
   "outputs": [
    {
     "data": {
      "text/html": [
       "<div>\n",
       "<style scoped>\n",
       "    .dataframe tbody tr th:only-of-type {\n",
       "        vertical-align: middle;\n",
       "    }\n",
       "\n",
       "    .dataframe tbody tr th {\n",
       "        vertical-align: top;\n",
       "    }\n",
       "\n",
       "    .dataframe thead th {\n",
       "        text-align: right;\n",
       "    }\n",
       "</style>\n",
       "<table border=\"1\" class=\"dataframe\">\n",
       "  <thead>\n",
       "    <tr style=\"text-align: right;\">\n",
       "      <th></th>\n",
       "      <th>userId</th>\n",
       "      <th>count</th>\n",
       "    </tr>\n",
       "  </thead>\n",
       "  <tbody>\n",
       "    <tr>\n",
       "      <th>10519</th>\n",
       "      <td>8558</td>\n",
       "      <td>184</td>\n",
       "    </tr>\n",
       "    <tr>\n",
       "      <th>21642</th>\n",
       "      <td>126307</td>\n",
       "      <td>109</td>\n",
       "    </tr>\n",
       "    <tr>\n",
       "      <th>17866</th>\n",
       "      <td>78181</td>\n",
       "      <td>126</td>\n",
       "    </tr>\n",
       "    <tr>\n",
       "      <th>5190</th>\n",
       "      <td>109762</td>\n",
       "      <td>279</td>\n",
       "    </tr>\n",
       "    <tr>\n",
       "      <th>13491</th>\n",
       "      <td>47736</td>\n",
       "      <td>155</td>\n",
       "    </tr>\n",
       "  </tbody>\n",
       "</table>\n",
       "</div>"
      ],
      "text/plain": [
       "       userId  count\n",
       "10519    8558    184\n",
       "21642  126307    109\n",
       "17866   78181    126\n",
       "5190   109762    279\n",
       "13491   47736    155"
      ]
     },
     "execution_count": 63,
     "metadata": {},
     "output_type": "execute_result"
    }
   ],
   "source": [
    "final_users.head()"
   ]
  },
  {
   "cell_type": "code",
   "execution_count": 64,
   "id": "e2f83099",
   "metadata": {},
   "outputs": [],
   "source": [
    "final_ratings = latest_ratings[latest_ratings['userId'].isin(final_users['userId'])]"
   ]
  },
  {
   "cell_type": "code",
   "execution_count": 65,
   "id": "0bd07a79",
   "metadata": {},
   "outputs": [
    {
     "data": {
      "text/plain": [
       "((521779, 6), (5319088, 6))"
      ]
     },
     "execution_count": 65,
     "metadata": {},
     "output_type": "execute_result"
    }
   ],
   "source": [
    "final_ratings.shape, latest_ratings.shape"
   ]
  },
  {
   "cell_type": "markdown",
   "id": "728c41c4",
   "metadata": {},
   "source": [
    "So the \"final_ratings\" is our final data for the rating predicting. Let's look at its details. "
   ]
  },
  {
   "cell_type": "code",
   "execution_count": 66,
   "id": "4b2653c5",
   "metadata": {},
   "outputs": [
    {
     "data": {
      "text/html": [
       "<div>\n",
       "<style scoped>\n",
       "    .dataframe tbody tr th:only-of-type {\n",
       "        vertical-align: middle;\n",
       "    }\n",
       "\n",
       "    .dataframe tbody tr th {\n",
       "        vertical-align: top;\n",
       "    }\n",
       "\n",
       "    .dataframe thead th {\n",
       "        text-align: right;\n",
       "    }\n",
       "</style>\n",
       "<table border=\"1\" class=\"dataframe\">\n",
       "  <thead>\n",
       "    <tr style=\"text-align: right;\">\n",
       "      <th></th>\n",
       "      <th>userId</th>\n",
       "      <th>movieId</th>\n",
       "      <th>rating</th>\n",
       "      <th>rating_year</th>\n",
       "      <th>title</th>\n",
       "      <th>genres</th>\n",
       "    </tr>\n",
       "  </thead>\n",
       "  <tbody>\n",
       "    <tr>\n",
       "      <th>8145</th>\n",
       "      <td>73</td>\n",
       "      <td>17</td>\n",
       "      <td>3.0</td>\n",
       "      <td>2000</td>\n",
       "      <td>Sense and Sensibility (1995)</td>\n",
       "      <td>Drama|Romance</td>\n",
       "    </tr>\n",
       "    <tr>\n",
       "      <th>8148</th>\n",
       "      <td>73</td>\n",
       "      <td>55</td>\n",
       "      <td>5.0</td>\n",
       "      <td>2000</td>\n",
       "      <td>Georgia (1995)</td>\n",
       "      <td>Drama</td>\n",
       "    </tr>\n",
       "    <tr>\n",
       "      <th>8149</th>\n",
       "      <td>73</td>\n",
       "      <td>110</td>\n",
       "      <td>5.0</td>\n",
       "      <td>2000</td>\n",
       "      <td>Braveheart (1995)</td>\n",
       "      <td>Action|Drama|War</td>\n",
       "    </tr>\n",
       "    <tr>\n",
       "      <th>8150</th>\n",
       "      <td>73</td>\n",
       "      <td>111</td>\n",
       "      <td>4.0</td>\n",
       "      <td>2000</td>\n",
       "      <td>Taxi Driver (1976)</td>\n",
       "      <td>Crime|Drama|Thriller</td>\n",
       "    </tr>\n",
       "    <tr>\n",
       "      <th>8152</th>\n",
       "      <td>73</td>\n",
       "      <td>246</td>\n",
       "      <td>4.0</td>\n",
       "      <td>2000</td>\n",
       "      <td>Hoop Dreams (1994)</td>\n",
       "      <td>Documentary</td>\n",
       "    </tr>\n",
       "  </tbody>\n",
       "</table>\n",
       "</div>"
      ],
      "text/plain": [
       "      userId  movieId  rating  rating_year                         title  \\\n",
       "8145      73       17     3.0         2000  Sense and Sensibility (1995)   \n",
       "8148      73       55     5.0         2000                Georgia (1995)   \n",
       "8149      73      110     5.0         2000             Braveheart (1995)   \n",
       "8150      73      111     4.0         2000            Taxi Driver (1976)   \n",
       "8152      73      246     4.0         2000            Hoop Dreams (1994)   \n",
       "\n",
       "                    genres  \n",
       "8145         Drama|Romance  \n",
       "8148                 Drama  \n",
       "8149      Action|Drama|War  \n",
       "8150  Crime|Drama|Thriller  \n",
       "8152           Documentary  "
      ]
     },
     "execution_count": 66,
     "metadata": {},
     "output_type": "execute_result"
    }
   ],
   "source": [
    "final_ratings.head()"
   ]
  },
  {
   "cell_type": "markdown",
   "id": "e888f9ff",
   "metadata": {},
   "source": [
    "Let's then count its userId, movieId, and genres."
   ]
  },
  {
   "cell_type": "code",
   "execution_count": 67,
   "id": "f5b8d937",
   "metadata": {},
   "outputs": [
    {
     "data": {
      "text/plain": [
       "125978    1960\n",
       "119531    1460\n",
       "128258    1368\n",
       "119048    1330\n",
       "112988    1323\n",
       "          ... \n",
       "37660       95\n",
       "105044      90\n",
       "111822      87\n",
       "94583       86\n",
       "83024       85\n",
       "Name: userId, Length: 2364, dtype: int64"
      ]
     },
     "execution_count": 67,
     "metadata": {},
     "output_type": "execute_result"
    }
   ],
   "source": [
    "final_ratings['userId'].value_counts()"
   ]
  },
  {
   "cell_type": "code",
   "execution_count": 68,
   "id": "715cc102",
   "metadata": {},
   "outputs": [
    {
     "data": {
      "text/plain": [
       "480       1845\n",
       "318       1843\n",
       "260       1828\n",
       "2571      1809\n",
       "1196      1781\n",
       "          ... \n",
       "5090         4\n",
       "26726        4\n",
       "8785         4\n",
       "100244       3\n",
       "94931        2\n",
       "Name: movieId, Length: 4078, dtype: int64"
      ]
     },
     "execution_count": 68,
     "metadata": {},
     "output_type": "execute_result"
    }
   ],
   "source": [
    "final_ratings['movieId'].value_counts()"
   ]
  },
  {
   "cell_type": "code",
   "execution_count": 69,
   "id": "f3e4f6ff",
   "metadata": {},
   "outputs": [
    {
     "data": {
      "text/plain": [
       "Drama                               87838\n",
       "Comedy                              79201\n",
       "Comedy|Romance                      44445\n",
       "Comedy|Drama                        40086\n",
       "Comedy|Drama|Romance                36596\n",
       "Drama|Romance                       36566\n",
       "Crime|Drama                         24270\n",
       "Action|Adventure|Sci-Fi             20587\n",
       "Drama|Thriller                      17405\n",
       "Action|Adventure|Thriller           16268\n",
       "Action|Crime|Thriller               14221\n",
       "Action|Adventure|Sci-Fi|Thriller    13874\n",
       "Crime|Drama|Thriller                13660\n",
       "Comedy|Crime                        13403\n",
       "Drama|War                           13079\n",
       "Action|Sci-Fi|Thriller              11675\n",
       "Action|Drama|War                    10396\n",
       "Documentary                         10212\n",
       "Action|Crime|Drama|Thriller          9851\n",
       "Thriller                             8146\n",
       "Name: genres, dtype: int64"
      ]
     },
     "execution_count": 69,
     "metadata": {},
     "output_type": "execute_result"
    }
   ],
   "source": [
    "final_ratings['genres'].value_counts()"
   ]
  },
  {
   "cell_type": "markdown",
   "id": "e58171f2",
   "metadata": {},
   "source": [
    "The last step is to write the final rating data to a new csv file. "
   ]
  },
  {
   "cell_type": "code",
   "execution_count": 72,
   "id": "3dd79a54",
   "metadata": {},
   "outputs": [],
   "source": [
    "file_name = './ml-20m/new_ratings.csv'\n",
    "final_ratings.to_csv(file_name, index=False)"
   ]
  }
 ],
 "metadata": {
  "kernelspec": {
   "display_name": "Python 3 (ipykernel)",
   "language": "python",
   "name": "python3"
  },
  "language_info": {
   "codemirror_mode": {
    "name": "ipython",
    "version": 3
   },
   "file_extension": ".py",
   "mimetype": "text/x-python",
   "name": "python",
   "nbconvert_exporter": "python",
   "pygments_lexer": "ipython3",
   "version": "3.9.7"
  }
 },
 "nbformat": 4,
 "nbformat_minor": 5
}
