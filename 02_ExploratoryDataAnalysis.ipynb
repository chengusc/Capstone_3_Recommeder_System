{
 "cells": [
  {
   "cell_type": "markdown",
   "id": "95323449",
   "metadata": {},
   "source": [
    "## MovieLens 20M Dataset Recommender System - 02_ExploratoryDataAnalysis"
   ]
  },
  {
   "cell_type": "markdown",
   "id": "bddc4e45",
   "metadata": {},
   "source": [
    "This dataset describes 5-star rating and free-text tagging activity from [MovieLens](http://movielens.org), a movie recommendation service. These data were created by users between January 09, 1995 and March 31, 2015. This dataset was generated on March 31, 2015, and updated on October 17, 2016 to update links.csv and add genome-* files. \n",
    "\n",
    "Users were selected at random for inclusion. All selected users had rated at least 20 movies. No demographic information is included. Each user is represented by an id, and no other information is provided,\n",
    "\n",
    "The data are contained in six files, 'genome-scores.csv', 'genome-tags.csv', 'links.csv', 'movies.csv', 'ratings.csv' and 'tags.csv'.\n",
    "\n",
    "We would like to use it to build a model of recommender systems.\n",
    "\n",
    "This is the second part of the study: Exploratory Data Analysis."
   ]
  },
  {
   "cell_type": "markdown",
   "id": "2183fd3a",
   "metadata": {},
   "source": [
    "### Content"
   ]
  },
  {
   "cell_type": "markdown",
   "id": "c8aa6ad7",
   "metadata": {},
   "source": [
    "### 1. Import Modules and Read Data File"
   ]
  },
  {
   "cell_type": "markdown",
   "id": "8596a474",
   "metadata": {},
   "source": [
    "#### 1.1 Import  Necessary Modules"
   ]
  },
  {
   "cell_type": "markdown",
   "id": "ab51c1a1",
   "metadata": {},
   "source": [
    "First let's import all necessary modules."
   ]
  },
  {
   "cell_type": "code",
   "execution_count": 1,
   "id": "cc166f70",
   "metadata": {},
   "outputs": [],
   "source": [
    "import pandas as pd\n",
    "import numpy as np\n",
    "import matplotlib.pyplot as plt"
   ]
  },
  {
   "cell_type": "code",
   "execution_count": 2,
   "id": "4975f263",
   "metadata": {},
   "outputs": [],
   "source": [
    "from surprise import Dataset, accuracy, Reader\n",
    "from surprise import SVD, SVDpp, KNNBasic, BaselineOnly, SlopeOne, CoClustering, NMF\n",
    "from surprise.model_selection import train_test_split, cross_validate, GridSearchCV"
   ]
  },
  {
   "cell_type": "markdown",
   "id": "10839955",
   "metadata": {},
   "source": [
    "#### 1.2 Read Data File"
   ]
  },
  {
   "cell_type": "markdown",
   "id": "977b5c5a",
   "metadata": {},
   "source": [
    "Let's then read data file."
   ]
  },
  {
   "cell_type": "code",
   "execution_count": 3,
   "id": "4e02bc52",
   "metadata": {},
   "outputs": [],
   "source": [
    "# First, read the rating file.\n",
    "ratings = pd.read_csv('./ml-20m/new_ratings.csv')"
   ]
  },
  {
   "cell_type": "code",
   "execution_count": 4,
   "id": "caaead6a",
   "metadata": {},
   "outputs": [
    {
     "data": {
      "text/html": [
       "<div>\n",
       "<style scoped>\n",
       "    .dataframe tbody tr th:only-of-type {\n",
       "        vertical-align: middle;\n",
       "    }\n",
       "\n",
       "    .dataframe tbody tr th {\n",
       "        vertical-align: top;\n",
       "    }\n",
       "\n",
       "    .dataframe thead th {\n",
       "        text-align: right;\n",
       "    }\n",
       "</style>\n",
       "<table border=\"1\" class=\"dataframe\">\n",
       "  <thead>\n",
       "    <tr style=\"text-align: right;\">\n",
       "      <th></th>\n",
       "      <th>userId</th>\n",
       "      <th>movieId</th>\n",
       "      <th>rating</th>\n",
       "      <th>title</th>\n",
       "      <th>genres</th>\n",
       "    </tr>\n",
       "  </thead>\n",
       "  <tbody>\n",
       "    <tr>\n",
       "      <th>0</th>\n",
       "      <td>24</td>\n",
       "      <td>5</td>\n",
       "      <td>2.0</td>\n",
       "      <td>Father of the Bride Part II (1995)</td>\n",
       "      <td>Comedy</td>\n",
       "    </tr>\n",
       "    <tr>\n",
       "      <th>1</th>\n",
       "      <td>24</td>\n",
       "      <td>6</td>\n",
       "      <td>4.0</td>\n",
       "      <td>Heat (1995)</td>\n",
       "      <td>Action|Crime|Thriller</td>\n",
       "    </tr>\n",
       "    <tr>\n",
       "      <th>2</th>\n",
       "      <td>24</td>\n",
       "      <td>7</td>\n",
       "      <td>3.0</td>\n",
       "      <td>Sabrina (1995)</td>\n",
       "      <td>Comedy|Romance</td>\n",
       "    </tr>\n",
       "    <tr>\n",
       "      <th>3</th>\n",
       "      <td>24</td>\n",
       "      <td>10</td>\n",
       "      <td>3.0</td>\n",
       "      <td>GoldenEye (1995)</td>\n",
       "      <td>Action|Adventure|Thriller</td>\n",
       "    </tr>\n",
       "    <tr>\n",
       "      <th>4</th>\n",
       "      <td>24</td>\n",
       "      <td>16</td>\n",
       "      <td>5.0</td>\n",
       "      <td>Casino (1995)</td>\n",
       "      <td>Crime|Drama</td>\n",
       "    </tr>\n",
       "  </tbody>\n",
       "</table>\n",
       "</div>"
      ],
      "text/plain": [
       "   userId  movieId  rating                               title  \\\n",
       "0      24        5     2.0  Father of the Bride Part II (1995)   \n",
       "1      24        6     4.0                         Heat (1995)   \n",
       "2      24        7     3.0                      Sabrina (1995)   \n",
       "3      24       10     3.0                    GoldenEye (1995)   \n",
       "4      24       16     5.0                       Casino (1995)   \n",
       "\n",
       "                      genres  \n",
       "0                     Comedy  \n",
       "1      Action|Crime|Thriller  \n",
       "2             Comedy|Romance  \n",
       "3  Action|Adventure|Thriller  \n",
       "4                Crime|Drama  "
      ]
     },
     "execution_count": 4,
     "metadata": {},
     "output_type": "execute_result"
    }
   ],
   "source": [
    "# check the first few rows\n",
    "ratings.head()"
   ]
  },
  {
   "cell_type": "code",
   "execution_count": 5,
   "id": "2cbee2ed",
   "metadata": {},
   "outputs": [
    {
     "data": {
      "text/plain": [
       "4.0    154619\n",
       "3.0    110546\n",
       "3.5     70359\n",
       "5.0     62833\n",
       "4.5     43520\n",
       "2.0     38035\n",
       "2.5     26799\n",
       "1.0     15336\n",
       "1.5      7616\n",
       "0.5      5741\n",
       "Name: rating, dtype: int64"
      ]
     },
     "execution_count": 5,
     "metadata": {},
     "output_type": "execute_result"
    }
   ],
   "source": [
    "# count the values of rating\n",
    "ratings['rating'].value_counts()"
   ]
  },
  {
   "cell_type": "code",
   "execution_count": 6,
   "id": "1e35e68b",
   "metadata": {},
   "outputs": [
    {
     "data": {
      "text/plain": [
       "3.509636648213312"
      ]
     },
     "execution_count": 6,
     "metadata": {},
     "output_type": "execute_result"
    }
   ],
   "source": [
    "# calculate the average rating\n",
    "ratings['rating'].mean()"
   ]
  },
  {
   "cell_type": "markdown",
   "id": "2bc2ef65",
   "metadata": {},
   "source": [
    "### 2. Performance Evaluations on a Few Rating Prediction Models"
   ]
  },
  {
   "cell_type": "markdown",
   "id": "eea84afe",
   "metadata": {},
   "source": [
    "Our first task is to predict the user's rating. The basic idea is to split the rating data into train set and test, and use train set to build prediction models, and use the test set to test the model performance. This is the typical process for machine learning.  "
   ]
  },
  {
   "cell_type": "markdown",
   "id": "bf5baa91",
   "metadata": {},
   "source": [
    "So let's try a few models and see how they work. The first one is a basic model of \"Mean Combination\". Then we will use the module of popular \"surprise\", and try a few models from it.\n",
    "\n",
    "\"Surprise\" is a powerful module for building recommender system. The developer also give very detailed instruction for how to use the model. Please refer to their webpage for details: (https://surprise.readthedocs.io/en/stable/index.html)\n",
    "\n",
    "We will use the Root Mean Square Error (RMSE) as the model performance evaluation metrics. "
   ]
  },
  {
   "cell_type": "markdown",
   "id": "b669cf21",
   "metadata": {},
   "source": [
    "#### 2.1 The Mean Combination Model"
   ]
  },
  {
   "cell_type": "markdown",
   "id": "d5a780d3",
   "metadata": {},
   "source": [
    "This is a very basic model created by me. The idea is very simple: For every user/movie pair in the test data, calculate the average rating for this movie in train data, and then the average mean from this user to all movies in train data. Finally we combine the two means and use the combination as the rating prediction. \n",
    "\n",
    "To get the minimize the prediction error, we need to study what is the best combination. We will use different combination ratios and calculate the error for each ratio. Then we will be able to get the best ratio. \n",
    "Final Mean = Movie Average Rating * ratio + User Average Rating * (1-ratio)"
   ]
  },
  {
   "cell_type": "markdown",
   "id": "8fba8ee3",
   "metadata": {},
   "source": [
    "##### 2.1.1 Shuffle the Data and Split Train Test Data Sets"
   ]
  },
  {
   "cell_type": "code",
   "execution_count": 7,
   "id": "4ffe5bd1",
   "metadata": {},
   "outputs": [],
   "source": [
    "# shuffle the rating data\n",
    "ratings_shuffled = ratings.sample(frac=1, ignore_index=True, random_state=101)"
   ]
  },
  {
   "cell_type": "code",
   "execution_count": 8,
   "id": "eb30a4b1",
   "metadata": {},
   "outputs": [
    {
     "data": {
      "text/plain": [
       "((535404, 5), (535404, 5))"
      ]
     },
     "execution_count": 8,
     "metadata": {},
     "output_type": "execute_result"
    }
   ],
   "source": [
    "# check the data size before and after the shuffle\n",
    "ratings_shuffled.shape, ratings.shape"
   ]
  },
  {
   "cell_type": "code",
   "execution_count": 9,
   "id": "4068cd91",
   "metadata": {},
   "outputs": [],
   "source": [
    "# define the split position (train test data size ratio)\n",
    "split = int(ratings_shuffled.shape[0] * 0.9)"
   ]
  },
  {
   "cell_type": "code",
   "execution_count": 10,
   "id": "9cc9254a",
   "metadata": {},
   "outputs": [],
   "source": [
    "# split the data to train and test\n",
    "train = ratings_shuffled.loc[:split-1,]\n",
    "test = ratings_shuffled.loc[split:,]"
   ]
  },
  {
   "cell_type": "code",
   "execution_count": 11,
   "id": "8985a11a",
   "metadata": {},
   "outputs": [
    {
     "data": {
      "text/plain": [
       "((481863, 5), (53541, 5))"
      ]
     },
     "execution_count": 11,
     "metadata": {},
     "output_type": "execute_result"
    }
   ],
   "source": [
    "# check the train and test data size\n",
    "train.shape, test.shape"
   ]
  },
  {
   "cell_type": "markdown",
   "id": "88f60782",
   "metadata": {},
   "source": [
    "##### 2.1.2 Define Functions for the Model"
   ]
  },
  {
   "cell_type": "markdown",
   "id": "7820dfad",
   "metadata": {},
   "source": [
    "We need to define functions for calculating RMSE, for performance evaluation, and for rating prediction."
   ]
  },
  {
   "cell_type": "code",
   "execution_count": 12,
   "id": "a4589087",
   "metadata": {},
   "outputs": [],
   "source": [
    "# list the movies in the train data\n",
    "movies_in_train = train['movieId'].unique()"
   ]
  },
  {
   "cell_type": "code",
   "execution_count": 13,
   "id": "d9279500",
   "metadata": {},
   "outputs": [],
   "source": [
    "# list the movies in the total rating data\n",
    "movies_in_rating = ratings['movieId'].unique()"
   ]
  },
  {
   "cell_type": "code",
   "execution_count": 14,
   "id": "16e79b68",
   "metadata": {},
   "outputs": [],
   "source": [
    "# list the users in the train data\n",
    "users_in_train = train['userId'].unique()"
   ]
  },
  {
   "cell_type": "code",
   "execution_count": 15,
   "id": "f170ac0d",
   "metadata": {},
   "outputs": [],
   "source": [
    "users_in_test = test['userId'].values\n",
    "movies_in_test = test['movieId'].values"
   ]
  },
  {
   "cell_type": "code",
   "execution_count": 16,
   "id": "b3d130de",
   "metadata": {},
   "outputs": [],
   "source": [
    "# Define the function to compute Root Mean Squared Error\n",
    "def compute_rmse(y_pred, y_true):\n",
    "    \n",
    "    return np.sqrt(np.mean(np.power(y_pred - y_true, 2)))"
   ]
  },
  {
   "cell_type": "code",
   "execution_count": 17,
   "id": "b3cefaab",
   "metadata": {},
   "outputs": [],
   "source": [
    "# RMSE-based predictive performance evaluation with pandas\n",
    "def evaluate(estimate_f):\n",
    "    estimated = []\n",
    "    for i in range(len(test)):\n",
    "        if i%1000==0: print('i=',i,' total len=',len(test))\n",
    "        user = users_in_test[i]\n",
    "        movie = movies_in_test[i]\n",
    "        est = estimate_f(user, movie)\n",
    "        estimated.append(est)\n",
    "#    print(estimated)\n",
    "    real = test.rating.values\n",
    "#    print('len real:', len(real))\n",
    "#    print('type real', type(real))\n",
    "    return compute_rmse(estimated, real)"
   ]
  },
  {
   "cell_type": "code",
   "execution_count": 18,
   "id": "441f19c4",
   "metadata": {},
   "outputs": [],
   "source": [
    "# RMSE-based predictive performance evaluation for the mean combination model\n",
    "def evaluate_mc(ratio):\n",
    "    \"\"\" RMSE-based predictive performance evaluation with pandas. \"\"\"\n",
    "    estimated = []\n",
    "    for i in range(len(test)):\n",
    "        if i%1000==0: print('i=',i,' total len=',len(test))\n",
    "        user = users_in_test[i]\n",
    "        movie = movies_in_test[i]\n",
    "        est = means_combination(user, movie, ratio)\n",
    "        estimated.append(est)\n",
    "#    print(estimated)\n",
    "    real = test.rating.values\n",
    "    return compute_rmse(estimated, real)"
   ]
  },
  {
   "cell_type": "code",
   "execution_count": 19,
   "id": "ff4ea0c6",
   "metadata": {},
   "outputs": [],
   "source": [
    "# define rating prediction function (means combination)\n",
    "def means_combination(user_id, movie_id, ratio):\n",
    "    movie_condition = movie_id in movies_in_train  # True if the movie is in train\n",
    "    user_condition = user_id in users_in_train    # True if the user is in train\n",
    "\n",
    "    if movie_condition:\n",
    "        if user_condition:\n",
    "            mean_movie = train[train['movieId']==movie_id]['rating'].mean()  # movie average rating from train data\n",
    "            mean_user = train[train['userId']==user_id]['rating'].mean() # user average rating from train data\n",
    "            return (mean_movie*ratio + mean_user*(1.0-ratio))     # It is found that this combination of two means \n",
    "        else:                                           # gives the best performance\n",
    "            return train[train['movieId']==movie_id]['rating'].mean() # if user is not in train, return movie avg rating\n",
    "    elif user_condition:\n",
    "        return train[train['userId']==user_id]['rating'].mean() # if movie is not in train, return user avg rating\n",
    "    else:\n",
    "        return 3.5"
   ]
  },
  {
   "cell_type": "markdown",
   "id": "5f0fde40",
   "metadata": {},
   "source": [
    "##### 2.1.3 Parameter Tuning for Combination Ratio"
   ]
  },
  {
   "cell_type": "markdown",
   "id": "020a432f",
   "metadata": {},
   "source": [
    "We need to searh for the combination ratio which gives the best performance (lowest RMSE)."
   ]
  },
  {
   "cell_type": "code",
   "execution_count": 20,
   "id": "d0f74b1e",
   "metadata": {},
   "outputs": [
    {
     "name": "stdout",
     "output_type": "stream",
     "text": [
      "r= 0.45\n",
      "i= 0  total len= 53541\n",
      "i= 1000  total len= 53541\n",
      "i= 2000  total len= 53541\n",
      "i= 3000  total len= 53541\n",
      "i= 4000  total len= 53541\n",
      "i= 5000  total len= 53541\n",
      "i= 6000  total len= 53541\n",
      "i= 7000  total len= 53541\n",
      "i= 8000  total len= 53541\n",
      "i= 9000  total len= 53541\n",
      "i= 10000  total len= 53541\n",
      "i= 11000  total len= 53541\n",
      "i= 12000  total len= 53541\n",
      "i= 13000  total len= 53541\n",
      "i= 14000  total len= 53541\n",
      "i= 15000  total len= 53541\n",
      "i= 16000  total len= 53541\n",
      "i= 17000  total len= 53541\n",
      "i= 18000  total len= 53541\n",
      "i= 19000  total len= 53541\n",
      "i= 20000  total len= 53541\n",
      "i= 21000  total len= 53541\n",
      "i= 22000  total len= 53541\n",
      "i= 23000  total len= 53541\n",
      "i= 24000  total len= 53541\n",
      "i= 25000  total len= 53541\n",
      "i= 26000  total len= 53541\n",
      "i= 27000  total len= 53541\n",
      "i= 28000  total len= 53541\n",
      "i= 29000  total len= 53541\n",
      "i= 30000  total len= 53541\n",
      "i= 31000  total len= 53541\n",
      "i= 32000  total len= 53541\n",
      "i= 33000  total len= 53541\n",
      "i= 34000  total len= 53541\n",
      "i= 35000  total len= 53541\n",
      "i= 36000  total len= 53541\n",
      "i= 37000  total len= 53541\n",
      "i= 38000  total len= 53541\n",
      "i= 39000  total len= 53541\n",
      "i= 40000  total len= 53541\n",
      "i= 41000  total len= 53541\n",
      "i= 42000  total len= 53541\n",
      "i= 43000  total len= 53541\n",
      "i= 44000  total len= 53541\n",
      "i= 45000  total len= 53541\n",
      "i= 46000  total len= 53541\n",
      "i= 47000  total len= 53541\n",
      "i= 48000  total len= 53541\n",
      "i= 49000  total len= 53541\n",
      "i= 50000  total len= 53541\n",
      "i= 51000  total len= 53541\n",
      "i= 52000  total len= 53541\n",
      "i= 53000  total len= 53541\n",
      "r= 0.5\n",
      "i= 0  total len= 53541\n",
      "i= 1000  total len= 53541\n",
      "i= 2000  total len= 53541\n",
      "i= 3000  total len= 53541\n",
      "i= 4000  total len= 53541\n",
      "i= 5000  total len= 53541\n",
      "i= 6000  total len= 53541\n",
      "i= 7000  total len= 53541\n",
      "i= 8000  total len= 53541\n",
      "i= 9000  total len= 53541\n",
      "i= 10000  total len= 53541\n",
      "i= 11000  total len= 53541\n",
      "i= 12000  total len= 53541\n",
      "i= 13000  total len= 53541\n",
      "i= 14000  total len= 53541\n",
      "i= 15000  total len= 53541\n",
      "i= 16000  total len= 53541\n",
      "i= 17000  total len= 53541\n",
      "i= 18000  total len= 53541\n",
      "i= 19000  total len= 53541\n",
      "i= 20000  total len= 53541\n",
      "i= 21000  total len= 53541\n",
      "i= 22000  total len= 53541\n",
      "i= 23000  total len= 53541\n",
      "i= 24000  total len= 53541\n",
      "i= 25000  total len= 53541\n",
      "i= 26000  total len= 53541\n",
      "i= 27000  total len= 53541\n",
      "i= 28000  total len= 53541\n",
      "i= 29000  total len= 53541\n",
      "i= 30000  total len= 53541\n",
      "i= 31000  total len= 53541\n",
      "i= 32000  total len= 53541\n",
      "i= 33000  total len= 53541\n",
      "i= 34000  total len= 53541\n",
      "i= 35000  total len= 53541\n",
      "i= 36000  total len= 53541\n",
      "i= 37000  total len= 53541\n",
      "i= 38000  total len= 53541\n",
      "i= 39000  total len= 53541\n",
      "i= 40000  total len= 53541\n",
      "i= 41000  total len= 53541\n",
      "i= 42000  total len= 53541\n",
      "i= 43000  total len= 53541\n",
      "i= 44000  total len= 53541\n",
      "i= 45000  total len= 53541\n",
      "i= 46000  total len= 53541\n",
      "i= 47000  total len= 53541\n",
      "i= 48000  total len= 53541\n",
      "i= 49000  total len= 53541\n",
      "i= 50000  total len= 53541\n",
      "i= 51000  total len= 53541\n",
      "i= 52000  total len= 53541\n",
      "i= 53000  total len= 53541\n",
      "r= 0.55\n",
      "i= 0  total len= 53541\n",
      "i= 1000  total len= 53541\n",
      "i= 2000  total len= 53541\n",
      "i= 3000  total len= 53541\n",
      "i= 4000  total len= 53541\n",
      "i= 5000  total len= 53541\n",
      "i= 6000  total len= 53541\n",
      "i= 7000  total len= 53541\n",
      "i= 8000  total len= 53541\n",
      "i= 9000  total len= 53541\n",
      "i= 10000  total len= 53541\n",
      "i= 11000  total len= 53541\n",
      "i= 12000  total len= 53541\n",
      "i= 13000  total len= 53541\n",
      "i= 14000  total len= 53541\n",
      "i= 15000  total len= 53541\n",
      "i= 16000  total len= 53541\n",
      "i= 17000  total len= 53541\n",
      "i= 18000  total len= 53541\n",
      "i= 19000  total len= 53541\n",
      "i= 20000  total len= 53541\n",
      "i= 21000  total len= 53541\n",
      "i= 22000  total len= 53541\n",
      "i= 23000  total len= 53541\n",
      "i= 24000  total len= 53541\n",
      "i= 25000  total len= 53541\n",
      "i= 26000  total len= 53541\n",
      "i= 27000  total len= 53541\n",
      "i= 28000  total len= 53541\n",
      "i= 29000  total len= 53541\n",
      "i= 30000  total len= 53541\n",
      "i= 31000  total len= 53541\n",
      "i= 32000  total len= 53541\n",
      "i= 33000  total len= 53541\n",
      "i= 34000  total len= 53541\n",
      "i= 35000  total len= 53541\n",
      "i= 36000  total len= 53541\n",
      "i= 37000  total len= 53541\n",
      "i= 38000  total len= 53541\n",
      "i= 39000  total len= 53541\n",
      "i= 40000  total len= 53541\n",
      "i= 41000  total len= 53541\n",
      "i= 42000  total len= 53541\n",
      "i= 43000  total len= 53541\n",
      "i= 44000  total len= 53541\n",
      "i= 45000  total len= 53541\n",
      "i= 46000  total len= 53541\n",
      "i= 47000  total len= 53541\n",
      "i= 48000  total len= 53541\n",
      "i= 49000  total len= 53541\n",
      "i= 50000  total len= 53541\n",
      "i= 51000  total len= 53541\n",
      "i= 52000  total len= 53541\n",
      "i= 53000  total len= 53541\n",
      "r= 0.6\n",
      "i= 0  total len= 53541\n",
      "i= 1000  total len= 53541\n",
      "i= 2000  total len= 53541\n",
      "i= 3000  total len= 53541\n",
      "i= 4000  total len= 53541\n",
      "i= 5000  total len= 53541\n",
      "i= 6000  total len= 53541\n",
      "i= 7000  total len= 53541\n",
      "i= 8000  total len= 53541\n",
      "i= 9000  total len= 53541\n",
      "i= 10000  total len= 53541\n",
      "i= 11000  total len= 53541\n",
      "i= 12000  total len= 53541\n",
      "i= 13000  total len= 53541\n",
      "i= 14000  total len= 53541\n",
      "i= 15000  total len= 53541\n",
      "i= 16000  total len= 53541\n",
      "i= 17000  total len= 53541\n",
      "i= 18000  total len= 53541\n",
      "i= 19000  total len= 53541\n",
      "i= 20000  total len= 53541\n",
      "i= 21000  total len= 53541\n",
      "i= 22000  total len= 53541\n",
      "i= 23000  total len= 53541\n",
      "i= 24000  total len= 53541\n",
      "i= 25000  total len= 53541\n",
      "i= 26000  total len= 53541\n",
      "i= 27000  total len= 53541\n",
      "i= 28000  total len= 53541\n",
      "i= 29000  total len= 53541\n",
      "i= 30000  total len= 53541\n",
      "i= 31000  total len= 53541\n",
      "i= 32000  total len= 53541\n",
      "i= 33000  total len= 53541\n",
      "i= 34000  total len= 53541\n",
      "i= 35000  total len= 53541\n",
      "i= 36000  total len= 53541\n",
      "i= 37000  total len= 53541\n",
      "i= 38000  total len= 53541\n",
      "i= 39000  total len= 53541\n",
      "i= 40000  total len= 53541\n",
      "i= 41000  total len= 53541\n",
      "i= 42000  total len= 53541\n",
      "i= 43000  total len= 53541\n",
      "i= 44000  total len= 53541\n",
      "i= 45000  total len= 53541\n",
      "i= 46000  total len= 53541\n",
      "i= 47000  total len= 53541\n",
      "i= 48000  total len= 53541\n",
      "i= 49000  total len= 53541\n",
      "i= 50000  total len= 53541\n",
      "i= 51000  total len= 53541\n",
      "i= 52000  total len= 53541\n",
      "i= 53000  total len= 53541\n",
      "r= 0.6499999999999999\n",
      "i= 0  total len= 53541\n",
      "i= 1000  total len= 53541\n",
      "i= 2000  total len= 53541\n",
      "i= 3000  total len= 53541\n",
      "i= 4000  total len= 53541\n",
      "i= 5000  total len= 53541\n",
      "i= 6000  total len= 53541\n",
      "i= 7000  total len= 53541\n",
      "i= 8000  total len= 53541\n",
      "i= 9000  total len= 53541\n",
      "i= 10000  total len= 53541\n",
      "i= 11000  total len= 53541\n",
      "i= 12000  total len= 53541\n",
      "i= 13000  total len= 53541\n",
      "i= 14000  total len= 53541\n",
      "i= 15000  total len= 53541\n",
      "i= 16000  total len= 53541\n",
      "i= 17000  total len= 53541\n",
      "i= 18000  total len= 53541\n",
      "i= 19000  total len= 53541\n",
      "i= 20000  total len= 53541\n",
      "i= 21000  total len= 53541\n",
      "i= 22000  total len= 53541\n",
      "i= 23000  total len= 53541\n",
      "i= 24000  total len= 53541\n",
      "i= 25000  total len= 53541\n",
      "i= 26000  total len= 53541\n",
      "i= 27000  total len= 53541\n",
      "i= 28000  total len= 53541\n",
      "i= 29000  total len= 53541\n",
      "i= 30000  total len= 53541\n",
      "i= 31000  total len= 53541\n",
      "i= 32000  total len= 53541\n",
      "i= 33000  total len= 53541\n",
      "i= 34000  total len= 53541\n",
      "i= 35000  total len= 53541\n",
      "i= 36000  total len= 53541\n",
      "i= 37000  total len= 53541\n",
      "i= 38000  total len= 53541\n",
      "i= 39000  total len= 53541\n",
      "i= 40000  total len= 53541\n",
      "i= 41000  total len= 53541\n",
      "i= 42000  total len= 53541\n",
      "i= 43000  total len= 53541\n",
      "i= 44000  total len= 53541\n",
      "i= 45000  total len= 53541\n",
      "i= 46000  total len= 53541\n",
      "i= 47000  total len= 53541\n",
      "i= 48000  total len= 53541\n",
      "i= 49000  total len= 53541\n",
      "i= 50000  total len= 53541\n",
      "i= 51000  total len= 53541\n",
      "i= 52000  total len= 53541\n",
      "i= 53000  total len= 53541\n"
     ]
    }
   ],
   "source": [
    "# tuning the mean combination ratio\n",
    "ratio = []\n",
    "rmse = []\n",
    "\n",
    "for r in np.arange(0.45, 0.7, 0.05):\n",
    "    print('r=', r)\n",
    "    error = evaluate_mc(r)\n",
    "    ratio.append(r)\n",
    "    rmse.append(error)"
   ]
  },
  {
   "cell_type": "code",
   "execution_count": 21,
   "id": "171061d1",
   "metadata": {},
   "outputs": [],
   "source": [
    "# create a dataframe to include the tuning results\n",
    "rmse_df = pd.DataFrame({'ratio':ratio, 'rmse': rmse})"
   ]
  },
  {
   "cell_type": "code",
   "execution_count": 22,
   "id": "8776c0ae",
   "metadata": {},
   "outputs": [
    {
     "data": {
      "text/html": [
       "<div>\n",
       "<style scoped>\n",
       "    .dataframe tbody tr th:only-of-type {\n",
       "        vertical-align: middle;\n",
       "    }\n",
       "\n",
       "    .dataframe tbody tr th {\n",
       "        vertical-align: top;\n",
       "    }\n",
       "\n",
       "    .dataframe thead th {\n",
       "        text-align: right;\n",
       "    }\n",
       "</style>\n",
       "<table border=\"1\" class=\"dataframe\">\n",
       "  <thead>\n",
       "    <tr style=\"text-align: right;\">\n",
       "      <th></th>\n",
       "      <th>ratio</th>\n",
       "      <th>rmse</th>\n",
       "    </tr>\n",
       "  </thead>\n",
       "  <tbody>\n",
       "    <tr>\n",
       "      <th>0</th>\n",
       "      <td>0.45</td>\n",
       "      <td>0.869475</td>\n",
       "    </tr>\n",
       "    <tr>\n",
       "      <th>1</th>\n",
       "      <td>0.50</td>\n",
       "      <td>0.867911</td>\n",
       "    </tr>\n",
       "    <tr>\n",
       "      <th>2</th>\n",
       "      <td>0.55</td>\n",
       "      <td>0.867312</td>\n",
       "    </tr>\n",
       "    <tr>\n",
       "      <th>3</th>\n",
       "      <td>0.60</td>\n",
       "      <td>0.867681</td>\n",
       "    </tr>\n",
       "    <tr>\n",
       "      <th>4</th>\n",
       "      <td>0.65</td>\n",
       "      <td>0.869017</td>\n",
       "    </tr>\n",
       "  </tbody>\n",
       "</table>\n",
       "</div>"
      ],
      "text/plain": [
       "   ratio      rmse\n",
       "0   0.45  0.869475\n",
       "1   0.50  0.867911\n",
       "2   0.55  0.867312\n",
       "3   0.60  0.867681\n",
       "4   0.65  0.869017"
      ]
     },
     "execution_count": 22,
     "metadata": {},
     "output_type": "execute_result"
    }
   ],
   "source": [
    "rmse_df"
   ]
  },
  {
   "cell_type": "markdown",
   "id": "59cef806",
   "metadata": {},
   "source": [
    "Let's plot the RMSE vs ratio. "
   ]
  },
  {
   "cell_type": "code",
   "execution_count": 23,
   "id": "5c13ef09",
   "metadata": {},
   "outputs": [
    {
     "data": {
      "text/plain": [
       "[<matplotlib.lines.Line2D at 0x20c066eac40>]"
      ]
     },
     "execution_count": 23,
     "metadata": {},
     "output_type": "execute_result"
    },
    {
     "data": {
      "image/png": "[encoded data removed]",
      "text/plain": [
       "<Figure size 432x288 with 1 Axes>"
      ]
     },
     "metadata": {
      "needs_background": "light"
     },
     "output_type": "display_data"
    }
   ],
   "source": [
    "# plot the tuning result\n",
    "plt.plot(rmse_df['ratio'], rmse_df['rmse'])"
   ]
  },
  {
   "cell_type": "code",
   "execution_count": 24,
   "id": "542ae30c",
   "metadata": {},
   "outputs": [
    {
     "name": "stdout",
     "output_type": "stream",
     "text": [
      "i= 0  total len= 53541\n",
      "i= 1000  total len= 53541\n",
      "i= 2000  total len= 53541\n",
      "i= 3000  total len= 53541\n",
      "i= 4000  total len= 53541\n",
      "i= 5000  total len= 53541\n",
      "i= 6000  total len= 53541\n",
      "i= 7000  total len= 53541\n",
      "i= 8000  total len= 53541\n",
      "i= 9000  total len= 53541\n",
      "i= 10000  total len= 53541\n",
      "i= 11000  total len= 53541\n",
      "i= 12000  total len= 53541\n",
      "i= 13000  total len= 53541\n",
      "i= 14000  total len= 53541\n",
      "i= 15000  total len= 53541\n",
      "i= 16000  total len= 53541\n",
      "i= 17000  total len= 53541\n",
      "i= 18000  total len= 53541\n",
      "i= 19000  total len= 53541\n",
      "i= 20000  total len= 53541\n",
      "i= 21000  total len= 53541\n",
      "i= 22000  total len= 53541\n",
      "i= 23000  total len= 53541\n",
      "i= 24000  total len= 53541\n",
      "i= 25000  total len= 53541\n",
      "i= 26000  total len= 53541\n",
      "i= 27000  total len= 53541\n",
      "i= 28000  total len= 53541\n",
      "i= 29000  total len= 53541\n",
      "i= 30000  total len= 53541\n",
      "i= 31000  total len= 53541\n",
      "i= 32000  total len= 53541\n",
      "i= 33000  total len= 53541\n",
      "i= 34000  total len= 53541\n",
      "i= 35000  total len= 53541\n",
      "i= 36000  total len= 53541\n",
      "i= 37000  total len= 53541\n",
      "i= 38000  total len= 53541\n",
      "i= 39000  total len= 53541\n",
      "i= 40000  total len= 53541\n",
      "i= 41000  total len= 53541\n",
      "i= 42000  total len= 53541\n",
      "i= 43000  total len= 53541\n",
      "i= 44000  total len= 53541\n",
      "i= 45000  total len= 53541\n",
      "i= 46000  total len= 53541\n",
      "i= 47000  total len= 53541\n",
      "i= 48000  total len= 53541\n",
      "i= 49000  total len= 53541\n",
      "i= 50000  total len= 53541\n",
      "i= 51000  total len= 53541\n",
      "i= 52000  total len= 53541\n",
      "i= 53000  total len= 53541\n"
     ]
    }
   ],
   "source": [
    "# define the final RMSE for the mean combination model\n",
    "rmse_mc = evaluate_mc(0.55)"
   ]
  },
  {
   "cell_type": "markdown",
   "id": "ef8fa361",
   "metadata": {},
   "source": [
    "We can see that the RMSE is the minimum when ratio = 0.55. So we would like to use this value for evaluating the mean combination model."
   ]
  },
  {
   "cell_type": "code",
   "execution_count": 25,
   "id": "1162daf9",
   "metadata": {},
   "outputs": [
    {
     "data": {
      "text/plain": [
       "0.8673124600104097"
      ]
     },
     "execution_count": 25,
     "metadata": {},
     "output_type": "execute_result"
    }
   ],
   "source": [
    "rmse_mc"
   ]
  },
  {
   "cell_type": "markdown",
   "id": "50f1a2e3",
   "metadata": {},
   "source": [
    "So the RMSE for the combination mean model is 0.867."
   ]
  },
  {
   "cell_type": "markdown",
   "id": "06286088",
   "metadata": {},
   "source": [
    "#### 2.2 The Singular Value Decomposition (SVD) Model"
   ]
  },
  {
   "cell_type": "markdown",
   "id": "5867b430",
   "metadata": {},
   "source": [
    "The singular Value Decomposition is a popular model for recommender systems. Let's have a look on its performance.\n",
    "\n",
    "All models below in Part 2 are from the module \"surprise\"."
   ]
  },
  {
   "cell_type": "markdown",
   "id": "4f20abce",
   "metadata": {},
   "source": [
    "##### 2.2.1 Prepare the Data for the Model"
   ]
  },
  {
   "cell_type": "code",
   "execution_count": 26,
   "id": "da49fe30",
   "metadata": {},
   "outputs": [],
   "source": [
    "# All models in surprise use a special data type. First we need to convert the pandas dataframe to that special type.\n",
    "# A reader is still needed but only the rating_scale param is requiered.\n",
    "reader = Reader(rating_scale=(0, 5))\n",
    "\n",
    "# The columns must correspond to user id, item id and ratings (in that order).\n",
    "new_ratings = Dataset.load_from_df(ratings[['userId', 'movieId', 'rating']], reader)"
   ]
  },
  {
   "cell_type": "code",
   "execution_count": 27,
   "id": "5ce41705",
   "metadata": {},
   "outputs": [],
   "source": [
    "# split the rating into train data and test data\n",
    "trainset, testset = train_test_split(new_ratings, test_size=.10)"
   ]
  },
  {
   "cell_type": "markdown",
   "id": "38451554",
   "metadata": {},
   "source": [
    "##### 2.2.2 Use SVD Model for Cross Validation"
   ]
  },
  {
   "cell_type": "code",
   "execution_count": 28,
   "id": "7c55a128",
   "metadata": {},
   "outputs": [],
   "source": [
    "# create SVD model\n",
    "svd =  SVD()"
   ]
  },
  {
   "cell_type": "code",
   "execution_count": 29,
   "id": "7e750d40",
   "metadata": {},
   "outputs": [],
   "source": [
    "# fit model and predict rating for test data\n",
    "svd.fit(trainset)\n",
    "predictions = svd.test(testset)"
   ]
  },
  {
   "cell_type": "code",
   "execution_count": 30,
   "id": "b3733539",
   "metadata": {},
   "outputs": [
    {
     "name": "stdout",
     "output_type": "stream",
     "text": [
      "RMSE: 0.7854\n"
     ]
    },
    {
     "data": {
      "text/plain": [
       "0.7854476339506444"
      ]
     },
     "execution_count": 30,
     "metadata": {},
     "output_type": "execute_result"
    }
   ],
   "source": [
    "# print the prediction accuracy (RMSE)\n",
    "accuracy.rmse(predictions)"
   ]
  },
  {
   "cell_type": "code",
   "execution_count": 31,
   "id": "c68cfadd",
   "metadata": {},
   "outputs": [
    {
     "name": "stdout",
     "output_type": "stream",
     "text": [
      "Evaluating RMSE of algorithm SVD on 5 split(s).\n",
      "\n",
      "                  Fold 1  Fold 2  Fold 3  Fold 4  Fold 5  Mean    Std     \n",
      "RMSE (testset)    0.7910  0.7933  0.7922  0.7872  0.7917  0.7911  0.0021  \n",
      "Fit time          31.97   32.98   31.13   32.31   31.91   32.06   0.60    \n",
      "Test time         1.09    1.27    1.35    1.44    1.27    1.28    0.12    \n"
     ]
    },
    {
     "data": {
      "text/plain": [
       "{'test_rmse': array([0.79097322, 0.79332503, 0.79217944, 0.78724618, 0.79168907]),\n",
       " 'fit_time': (31.9696364402771,\n",
       "  32.97612738609314,\n",
       "  31.132506132125854,\n",
       "  32.309486627578735,\n",
       "  31.91457724571228),\n",
       " 'test_time': (1.087111234664917,\n",
       "  1.2664477825164795,\n",
       "  1.3547816276550293,\n",
       "  1.4407968521118164,\n",
       "  1.267171859741211)}"
      ]
     },
     "execution_count": 31,
     "metadata": {},
     "output_type": "execute_result"
    }
   ],
   "source": [
    "# cross validation on the SVD model\n",
    "cross_validate(svd, new_ratings, measures=['RMSE'], cv=5, verbose=True)"
   ]
  },
  {
   "cell_type": "markdown",
   "id": "b57411b3",
   "metadata": {},
   "source": [
    "So the RMSE for SVD model is 0.791 (mean RMSE from the cross validation results)."
   ]
  },
  {
   "cell_type": "code",
   "execution_count": 32,
   "id": "7c73e36a",
   "metadata": {},
   "outputs": [],
   "source": [
    "rmse_svd = 0.792"
   ]
  },
  {
   "cell_type": "markdown",
   "id": "d0add63f",
   "metadata": {},
   "source": [
    "#### 2.3 The Singular Value Decomposition Plus Plus (SVD++) Model"
   ]
  },
  {
   "cell_type": "markdown",
   "id": "e213db0a",
   "metadata": {},
   "source": [
    "SVD++ is an extension of SVD with taking into account implicit ratings."
   ]
  },
  {
   "cell_type": "code",
   "execution_count": 33,
   "id": "71fc5b6b",
   "metadata": {},
   "outputs": [],
   "source": [
    "# create the SVD++ model \n",
    "svdpp = SVDpp()"
   ]
  },
  {
   "cell_type": "code",
   "execution_count": 34,
   "id": "f16fc238",
   "metadata": {},
   "outputs": [
    {
     "data": {
      "text/plain": [
       "<surprise.prediction_algorithms.matrix_factorization.SVDpp at 0x20c1711f1f0>"
      ]
     },
     "execution_count": 34,
     "metadata": {},
     "output_type": "execute_result"
    }
   ],
   "source": [
    "# Fit the model\n",
    "svdpp.fit(trainset)"
   ]
  },
  {
   "cell_type": "code",
   "execution_count": 35,
   "id": "9bd621f9",
   "metadata": {},
   "outputs": [],
   "source": [
    "# predict the rating in the test data\n",
    "pred_svdpp = svdpp.test(testset)"
   ]
  },
  {
   "cell_type": "code",
   "execution_count": 36,
   "id": "26d55036",
   "metadata": {},
   "outputs": [
    {
     "name": "stdout",
     "output_type": "stream",
     "text": [
      "Evaluating RMSE of algorithm SVDpp on 5 split(s).\n",
      "\n",
      "                  Fold 1  Fold 2  Fold 3  Fold 4  Fold 5  Mean    Std     \n",
      "RMSE (testset)    0.7786  0.7762  0.7795  0.7749  0.7822  0.7783  0.0025  \n",
      "Fit time          1936.29 1906.43 1922.18 1890.28 1865.95 1904.23 24.56   \n",
      "Test time         39.32   38.38   38.33   38.78   38.48   38.66   0.37    \n"
     ]
    },
    {
     "data": {
      "text/plain": [
       "{'test_rmse': array([0.77860741, 0.77624688, 0.77947139, 0.77491023, 0.78216526]),\n",
       " 'fit_time': (1936.2895181179047,\n",
       "  1906.4337499141693,\n",
       "  1922.1777157783508,\n",
       "  1890.2785606384277,\n",
       "  1865.950136423111),\n",
       " 'test_time': (39.31971621513367,\n",
       "  38.379828453063965,\n",
       "  38.32975244522095,\n",
       "  38.78139305114746,\n",
       "  38.47559142112732)}"
      ]
     },
     "execution_count": 36,
     "metadata": {},
     "output_type": "execute_result"
    }
   ],
   "source": [
    "cross_validate(svdpp, new_ratings, measures=['RMSE'], cv=5, verbose=True)"
   ]
  },
  {
   "cell_type": "markdown",
   "id": "2e4d2cfc",
   "metadata": {},
   "source": [
    "So the RMSE for SVD++ model is 0.779 (mean RMSE from the cross validation results)."
   ]
  },
  {
   "cell_type": "code",
   "execution_count": 37,
   "id": "60d5e262",
   "metadata": {},
   "outputs": [],
   "source": [
    "rmse_svdpp = 0.779"
   ]
  },
  {
   "cell_type": "markdown",
   "id": "64af87e3",
   "metadata": {},
   "source": [
    "#### 2.4 The Basic K Nearest Neighbors (KNN) Model"
   ]
  },
  {
   "cell_type": "markdown",
   "id": "ddb29cd4",
   "metadata": {},
   "source": [
    "Basic KNN is a basic collaborative filtering algorithm. Let's do the cross validation to see its performance."
   ]
  },
  {
   "cell_type": "code",
   "execution_count": 38,
   "id": "cedc843b",
   "metadata": {},
   "outputs": [],
   "source": [
    "knn = KNNBasic()"
   ]
  },
  {
   "cell_type": "code",
   "execution_count": 39,
   "id": "2260c0fd",
   "metadata": {},
   "outputs": [
    {
     "name": "stdout",
     "output_type": "stream",
     "text": [
      "Computing the msd similarity matrix...\n",
      "Done computing similarity matrix.\n",
      "Computing the msd similarity matrix...\n",
      "Done computing similarity matrix.\n",
      "Computing the msd similarity matrix...\n",
      "Done computing similarity matrix.\n",
      "Computing the msd similarity matrix...\n",
      "Done computing similarity matrix.\n",
      "Computing the msd similarity matrix...\n",
      "Done computing similarity matrix.\n",
      "Evaluating RMSE of algorithm KNNBasic on 5 split(s).\n",
      "\n",
      "                  Fold 1  Fold 2  Fold 3  Fold 4  Fold 5  Mean    Std     \n",
      "RMSE (testset)    0.8359  0.8362  0.8360  0.8328  0.8349  0.8352  0.0013  \n",
      "Fit time          13.44   13.30   14.44   13.21   14.04   13.69   0.48    \n",
      "Test time         49.67   50.38   52.54   52.59   51.79   51.39   1.17    \n"
     ]
    },
    {
     "data": {
      "text/plain": [
       "{'test_rmse': array([0.8359369 , 0.83623625, 0.83597533, 0.83283865, 0.83492352]),\n",
       " 'fit_time': (13.43607497215271,\n",
       "  13.303571701049805,\n",
       "  14.438277006149292,\n",
       "  13.206847667694092,\n",
       "  14.042703628540039),\n",
       " 'test_time': (49.669597148895264,\n",
       "  50.37755084037781,\n",
       "  52.54126811027527,\n",
       "  52.58683753013611,\n",
       "  51.7905855178833)}"
      ]
     },
     "execution_count": 39,
     "metadata": {},
     "output_type": "execute_result"
    }
   ],
   "source": [
    "cross_validate(knn, new_ratings, measures=['RMSE'], cv=5, verbose=True)"
   ]
  },
  {
   "cell_type": "markdown",
   "id": "0d4b0be7",
   "metadata": {},
   "source": [
    "So the RMSE for the basic KNN model is 0.835 (mean RMSE from the cross validation results)."
   ]
  },
  {
   "cell_type": "code",
   "execution_count": 40,
   "id": "ea5270e7",
   "metadata": {},
   "outputs": [],
   "source": [
    "rmse_knn = 0.835"
   ]
  },
  {
   "cell_type": "markdown",
   "id": "b7d7477c",
   "metadata": {},
   "source": [
    "#### 2.5 The SlopeOne Model"
   ]
  },
  {
   "cell_type": "markdown",
   "id": "bbd340b2",
   "metadata": {},
   "source": [
    "Next let's try the SlopeOne model. It is a simple yet accurate collaborative filtering algorithm,  a straightforward implementation of the SlopeOne algorithm [lemire2007a]"
   ]
  },
  {
   "cell_type": "code",
   "execution_count": 41,
   "id": "4374a7e2",
   "metadata": {},
   "outputs": [],
   "source": [
    "slopeone = SlopeOne()"
   ]
  },
  {
   "cell_type": "code",
   "execution_count": 42,
   "id": "29395795",
   "metadata": {},
   "outputs": [
    {
     "name": "stdout",
     "output_type": "stream",
     "text": [
      "Evaluating RMSE of algorithm SlopeOne on 5 split(s).\n",
      "\n",
      "                  Fold 1  Fold 2  Fold 3  Fold 4  Fold 5  Mean    Std     \n",
      "RMSE (testset)    0.8173  0.8152  0.8218  0.8185  0.8202  0.8186  0.0023  \n",
      "Fit time          7.61    7.56    8.37    7.66    7.72    7.78    0.30    \n",
      "Test time         29.03   28.98   29.27   29.37   28.28   28.99   0.38    \n"
     ]
    },
    {
     "data": {
      "text/plain": [
       "{'test_rmse': array([0.8172706 , 0.81521099, 0.82177156, 0.8185459 , 0.82023358]),\n",
       " 'fit_time': (7.609397888183594,\n",
       "  7.560887336730957,\n",
       "  8.367907762527466,\n",
       "  7.658310174942017,\n",
       "  7.724998474121094),\n",
       " 'test_time': (29.025391578674316,\n",
       "  28.978322744369507,\n",
       "  29.269102096557617,\n",
       "  29.373017072677612,\n",
       "  28.283018589019775)}"
      ]
     },
     "execution_count": 42,
     "metadata": {},
     "output_type": "execute_result"
    }
   ],
   "source": [
    "cross_validate(slopeone, new_ratings, measures=['RMSE'], cv=5, verbose=True)"
   ]
  },
  {
   "cell_type": "markdown",
   "id": "64c6e59e",
   "metadata": {},
   "source": [
    "So the RMSE for the SlopeOne model is 0.819 (mean RMSE from the cross validation results)."
   ]
  },
  {
   "cell_type": "code",
   "execution_count": 43,
   "id": "ec849989",
   "metadata": {},
   "outputs": [],
   "source": [
    "rmse_slopeone = 0.819"
   ]
  },
  {
   "cell_type": "markdown",
   "id": "c56327e7",
   "metadata": {},
   "source": [
    "#### 2.6 The CoClustering Model"
   ]
  },
  {
   "cell_type": "markdown",
   "id": "2c5f51d2",
   "metadata": {},
   "source": [
    "Let's then try the CoClustering Model."
   ]
  },
  {
   "cell_type": "code",
   "execution_count": 44,
   "id": "f7e4c6a3",
   "metadata": {},
   "outputs": [],
   "source": [
    "coclust = CoClustering()"
   ]
  },
  {
   "cell_type": "code",
   "execution_count": 45,
   "id": "01257476",
   "metadata": {},
   "outputs": [
    {
     "name": "stdout",
     "output_type": "stream",
     "text": [
      "Evaluating RMSE of algorithm CoClustering on 5 split(s).\n",
      "\n",
      "                  Fold 1  Fold 2  Fold 3  Fold 4  Fold 5  Mean    Std     \n",
      "RMSE (testset)    0.8450  0.8387  0.8431  0.8381  0.8404  0.8411  0.0026  \n",
      "Fit time          14.29   14.04   14.64   14.50   13.97   14.29   0.26    \n",
      "Test time         1.08    1.15    1.14    1.25    1.73    1.27    0.23    \n"
     ]
    },
    {
     "data": {
      "text/plain": [
       "{'test_rmse': array([0.84495804, 0.8386692 , 0.84306985, 0.8381466 , 0.84041661]),\n",
       " 'fit_time': (14.28555965423584,\n",
       "  14.039444923400879,\n",
       "  14.642492294311523,\n",
       "  14.501892328262329,\n",
       "  13.97287106513977),\n",
       " 'test_time': (1.0831515789031982,\n",
       "  1.1482033729553223,\n",
       "  1.1384305953979492,\n",
       "  1.253756046295166,\n",
       "  1.7263221740722656)}"
      ]
     },
     "execution_count": 45,
     "metadata": {},
     "output_type": "execute_result"
    }
   ],
   "source": [
    "cross_validate(coclust, new_ratings, measures=['RMSE'], cv=5, verbose=True)"
   ]
  },
  {
   "cell_type": "markdown",
   "id": "0da9b0cc",
   "metadata": {},
   "source": [
    "So the RMSE for the CoClustering model is 0.841 (mean RMSE from the cross validation results)."
   ]
  },
  {
   "cell_type": "code",
   "execution_count": 46,
   "id": "11eb7f7e",
   "metadata": {},
   "outputs": [],
   "source": [
    "rmse_coclust = 0.841"
   ]
  },
  {
   "cell_type": "markdown",
   "id": "7b4e36b9",
   "metadata": {},
   "source": [
    "#### 2.7 The BaselineOnly Model"
   ]
  },
  {
   "cell_type": "code",
   "execution_count": 47,
   "id": "54f6d011",
   "metadata": {},
   "outputs": [],
   "source": [
    "blo = BaselineOnly()"
   ]
  },
  {
   "cell_type": "code",
   "execution_count": 48,
   "id": "7c8b593d",
   "metadata": {},
   "outputs": [
    {
     "name": "stdout",
     "output_type": "stream",
     "text": [
      "Estimating biases using als...\n",
      "Estimating biases using als...\n",
      "Estimating biases using als...\n",
      "Estimating biases using als...\n",
      "Estimating biases using als...\n",
      "Evaluating RMSE of algorithm BaselineOnly on 5 split(s).\n",
      "\n",
      "                  Fold 1  Fold 2  Fold 3  Fold 4  Fold 5  Mean    Std     \n",
      "RMSE (testset)    0.8203  0.8179  0.8207  0.8234  0.8216  0.8208  0.0018  \n",
      "Fit time          1.14    1.34    1.29    1.13    1.30    1.24    0.09    \n",
      "Test time         1.01    1.06    1.14    0.95    1.63    1.16    0.25    \n"
     ]
    },
    {
     "data": {
      "text/plain": [
       "{'test_rmse': array([0.8203095 , 0.81788195, 0.82067813, 0.82341599, 0.82155667]),\n",
       " 'fit_time': (1.1375494003295898,\n",
       "  1.3401455879211426,\n",
       "  1.2904462814331055,\n",
       "  1.126648187637329,\n",
       "  1.2971088886260986),\n",
       " 'test_time': (1.0060384273529053,\n",
       "  1.0590133666992188,\n",
       "  1.1353545188903809,\n",
       "  0.9494845867156982,\n",
       "  1.6345925331115723)}"
      ]
     },
     "execution_count": 48,
     "metadata": {},
     "output_type": "execute_result"
    }
   ],
   "source": [
    "cross_validate(blo, new_ratings, measures=['RMSE'], cv=5, verbose=True)"
   ]
  },
  {
   "cell_type": "markdown",
   "id": "e728ed30",
   "metadata": {},
   "source": [
    "So the RMSE for the BaselineOnly model is 0.821 (mean RMSE from the cross validation results)."
   ]
  },
  {
   "cell_type": "code",
   "execution_count": 49,
   "id": "141554e3",
   "metadata": {},
   "outputs": [],
   "source": [
    "rmse_blo = 0.821"
   ]
  },
  {
   "cell_type": "markdown",
   "id": "3847f0b1",
   "metadata": {},
   "source": [
    "#### 2.8 The Non-negative Matrix Factorization (NMF) Model"
   ]
  },
  {
   "cell_type": "code",
   "execution_count": 50,
   "id": "24b4624c",
   "metadata": {},
   "outputs": [],
   "source": [
    "nmf = NMF()"
   ]
  },
  {
   "cell_type": "code",
   "execution_count": 51,
   "id": "13c1720e",
   "metadata": {},
   "outputs": [
    {
     "name": "stdout",
     "output_type": "stream",
     "text": [
      "Evaluating RMSE of algorithm NMF on 5 split(s).\n",
      "\n",
      "                  Fold 1  Fold 2  Fold 3  Fold 4  Fold 5  Mean    Std     \n",
      "RMSE (testset)    0.8277  0.8285  0.8267  0.8298  0.8279  0.8281  0.0010  \n",
      "Fit time          34.68   34.65   34.48   34.53   35.18   34.70   0.25    \n",
      "Test time         1.26    1.42    1.56    1.49    1.37    1.42    0.10    \n"
     ]
    },
    {
     "data": {
      "text/plain": [
       "{'test_rmse': array([0.82768769, 0.82850558, 0.82670006, 0.82975012, 0.8278745 ]),\n",
       " 'fit_time': (34.67535662651062,\n",
       "  34.647749185562134,\n",
       "  34.478904008865356,\n",
       "  34.533287525177,\n",
       "  35.184574604034424),\n",
       " 'test_time': (1.2585718631744385,\n",
       "  1.4165878295898438,\n",
       "  1.5630097389221191,\n",
       "  1.4918880462646484,\n",
       "  1.3720600605010986)}"
      ]
     },
     "execution_count": 51,
     "metadata": {},
     "output_type": "execute_result"
    }
   ],
   "source": [
    "cross_validate(nmf, new_ratings, measures=['RMSE'], cv=5, verbose=True)"
   ]
  },
  {
   "cell_type": "markdown",
   "id": "89fd468b",
   "metadata": {},
   "source": [
    "So the RMSE for the NMF model is 0.827 (mean RMSE from the cross validation results)."
   ]
  },
  {
   "cell_type": "code",
   "execution_count": 52,
   "id": "3efecea9",
   "metadata": {},
   "outputs": [],
   "source": [
    "rmse_nmf = 0.827"
   ]
  },
  {
   "cell_type": "markdown",
   "id": "0d5b2750",
   "metadata": {},
   "source": [
    "#### 2.9 Evaluation on Model Performances"
   ]
  },
  {
   "cell_type": "markdown",
   "id": "cf3a37a3",
   "metadata": {},
   "source": [
    "We have tried different models and get some results of the prediction's RMSE. Let's plot those RMSEs with a bar plot as shown below. We can see that the RMSE for SVD++ model is the smallest (RMSE=0.779), which means this mdoel gives the best performance . So we would like to use this model as our final. "
   ]
  },
  {
   "cell_type": "code",
   "execution_count": 53,
   "id": "6fdf2738",
   "metadata": {},
   "outputs": [
    {
     "data": {
      "image/png": "[encoded data removed]",
      "text/plain": [
       "<Figure size 432x288 with 1 Axes>"
      ]
     },
     "metadata": {
      "needs_background": "light"
     },
     "output_type": "display_data"
    }
   ],
   "source": [
    "# plot the final RMSEs from all the models. \n",
    "models = ['MeanComb','SVD', 'SVD++', 'KNNBasic', 'BaselineOnly', 'SlopeOne', 'CoClustering', 'NMF']\n",
    "rmses = [rmse_mc, rmse_svd, rmse_svdpp, rmse_knn, rmse_blo, rmse_slopeone, rmse_coclust, rmse_nmf]\n",
    "colors = ['r','y','g', 'b', 'm', 'c', 'pink','gray']\n",
    "plt.bar(models, rmses, color=colors)\n",
    "plt.ylim(0.7, 0.9)\n",
    "plt.grid(True)\n",
    "plt.ylabel('RMSE')\n",
    "plt.title('Comparasion of RMSE among 8 Models')\n",
    "plt.xticks(rotation=90)\n",
    "plt.show()"
   ]
  },
  {
   "cell_type": "markdown",
   "id": "2ccf698d",
   "metadata": {},
   "source": [
    "#### 2.10 Grid Search Cross Validation on Hyperparameters for SVD++"
   ]
  },
  {
   "cell_type": "markdown",
   "id": "adc14375",
   "metadata": {},
   "source": [
    "Let's do the GridSearch cross validation to see if we could get better performance on SVD++."
   ]
  },
  {
   "cell_type": "code",
   "execution_count": 54,
   "id": "fcf2a885",
   "metadata": {},
   "outputs": [],
   "source": [
    "# Grid search cross validation for the SVD++ model\n",
    "param_grid = {\n",
    "    \"n_epochs\": [20, 25],\n",
    "    \"lr_all\": [0.007, 0.009],\n",
    "    \"reg_all\": [0.04, 0.06]\n",
    "}\n",
    "gridsearch = GridSearchCV(SVDpp, param_grid, measures=[\"rmse\"], cv=3)"
   ]
  },
  {
   "cell_type": "code",
   "execution_count": 55,
   "id": "e09f9cb2",
   "metadata": {},
   "outputs": [],
   "source": [
    "gridsearch.fit(new_ratings)"
   ]
  },
  {
   "cell_type": "code",
   "execution_count": 56,
   "id": "9e18d136",
   "metadata": {},
   "outputs": [
    {
     "data": {
      "text/plain": [
       "(0.7823555968406262, {'n_epochs': 25, 'lr_all': 0.009, 'reg_all': 0.06})"
      ]
     },
     "execution_count": 56,
     "metadata": {},
     "output_type": "execute_result"
    }
   ],
   "source": [
    "gridsearch.best_score[\"rmse\"], gridsearch.best_params[\"rmse\"]"
   ]
  },
  {
   "cell_type": "markdown",
   "id": "c806f2c9",
   "metadata": {},
   "source": [
    "The cross validation takes very long time (~8 hours) and did not give a better performance. So we will use the default options.\n",
    "\n",
    "Let's create a dataframe from the predictions from the SVD++ model."
   ]
  },
  {
   "cell_type": "code",
   "execution_count": 57,
   "id": "f1cb5a5b",
   "metadata": {},
   "outputs": [],
   "source": [
    "pred_df = pd.DataFrame(pred_svdpp)"
   ]
  },
  {
   "cell_type": "code",
   "execution_count": 58,
   "id": "e7694374",
   "metadata": {},
   "outputs": [
    {
     "data": {
      "text/html": [
       "<div>\n",
       "<style scoped>\n",
       "    .dataframe tbody tr th:only-of-type {\n",
       "        vertical-align: middle;\n",
       "    }\n",
       "\n",
       "    .dataframe tbody tr th {\n",
       "        vertical-align: top;\n",
       "    }\n",
       "\n",
       "    .dataframe thead th {\n",
       "        text-align: right;\n",
       "    }\n",
       "</style>\n",
       "<table border=\"1\" class=\"dataframe\">\n",
       "  <thead>\n",
       "    <tr style=\"text-align: right;\">\n",
       "      <th></th>\n",
       "      <th>uid</th>\n",
       "      <th>iid</th>\n",
       "      <th>r_ui</th>\n",
       "      <th>est</th>\n",
       "      <th>details</th>\n",
       "    </tr>\n",
       "  </thead>\n",
       "  <tbody>\n",
       "    <tr>\n",
       "      <th>0</th>\n",
       "      <td>94519</td>\n",
       "      <td>8949</td>\n",
       "      <td>5.0</td>\n",
       "      <td>3.953386</td>\n",
       "      <td>{'was_impossible': False}</td>\n",
       "    </tr>\n",
       "    <tr>\n",
       "      <th>1</th>\n",
       "      <td>83882</td>\n",
       "      <td>1188</td>\n",
       "      <td>4.0</td>\n",
       "      <td>3.463672</td>\n",
       "      <td>{'was_impossible': False}</td>\n",
       "    </tr>\n",
       "    <tr>\n",
       "      <th>2</th>\n",
       "      <td>97195</td>\n",
       "      <td>288</td>\n",
       "      <td>4.0</td>\n",
       "      <td>3.390564</td>\n",
       "      <td>{'was_impossible': False}</td>\n",
       "    </tr>\n",
       "    <tr>\n",
       "      <th>3</th>\n",
       "      <td>107806</td>\n",
       "      <td>5147</td>\n",
       "      <td>2.0</td>\n",
       "      <td>4.147112</td>\n",
       "      <td>{'was_impossible': False}</td>\n",
       "    </tr>\n",
       "    <tr>\n",
       "      <th>4</th>\n",
       "      <td>40058</td>\n",
       "      <td>10</td>\n",
       "      <td>3.0</td>\n",
       "      <td>3.709028</td>\n",
       "      <td>{'was_impossible': False}</td>\n",
       "    </tr>\n",
       "  </tbody>\n",
       "</table>\n",
       "</div>"
      ],
      "text/plain": [
       "      uid   iid  r_ui       est                    details\n",
       "0   94519  8949   5.0  3.953386  {'was_impossible': False}\n",
       "1   83882  1188   4.0  3.463672  {'was_impossible': False}\n",
       "2   97195   288   4.0  3.390564  {'was_impossible': False}\n",
       "3  107806  5147   2.0  4.147112  {'was_impossible': False}\n",
       "4   40058    10   3.0  3.709028  {'was_impossible': False}"
      ]
     },
     "execution_count": 58,
     "metadata": {},
     "output_type": "execute_result"
    }
   ],
   "source": [
    "pred_df.head()"
   ]
  },
  {
   "cell_type": "code",
   "execution_count": 59,
   "id": "d2533bd7",
   "metadata": {},
   "outputs": [],
   "source": [
    "# drop unnecessary column and change the column names\n",
    "pred_df.drop(\"details\", inplace=True, axis=1)\n",
    "pred_df = pred_df.rename(columns = {'uid':'userId', 'iid':'movieId', 'r_ui':'actual_rating', 'est':'predicted_rating'})"
   ]
  },
  {
   "cell_type": "code",
   "execution_count": 60,
   "id": "0c3eb497",
   "metadata": {},
   "outputs": [
    {
     "data": {
      "text/html": [
       "<div>\n",
       "<style scoped>\n",
       "    .dataframe tbody tr th:only-of-type {\n",
       "        vertical-align: middle;\n",
       "    }\n",
       "\n",
       "    .dataframe tbody tr th {\n",
       "        vertical-align: top;\n",
       "    }\n",
       "\n",
       "    .dataframe thead th {\n",
       "        text-align: right;\n",
       "    }\n",
       "</style>\n",
       "<table border=\"1\" class=\"dataframe\">\n",
       "  <thead>\n",
       "    <tr style=\"text-align: right;\">\n",
       "      <th></th>\n",
       "      <th>userId</th>\n",
       "      <th>movieId</th>\n",
       "      <th>actual_rating</th>\n",
       "      <th>predicted_rating</th>\n",
       "    </tr>\n",
       "  </thead>\n",
       "  <tbody>\n",
       "    <tr>\n",
       "      <th>0</th>\n",
       "      <td>94519</td>\n",
       "      <td>8949</td>\n",
       "      <td>5.0</td>\n",
       "      <td>3.953386</td>\n",
       "    </tr>\n",
       "    <tr>\n",
       "      <th>1</th>\n",
       "      <td>83882</td>\n",
       "      <td>1188</td>\n",
       "      <td>4.0</td>\n",
       "      <td>3.463672</td>\n",
       "    </tr>\n",
       "    <tr>\n",
       "      <th>2</th>\n",
       "      <td>97195</td>\n",
       "      <td>288</td>\n",
       "      <td>4.0</td>\n",
       "      <td>3.390564</td>\n",
       "    </tr>\n",
       "    <tr>\n",
       "      <th>3</th>\n",
       "      <td>107806</td>\n",
       "      <td>5147</td>\n",
       "      <td>2.0</td>\n",
       "      <td>4.147112</td>\n",
       "    </tr>\n",
       "    <tr>\n",
       "      <th>4</th>\n",
       "      <td>40058</td>\n",
       "      <td>10</td>\n",
       "      <td>3.0</td>\n",
       "      <td>3.709028</td>\n",
       "    </tr>\n",
       "  </tbody>\n",
       "</table>\n",
       "</div>"
      ],
      "text/plain": [
       "   userId  movieId  actual_rating  predicted_rating\n",
       "0   94519     8949            5.0          3.953386\n",
       "1   83882     1188            4.0          3.463672\n",
       "2   97195      288            4.0          3.390564\n",
       "3  107806     5147            2.0          4.147112\n",
       "4   40058       10            3.0          3.709028"
      ]
     },
     "execution_count": 60,
     "metadata": {},
     "output_type": "execute_result"
    }
   ],
   "source": [
    "pred_df.head()"
   ]
  },
  {
   "cell_type": "markdown",
   "id": "90cc34be",
   "metadata": {},
   "source": [
    "### 3. User Defined Collaborative Filtering Algorithm"
   ]
  },
  {
   "cell_type": "markdown",
   "id": "f425b8e7",
   "metadata": {},
   "source": [
    "In part 2 above, quite a few collaborative filtering models have been tested. Here I would like to build my own collaborative filtering algorithm, based on the conception of collaborative filtering. \n",
    "\n",
    "Basically there are two kinds of collaborative filtering: user based and item based. For user based collaborative filtering, it is believed that people who gave similar ratings in the past would give similar ratings in the future. So you can use similar people’s rating to predict; For item based collaborative filtering, you will compare items the specific user has rated on, and choose the item which is similar to the one you need to predict.\n",
    "\n",
    "So let's start from user based collaborative filtering."
   ]
  },
  {
   "cell_type": "markdown",
   "id": "8ca24ec8",
   "metadata": {},
   "source": [
    "#### 3.1 User Based Collaborative Filtering\n",
    "\n",
    "In a user based collaborative filtering, a similarity function is used to calculate the similarity between users, and use rating from similar user to predict one's rating. \n",
    "\n",
    "In this study, we will use the pearson correlation coefficient as the similarity function, and use the rating from the user who is the most correlated to our target user. To ensure the best prediction, we will use this rating only if the correlation coefficent is large enough (>0.85), otherwise we will use the mean combination as mentioned before. \n",
    "\n",
    "So this is the precedure: to predict the rating from a user/movie pair, first, in the train data, find all users who have watched the movie. Then in those users, find the one which has the highest correlation with the specific user, and then use the rating from this highest correlated user on this movie as the prediction to the rating."
   ]
  },
  {
   "cell_type": "code",
   "execution_count": 61,
   "id": "99b518cd",
   "metadata": {},
   "outputs": [],
   "source": [
    "# first let's create a pivot table from the train dataset\n",
    "pivot_rating_user = train.pivot_table(index = [\"movieId\"], columns = [\"userId\"],values = \"rating\", fill_value=0)"
   ]
  },
  {
   "cell_type": "code",
   "execution_count": 73,
   "id": "98744373",
   "metadata": {},
   "outputs": [],
   "source": [
    "# find the most correlated user in group \"users\"\n",
    "def user_corr(user, users):\n",
    "    if user in users_in_train:\n",
    "   #     print('movie in movies_in_train')\n",
    "        user_rated = pivot_rating_user[user]\n",
    "   #     print(movie_watched)\n",
    "        similarity = pivot_rating_user[users].corrwith(user_rated)  \n",
    "        similarity = similarity.sort_values(ascending=False)\n",
    "        return similarity.index.values[0], similarity.values[0]"
   ]
  },
  {
   "cell_type": "code",
   "execution_count": 71,
   "id": "02c3804e",
   "metadata": {},
   "outputs": [],
   "source": [
    "# define the collaborative filtering function to predict the rating on a specific user/movie pair\n",
    "def user_based_collab(user_id, movie_id):\n",
    "    movie_cond = movie_id in movies_in_train  # the movie exist in train data\n",
    "    user_cond = user_id in users_in_train    # the user exist in train data\n",
    " #   print(user_cond, movie_cond)\n",
    "    if movie_cond:\n",
    "        if user_cond: \n",
    "            users_watched_the_movie = train[train['movieId']==movie_id]['userId'].values #  users who watched the movie\n",
    " #           print('movies_user_watched',movies_user_watched)\n",
    "            matched_user, corr = user_corr(user_id, users_watched_the_movie)  # find the most corr user and the corr coeff\n",
    "  #          print('matched_movie',matched_movie)\n",
    "            if (corr>0.85):  # if the corr is great enough\n",
    "                return train[(train['movieId']==movie_id)&(train['userId']==matched_user)]['rating'].values[0]\n",
    "            else:  # if the corr is small\n",
    "                mean_movie = train[train['movieId']==movie_id]['rating'].mean()  # movie average rating from train data\n",
    "                mean_user = train[train['userId']==user_id]['rating'].mean() # user average rating from train data\n",
    "                return mean_movie*0.55 + mean_user*0.45  \n",
    "        else:  # if movie exist but user does not exist\n",
    "            return train[train['movieId']==movie_id]['rating'].mean()\n",
    "    elif user_cond:  # if user exist but movie does not exist\n",
    "        return train[train['userId']==user_id]['rating'].mean()\n",
    "    else:  # if both movie and user does not exist\n",
    "        return 3.5"
   ]
  },
  {
   "cell_type": "code",
   "execution_count": 77,
   "id": "d7ba55fe",
   "metadata": {},
   "outputs": [
    {
     "name": "stdout",
     "output_type": "stream",
     "text": [
      "i= 0  total len= 53541\n",
      "i= 1000  total len= 53541\n",
      "i= 2000  total len= 53541\n",
      "i= 3000  total len= 53541\n",
      "i= 4000  total len= 53541\n",
      "i= 5000  total len= 53541\n",
      "i= 6000  total len= 53541\n",
      "i= 7000  total len= 53541\n",
      "i= 8000  total len= 53541\n",
      "i= 9000  total len= 53541\n",
      "i= 10000  total len= 53541\n",
      "i= 11000  total len= 53541\n",
      "i= 12000  total len= 53541\n",
      "i= 13000  total len= 53541\n",
      "i= 14000  total len= 53541\n",
      "i= 15000  total len= 53541\n",
      "i= 16000  total len= 53541\n",
      "i= 17000  total len= 53541\n",
      "i= 18000  total len= 53541\n",
      "i= 19000  total len= 53541\n",
      "i= 20000  total len= 53541\n",
      "i= 21000  total len= 53541\n",
      "i= 22000  total len= 53541\n",
      "i= 23000  total len= 53541\n",
      "i= 24000  total len= 53541\n",
      "i= 25000  total len= 53541\n",
      "i= 26000  total len= 53541\n",
      "i= 27000  total len= 53541\n",
      "i= 28000  total len= 53541\n",
      "i= 29000  total len= 53541\n",
      "i= 30000  total len= 53541\n",
      "i= 31000  total len= 53541\n",
      "i= 32000  total len= 53541\n",
      "i= 33000  total len= 53541\n",
      "i= 34000  total len= 53541\n",
      "i= 35000  total len= 53541\n",
      "i= 36000  total len= 53541\n",
      "i= 37000  total len= 53541\n",
      "i= 38000  total len= 53541\n",
      "i= 39000  total len= 53541\n",
      "i= 40000  total len= 53541\n",
      "i= 41000  total len= 53541\n",
      "i= 42000  total len= 53541\n",
      "i= 43000  total len= 53541\n",
      "i= 44000  total len= 53541\n",
      "i= 45000  total len= 53541\n",
      "i= 46000  total len= 53541\n",
      "i= 47000  total len= 53541\n",
      "i= 48000  total len= 53541\n",
      "i= 49000  total len= 53541\n",
      "i= 50000  total len= 53541\n",
      "i= 51000  total len= 53541\n",
      "i= 52000  total len= 53541\n",
      "i= 53000  total len= 53541\n"
     ]
    }
   ],
   "source": [
    "rmse_ubc = evaluate(user_based_collab)"
   ]
  },
  {
   "cell_type": "code",
   "execution_count": 78,
   "id": "0cfd50dd",
   "metadata": {},
   "outputs": [
    {
     "name": "stdout",
     "output_type": "stream",
     "text": [
      "RMSE for user based collaborative filtering is: 0.8673124600104097\n"
     ]
    }
   ],
   "source": [
    "print('RMSE for user based collaborative filtering is:', rmse_ubc)"
   ]
  },
  {
   "cell_type": "markdown",
   "id": "2a9ed1b9",
   "metadata": {},
   "source": [
    "#### 3.2 Item Based Collaborative Filtering\n",
    "\n",
    "Let's then think of the item based collaborative filtering. It is quite similar to the user based collaboratie filtering. The only difference is that instead of considering the similarity between users, now we need to consider the similarity between two movies. Again let's use pearson correlation coefficient.\n",
    "\n",
    "So this is the precedure: to predict the rating from a user/movie pair, first, in the train data, find all movies watched by this specific user. Then in those movies, find the one which has the highest correlation with the specific movie, and then use the rating from the specific user on that highest correlated movie as the prediction to the rating."
   ]
  },
  {
   "cell_type": "code",
   "execution_count": 79,
   "id": "f0741335",
   "metadata": {},
   "outputs": [],
   "source": [
    "#  create a pivot table on movies from the train dataset\n",
    "pivot_rating_movie = train.pivot_table(index = [\"userId\"],columns = [\"movieId\"],values = \"rating\", fill_value=0)"
   ]
  },
  {
   "cell_type": "code",
   "execution_count": 80,
   "id": "22acf4b7",
   "metadata": {},
   "outputs": [],
   "source": [
    "# find the most correlated user in group \"users\"\n",
    "def movie_corr(movie, movies):\n",
    "    if movie in movies_in_train:\n",
    "   #     print('movie in movies_in_train')\n",
    "        movie_watched = pivot_rating_movie[movie]\n",
    "   #     print(movie_watched)\n",
    "        similarity = pivot_rating_movie[movies].corrwith(movie_watched)  \n",
    "        similarity = similarity.sort_values(ascending=False)\n",
    "        return similarity.index.values[0], similarity.values[0]"
   ]
  },
  {
   "cell_type": "code",
   "execution_count": 81,
   "id": "17fea06d",
   "metadata": {},
   "outputs": [],
   "source": [
    "# define an item based collaborative filtering function to predict the rating on a specific user/movie pair\n",
    "def item_based_collab(user_id, movie_id):\n",
    "    movie_cond = movie_id in movies_in_train   # the movie exist in train data\n",
    "    user_cond = user_id in users_in_train      # the user exist in train data\n",
    " #   print(user_cond, movie_cond)\n",
    "    if movie_cond:\n",
    "        if user_cond:\n",
    "            movies_user_watched = train[train['userId']==user_id]['movieId'].values #  movies watched by the user\n",
    " #           print('movies_user_watched',movies_user_watched)\n",
    "            matched_movie, corr = movie_corr(movie_id, movies_user_watched)  # movie with the highest correlation\n",
    "  #          print('matched_movie',matched_movie)\n",
    "            if (corr>0.85):  # if the corr is great enough\n",
    "                return train[(train['userId']==user_id)&(train['movieId']==matched_movie)]['rating'].values[0]\n",
    "            else:  # if the corr is small\n",
    "                mean_movie = train[train['movieId']==movie_id]['rating'].mean()  # movie average rating from train data\n",
    "                mean_user = train[train['userId']==user_id]['rating'].mean() # user average rating from train data\n",
    "                return mean_movie*0.55 + mean_user*0.45  \n",
    "        else: # if movie exist but user does not exist\n",
    "            return train[train['movieId']==movie_id]['rating'].mean()\n",
    "    elif user_cond:   # if user exist but movie does not exist\n",
    "        return train[train['userId']==user_id]['rating'].mean()\n",
    "    else:  # if neither movie nor user exists\n",
    "        return 3.5"
   ]
  },
  {
   "cell_type": "code",
   "execution_count": null,
   "id": "3a154a25",
   "metadata": {},
   "outputs": [],
   "source": [
    "train.head()"
   ]
  },
  {
   "cell_type": "code",
   "execution_count": 82,
   "id": "8862a75e",
   "metadata": {},
   "outputs": [
    {
     "name": "stdout",
     "output_type": "stream",
     "text": [
      "i= 0  total len= 53541\n",
      "i= 1000  total len= 53541\n",
      "i= 2000  total len= 53541\n",
      "i= 3000  total len= 53541\n",
      "i= 4000  total len= 53541\n",
      "i= 5000  total len= 53541\n",
      "i= 6000  total len= 53541\n",
      "i= 7000  total len= 53541\n",
      "i= 8000  total len= 53541\n",
      "i= 9000  total len= 53541\n",
      "i= 10000  total len= 53541\n",
      "i= 11000  total len= 53541\n",
      "i= 12000  total len= 53541\n",
      "i= 13000  total len= 53541\n",
      "i= 14000  total len= 53541\n",
      "i= 15000  total len= 53541\n",
      "i= 16000  total len= 53541\n",
      "i= 17000  total len= 53541\n",
      "i= 18000  total len= 53541\n",
      "i= 19000  total len= 53541\n",
      "i= 20000  total len= 53541\n",
      "i= 21000  total len= 53541\n",
      "i= 22000  total len= 53541\n",
      "i= 23000  total len= 53541\n",
      "i= 24000  total len= 53541\n",
      "i= 25000  total len= 53541\n",
      "i= 26000  total len= 53541\n",
      "i= 27000  total len= 53541\n",
      "i= 28000  total len= 53541\n",
      "i= 29000  total len= 53541\n",
      "i= 30000  total len= 53541\n",
      "i= 31000  total len= 53541\n",
      "i= 32000  total len= 53541\n",
      "i= 33000  total len= 53541\n",
      "i= 34000  total len= 53541\n",
      "i= 35000  total len= 53541\n",
      "i= 36000  total len= 53541\n",
      "i= 37000  total len= 53541\n",
      "i= 38000  total len= 53541\n",
      "i= 39000  total len= 53541\n",
      "i= 40000  total len= 53541\n",
      "i= 41000  total len= 53541\n",
      "i= 42000  total len= 53541\n",
      "i= 43000  total len= 53541\n",
      "i= 44000  total len= 53541\n",
      "i= 45000  total len= 53541\n",
      "i= 46000  total len= 53541\n",
      "i= 47000  total len= 53541\n",
      "i= 48000  total len= 53541\n",
      "i= 49000  total len= 53541\n",
      "i= 50000  total len= 53541\n",
      "i= 51000  total len= 53541\n",
      "i= 52000  total len= 53541\n",
      "i= 53000  total len= 53541\n"
     ]
    }
   ],
   "source": [
    "rmse_ibc = evaluate(item_based_collab)"
   ]
  },
  {
   "cell_type": "code",
   "execution_count": 83,
   "id": "f312fe39",
   "metadata": {},
   "outputs": [
    {
     "name": "stdout",
     "output_type": "stream",
     "text": [
      "RMSE for user based collaborative filtering is: 0.8672840313209333\n"
     ]
    }
   ],
   "source": [
    "print('RMSE for user based collaborative filtering is:', rmse_ibc)"
   ]
  },
  {
   "cell_type": "markdown",
   "id": "88c9d607",
   "metadata": {},
   "source": [
    "### 4. User Defined Content Based Filtering Algorithm"
   ]
  },
  {
   "cell_type": "markdown",
   "id": "72fb30b6",
   "metadata": {},
   "source": [
    "Let's then think of the content based filtering. This filtering is similar to the item based collaborative filtering. The only difference is that instead of using user's rating to calculate similarity between movies, content based filtering use movie features such as actor, director, genres, etc, for the calcuation on movie similarity. \n",
    "\n",
    "Remember in the dataset, there is a file which is called \"genome_score.csv\". It gives the relevance value on each movie to each genome. We can use this genome score to calculate the correlation (which is actually similarity) between movies."
   ]
  },
  {
   "cell_type": "code",
   "execution_count": 84,
   "id": "6d2359e1",
   "metadata": {},
   "outputs": [],
   "source": [
    "genome_scores = pd.read_csv('./ml-20m/genome-scores.csv')"
   ]
  },
  {
   "cell_type": "code",
   "execution_count": 85,
   "id": "b169dd2d",
   "metadata": {},
   "outputs": [
    {
     "data": {
      "text/html": [
       "<div>\n",
       "<style scoped>\n",
       "    .dataframe tbody tr th:only-of-type {\n",
       "        vertical-align: middle;\n",
       "    }\n",
       "\n",
       "    .dataframe tbody tr th {\n",
       "        vertical-align: top;\n",
       "    }\n",
       "\n",
       "    .dataframe thead th {\n",
       "        text-align: right;\n",
       "    }\n",
       "</style>\n",
       "<table border=\"1\" class=\"dataframe\">\n",
       "  <thead>\n",
       "    <tr style=\"text-align: right;\">\n",
       "      <th></th>\n",
       "      <th>movieId</th>\n",
       "      <th>tagId</th>\n",
       "      <th>relevance</th>\n",
       "    </tr>\n",
       "  </thead>\n",
       "  <tbody>\n",
       "    <tr>\n",
       "      <th>0</th>\n",
       "      <td>1</td>\n",
       "      <td>1</td>\n",
       "      <td>0.02500</td>\n",
       "    </tr>\n",
       "    <tr>\n",
       "      <th>1</th>\n",
       "      <td>1</td>\n",
       "      <td>2</td>\n",
       "      <td>0.02500</td>\n",
       "    </tr>\n",
       "    <tr>\n",
       "      <th>2</th>\n",
       "      <td>1</td>\n",
       "      <td>3</td>\n",
       "      <td>0.05775</td>\n",
       "    </tr>\n",
       "    <tr>\n",
       "      <th>3</th>\n",
       "      <td>1</td>\n",
       "      <td>4</td>\n",
       "      <td>0.09675</td>\n",
       "    </tr>\n",
       "    <tr>\n",
       "      <th>4</th>\n",
       "      <td>1</td>\n",
       "      <td>5</td>\n",
       "      <td>0.14675</td>\n",
       "    </tr>\n",
       "  </tbody>\n",
       "</table>\n",
       "</div>"
      ],
      "text/plain": [
       "   movieId  tagId  relevance\n",
       "0        1      1    0.02500\n",
       "1        1      2    0.02500\n",
       "2        1      3    0.05775\n",
       "3        1      4    0.09675\n",
       "4        1      5    0.14675"
      ]
     },
     "execution_count": 85,
     "metadata": {},
     "output_type": "execute_result"
    }
   ],
   "source": [
    "genome_scores.head()"
   ]
  },
  {
   "cell_type": "code",
   "execution_count": 86,
   "id": "86686b18",
   "metadata": {},
   "outputs": [],
   "source": [
    "pivot_genome_scores = genome_scores.pivot_table(index = [\"movieId\"],columns = [\"tagId\"],values = \"relevance\", fill_value=0)"
   ]
  },
  {
   "cell_type": "code",
   "execution_count": 87,
   "id": "b3e1e11f",
   "metadata": {},
   "outputs": [
    {
     "data": {
      "text/html": [
       "<div>\n",
       "<style scoped>\n",
       "    .dataframe tbody tr th:only-of-type {\n",
       "        vertical-align: middle;\n",
       "    }\n",
       "\n",
       "    .dataframe tbody tr th {\n",
       "        vertical-align: top;\n",
       "    }\n",
       "\n",
       "    .dataframe thead th {\n",
       "        text-align: right;\n",
       "    }\n",
       "</style>\n",
       "<table border=\"1\" class=\"dataframe\">\n",
       "  <thead>\n",
       "    <tr style=\"text-align: right;\">\n",
       "      <th>tagId</th>\n",
       "      <th>1</th>\n",
       "      <th>2</th>\n",
       "      <th>3</th>\n",
       "      <th>4</th>\n",
       "      <th>5</th>\n",
       "      <th>6</th>\n",
       "      <th>7</th>\n",
       "      <th>8</th>\n",
       "      <th>9</th>\n",
       "      <th>10</th>\n",
       "      <th>...</th>\n",
       "      <th>1119</th>\n",
       "      <th>1120</th>\n",
       "      <th>1121</th>\n",
       "      <th>1122</th>\n",
       "      <th>1123</th>\n",
       "      <th>1124</th>\n",
       "      <th>1125</th>\n",
       "      <th>1126</th>\n",
       "      <th>1127</th>\n",
       "      <th>1128</th>\n",
       "    </tr>\n",
       "    <tr>\n",
       "      <th>movieId</th>\n",
       "      <th></th>\n",
       "      <th></th>\n",
       "      <th></th>\n",
       "      <th></th>\n",
       "      <th></th>\n",
       "      <th></th>\n",
       "      <th></th>\n",
       "      <th></th>\n",
       "      <th></th>\n",
       "      <th></th>\n",
       "      <th></th>\n",
       "      <th></th>\n",
       "      <th></th>\n",
       "      <th></th>\n",
       "      <th></th>\n",
       "      <th></th>\n",
       "      <th></th>\n",
       "      <th></th>\n",
       "      <th></th>\n",
       "      <th></th>\n",
       "      <th></th>\n",
       "    </tr>\n",
       "  </thead>\n",
       "  <tbody>\n",
       "    <tr>\n",
       "      <th>1</th>\n",
       "      <td>0.02500</td>\n",
       "      <td>0.02500</td>\n",
       "      <td>0.05775</td>\n",
       "      <td>0.09675</td>\n",
       "      <td>0.14675</td>\n",
       "      <td>0.21700</td>\n",
       "      <td>0.06700</td>\n",
       "      <td>0.26275</td>\n",
       "      <td>0.26200</td>\n",
       "      <td>0.03200</td>\n",
       "      <td>...</td>\n",
       "      <td>0.03950</td>\n",
       "      <td>0.01800</td>\n",
       "      <td>0.04575</td>\n",
       "      <td>0.03275</td>\n",
       "      <td>0.12500</td>\n",
       "      <td>0.04150</td>\n",
       "      <td>0.01925</td>\n",
       "      <td>0.03625</td>\n",
       "      <td>0.07775</td>\n",
       "      <td>0.02300</td>\n",
       "    </tr>\n",
       "    <tr>\n",
       "      <th>2</th>\n",
       "      <td>0.03975</td>\n",
       "      <td>0.04375</td>\n",
       "      <td>0.03775</td>\n",
       "      <td>0.04800</td>\n",
       "      <td>0.11025</td>\n",
       "      <td>0.07250</td>\n",
       "      <td>0.04775</td>\n",
       "      <td>0.10975</td>\n",
       "      <td>0.09925</td>\n",
       "      <td>0.02050</td>\n",
       "      <td>...</td>\n",
       "      <td>0.04175</td>\n",
       "      <td>0.01925</td>\n",
       "      <td>0.01725</td>\n",
       "      <td>0.02425</td>\n",
       "      <td>0.12550</td>\n",
       "      <td>0.02250</td>\n",
       "      <td>0.01550</td>\n",
       "      <td>0.01475</td>\n",
       "      <td>0.09025</td>\n",
       "      <td>0.01875</td>\n",
       "    </tr>\n",
       "    <tr>\n",
       "      <th>3</th>\n",
       "      <td>0.04350</td>\n",
       "      <td>0.05475</td>\n",
       "      <td>0.02800</td>\n",
       "      <td>0.07700</td>\n",
       "      <td>0.05400</td>\n",
       "      <td>0.06850</td>\n",
       "      <td>0.05600</td>\n",
       "      <td>0.18500</td>\n",
       "      <td>0.04925</td>\n",
       "      <td>0.02675</td>\n",
       "      <td>...</td>\n",
       "      <td>0.04150</td>\n",
       "      <td>0.02675</td>\n",
       "      <td>0.02775</td>\n",
       "      <td>0.03425</td>\n",
       "      <td>0.15550</td>\n",
       "      <td>0.03675</td>\n",
       "      <td>0.01700</td>\n",
       "      <td>0.01950</td>\n",
       "      <td>0.09700</td>\n",
       "      <td>0.01850</td>\n",
       "    </tr>\n",
       "    <tr>\n",
       "      <th>4</th>\n",
       "      <td>0.03725</td>\n",
       "      <td>0.03950</td>\n",
       "      <td>0.03675</td>\n",
       "      <td>0.03100</td>\n",
       "      <td>0.06825</td>\n",
       "      <td>0.04050</td>\n",
       "      <td>0.02325</td>\n",
       "      <td>0.08700</td>\n",
       "      <td>0.05125</td>\n",
       "      <td>0.03025</td>\n",
       "      <td>...</td>\n",
       "      <td>0.05750</td>\n",
       "      <td>0.03375</td>\n",
       "      <td>0.02275</td>\n",
       "      <td>0.03975</td>\n",
       "      <td>0.18525</td>\n",
       "      <td>0.05925</td>\n",
       "      <td>0.01500</td>\n",
       "      <td>0.01525</td>\n",
       "      <td>0.06450</td>\n",
       "      <td>0.01300</td>\n",
       "    </tr>\n",
       "    <tr>\n",
       "      <th>5</th>\n",
       "      <td>0.04200</td>\n",
       "      <td>0.05275</td>\n",
       "      <td>0.05925</td>\n",
       "      <td>0.03675</td>\n",
       "      <td>0.07525</td>\n",
       "      <td>0.12525</td>\n",
       "      <td>0.02850</td>\n",
       "      <td>0.08500</td>\n",
       "      <td>0.02950</td>\n",
       "      <td>0.02875</td>\n",
       "      <td>...</td>\n",
       "      <td>0.04250</td>\n",
       "      <td>0.02825</td>\n",
       "      <td>0.02150</td>\n",
       "      <td>0.02600</td>\n",
       "      <td>0.14275</td>\n",
       "      <td>0.02075</td>\n",
       "      <td>0.01650</td>\n",
       "      <td>0.01675</td>\n",
       "      <td>0.10750</td>\n",
       "      <td>0.01825</td>\n",
       "    </tr>\n",
       "  </tbody>\n",
       "</table>\n",
       "<p>5 rows × 1128 columns</p>\n",
       "</div>"
      ],
      "text/plain": [
       "tagId       1        2        3        4        5        6        7     \\\n",
       "movieId                                                                  \n",
       "1        0.02500  0.02500  0.05775  0.09675  0.14675  0.21700  0.06700   \n",
       "2        0.03975  0.04375  0.03775  0.04800  0.11025  0.07250  0.04775   \n",
       "3        0.04350  0.05475  0.02800  0.07700  0.05400  0.06850  0.05600   \n",
       "4        0.03725  0.03950  0.03675  0.03100  0.06825  0.04050  0.02325   \n",
       "5        0.04200  0.05275  0.05925  0.03675  0.07525  0.12525  0.02850   \n",
       "\n",
       "tagId       8        9        10    ...     1119     1120     1121     1122  \\\n",
       "movieId                             ...                                       \n",
       "1        0.26275  0.26200  0.03200  ...  0.03950  0.01800  0.04575  0.03275   \n",
       "2        0.10975  0.09925  0.02050  ...  0.04175  0.01925  0.01725  0.02425   \n",
       "3        0.18500  0.04925  0.02675  ...  0.04150  0.02675  0.02775  0.03425   \n",
       "4        0.08700  0.05125  0.03025  ...  0.05750  0.03375  0.02275  0.03975   \n",
       "5        0.08500  0.02950  0.02875  ...  0.04250  0.02825  0.02150  0.02600   \n",
       "\n",
       "tagId       1123     1124     1125     1126     1127     1128  \n",
       "movieId                                                        \n",
       "1        0.12500  0.04150  0.01925  0.03625  0.07775  0.02300  \n",
       "2        0.12550  0.02250  0.01550  0.01475  0.09025  0.01875  \n",
       "3        0.15550  0.03675  0.01700  0.01950  0.09700  0.01850  \n",
       "4        0.18525  0.05925  0.01500  0.01525  0.06450  0.01300  \n",
       "5        0.14275  0.02075  0.01650  0.01675  0.10750  0.01825  \n",
       "\n",
       "[5 rows x 1128 columns]"
      ]
     },
     "execution_count": 87,
     "metadata": {},
     "output_type": "execute_result"
    }
   ],
   "source": [
    "pivot_genome_scores.head()"
   ]
  },
  {
   "cell_type": "code",
   "execution_count": 88,
   "id": "d7392fc2",
   "metadata": {},
   "outputs": [
    {
     "data": {
      "text/plain": [
       "(10381, 1128)"
      ]
     },
     "execution_count": 88,
     "metadata": {},
     "output_type": "execute_result"
    }
   ],
   "source": [
    "pivot_genome_scores.shape"
   ]
  },
  {
   "cell_type": "code",
   "execution_count": 89,
   "id": "7b422de3",
   "metadata": {},
   "outputs": [],
   "source": [
    "pivot_genome_scores = pivot_genome_scores[pivot_genome_scores.index.isin(movies_in_rating)]"
   ]
  },
  {
   "cell_type": "code",
   "execution_count": 90,
   "id": "b8e762de",
   "metadata": {},
   "outputs": [
    {
     "data": {
      "text/plain": [
       "(4046, 1128)"
      ]
     },
     "execution_count": 90,
     "metadata": {},
     "output_type": "execute_result"
    }
   ],
   "source": [
    "pivot_genome_scores.shape"
   ]
  },
  {
   "cell_type": "code",
   "execution_count": 91,
   "id": "4ae284e7",
   "metadata": {},
   "outputs": [],
   "source": [
    "def cosine(s1, s2):\n",
    "    \"\"\"Take two pd.Series objects and return their cosine similarity.\"\"\"\n",
    "    return np.sum(s1 * s2) / np.sqrt(np.sum(s1 ** 2) * np.sum(s2 ** 2))"
   ]
  },
  {
   "cell_type": "code",
   "execution_count": 92,
   "id": "693fb672",
   "metadata": {},
   "outputs": [],
   "source": [
    "def find_sim_movie(movie_id, movies):\n",
    "    max_sim = 0.0\n",
    "    sim_movie = 0\n",
    "    for i in movies:\n",
    "        if movie_id != i:\n",
    "            if i in pivot_genome_scores.index:\n",
    "                sim = cosine(pivot_genome_scores.loc[movie_id,:], pivot_genome_scores.loc[i,:])\n",
    "                if max_sim < sim:\n",
    "                    max_sim = sim\n",
    "                    sim_movie = i\n",
    "    return sim_movie, max_sim\n",
    "                "
   ]
  },
  {
   "cell_type": "code",
   "execution_count": 97,
   "id": "2a27e8b4",
   "metadata": {},
   "outputs": [],
   "source": [
    "def content_based_filtering(user_id, movie_id):\n",
    "    movie_cond = movie_id in movies_in_train\n",
    "    user_cond = user_id in users_in_train\n",
    "#    print(user_id, movie_id)\n",
    "#    print(user_cond, movie_cond)\n",
    "    if movie_cond:\n",
    "        if user_cond:\n",
    "            movies_user_watched = train[train['userId']==user_id]['movieId'].values\n",
    " #           print('movies_user_watched', movies_user_watched)\n",
    "            if movie_id in pivot_genome_scores.index:\n",
    "                sim_movie, max_sim = find_sim_movie(movie_id, movies_user_watched)\n",
    " #           print('sim_movie', sim_movie, 'max_sim', max_sim)\n",
    "                if (max_sim>0.85):  # if maximum similarity is great enough\n",
    "                    return train[(train['userId']==user_id)&(train['movieId']==sim_movie)]['rating'].values[0]\n",
    "                else:  # if the corr is small\n",
    "                    mean_movie = train[train['movieId']==movie_id]['rating'].mean()  # movie average rating from train data\n",
    "                    mean_user = train[train['userId']==user_id]['rating'].mean() # user average rating from train data\n",
    "                    return mean_movie*0.55 + mean_user*0.45  \n",
    "            else:\n",
    "                return train[train['movieId']==movie_id]['rating'].mean()\n",
    "        \n",
    "        else:\n",
    "            return train[train['movieId']==movie_id]['rating'].mean()\n",
    "    elif user_cond:\n",
    "        return train[train['userId']==user_id]['rating'].mean()\n",
    "    else:\n",
    "        return 3.5"
   ]
  },
  {
   "cell_type": "code",
   "execution_count": 94,
   "id": "b1ab7c05",
   "metadata": {},
   "outputs": [
    {
     "data": {
      "text/html": [
       "<div>\n",
       "<style scoped>\n",
       "    .dataframe tbody tr th:only-of-type {\n",
       "        vertical-align: middle;\n",
       "    }\n",
       "\n",
       "    .dataframe tbody tr th {\n",
       "        vertical-align: top;\n",
       "    }\n",
       "\n",
       "    .dataframe thead th {\n",
       "        text-align: right;\n",
       "    }\n",
       "</style>\n",
       "<table border=\"1\" class=\"dataframe\">\n",
       "  <thead>\n",
       "    <tr style=\"text-align: right;\">\n",
       "      <th></th>\n",
       "      <th>userId</th>\n",
       "      <th>movieId</th>\n",
       "      <th>rating</th>\n",
       "      <th>title</th>\n",
       "      <th>genres</th>\n",
       "    </tr>\n",
       "  </thead>\n",
       "  <tbody>\n",
       "    <tr>\n",
       "      <th>481863</th>\n",
       "      <td>85479</td>\n",
       "      <td>1961</td>\n",
       "      <td>3.0</td>\n",
       "      <td>Rain Man (1988)</td>\n",
       "      <td>Drama</td>\n",
       "    </tr>\n",
       "    <tr>\n",
       "      <th>481864</th>\n",
       "      <td>16606</td>\n",
       "      <td>3147</td>\n",
       "      <td>5.0</td>\n",
       "      <td>Green Mile, The (1999)</td>\n",
       "      <td>Crime|Drama</td>\n",
       "    </tr>\n",
       "    <tr>\n",
       "      <th>481865</th>\n",
       "      <td>26087</td>\n",
       "      <td>2791</td>\n",
       "      <td>3.5</td>\n",
       "      <td>Airplane! (1980)</td>\n",
       "      <td>Comedy</td>\n",
       "    </tr>\n",
       "    <tr>\n",
       "      <th>481866</th>\n",
       "      <td>9406</td>\n",
       "      <td>2335</td>\n",
       "      <td>3.5</td>\n",
       "      <td>Waterboy, The (1998)</td>\n",
       "      <td>Comedy</td>\n",
       "    </tr>\n",
       "    <tr>\n",
       "      <th>481867</th>\n",
       "      <td>113073</td>\n",
       "      <td>69757</td>\n",
       "      <td>4.0</td>\n",
       "      <td>(500) Days of Summer (2009)</td>\n",
       "      <td>Comedy|Drama|Romance</td>\n",
       "    </tr>\n",
       "  </tbody>\n",
       "</table>\n",
       "</div>"
      ],
      "text/plain": [
       "        userId  movieId  rating                        title  \\\n",
       "481863   85479     1961     3.0              Rain Man (1988)   \n",
       "481864   16606     3147     5.0       Green Mile, The (1999)   \n",
       "481865   26087     2791     3.5             Airplane! (1980)   \n",
       "481866    9406     2335     3.5         Waterboy, The (1998)   \n",
       "481867  113073    69757     4.0  (500) Days of Summer (2009)   \n",
       "\n",
       "                      genres  \n",
       "481863                 Drama  \n",
       "481864           Crime|Drama  \n",
       "481865                Comedy  \n",
       "481866                Comedy  \n",
       "481867  Comedy|Drama|Romance  "
      ]
     },
     "execution_count": 94,
     "metadata": {},
     "output_type": "execute_result"
    }
   ],
   "source": [
    "test.head()"
   ]
  },
  {
   "cell_type": "code",
   "execution_count": 98,
   "id": "f1ad02df",
   "metadata": {},
   "outputs": [
    {
     "name": "stdout",
     "output_type": "stream",
     "text": [
      "i= 0  total len= 53541\n",
      "i= 1000  total len= 53541\n",
      "i= 2000  total len= 53541\n",
      "i= 3000  total len= 53541\n",
      "i= 4000  total len= 53541\n",
      "i= 5000  total len= 53541\n",
      "i= 6000  total len= 53541\n",
      "i= 7000  total len= 53541\n",
      "i= 8000  total len= 53541\n",
      "i= 9000  total len= 53541\n",
      "i= 10000  total len= 53541\n",
      "i= 11000  total len= 53541\n",
      "i= 12000  total len= 53541\n",
      "i= 13000  total len= 53541\n",
      "i= 14000  total len= 53541\n",
      "i= 15000  total len= 53541\n",
      "i= 16000  total len= 53541\n",
      "i= 17000  total len= 53541\n",
      "i= 18000  total len= 53541\n",
      "i= 19000  total len= 53541\n",
      "i= 20000  total len= 53541\n",
      "i= 21000  total len= 53541\n",
      "i= 22000  total len= 53541\n",
      "i= 23000  total len= 53541\n",
      "i= 24000  total len= 53541\n",
      "i= 25000  total len= 53541\n",
      "i= 26000  total len= 53541\n",
      "i= 27000  total len= 53541\n",
      "i= 28000  total len= 53541\n",
      "i= 29000  total len= 53541\n",
      "i= 30000  total len= 53541\n",
      "i= 31000  total len= 53541\n",
      "i= 32000  total len= 53541\n",
      "i= 33000  total len= 53541\n",
      "i= 34000  total len= 53541\n",
      "i= 35000  total len= 53541\n",
      "i= 36000  total len= 53541\n",
      "i= 37000  total len= 53541\n",
      "i= 38000  total len= 53541\n",
      "i= 39000  total len= 53541\n",
      "i= 40000  total len= 53541\n",
      "i= 41000  total len= 53541\n",
      "i= 42000  total len= 53541\n",
      "i= 43000  total len= 53541\n",
      "i= 44000  total len= 53541\n",
      "i= 45000  total len= 53541\n",
      "i= 46000  total len= 53541\n",
      "i= 47000  total len= 53541\n",
      "i= 48000  total len= 53541\n",
      "i= 49000  total len= 53541\n",
      "i= 50000  total len= 53541\n",
      "i= 51000  total len= 53541\n",
      "i= 52000  total len= 53541\n",
      "i= 53000  total len= 53541\n"
     ]
    }
   ],
   "source": [
    "rmse_cbf =  evaluate(content_based_filtering)"
   ]
  },
  {
   "cell_type": "code",
   "execution_count": 99,
   "id": "cf7b3563",
   "metadata": {},
   "outputs": [
    {
     "name": "stdout",
     "output_type": "stream",
     "text": [
      "RMSE for content based filtering is: 0.9767282008346105\n"
     ]
    }
   ],
   "source": [
    "print ('RMSE for content based filtering is:', rmse_cbf)"
   ]
  },
  {
   "cell_type": "markdown",
   "id": "4d4d9e5f",
   "metadata": {},
   "source": [
    "Let's compare the two collaborative filtering and the content based filtering with our mean combination model."
   ]
  },
  {
   "cell_type": "code",
   "execution_count": 100,
   "id": "6ed6649e",
   "metadata": {},
   "outputs": [
    {
     "data": {
      "image/png": "[encoded data removed]",
      "text/plain": [
       "<Figure size 432x288 with 1 Axes>"
      ]
     },
     "metadata": {
      "needs_background": "light"
     },
     "output_type": "display_data"
    }
   ],
   "source": [
    "models = ['MeanComb','UserBasedCollab', 'ItemBasedCollab','ContentBasedFltrng']\n",
    "rmses = [rmse_mc, rmse_ubc, rmse_ibc, rmse_cbf]\n",
    "colors = ['r','g', 'b']\n",
    "plt.bar(models, rmses, color=colors)\n",
    "plt.ylim(0.8, 1.0)\n",
    "plt.grid(True)\n",
    "plt.ylabel('RMSE')\n",
    "plt.title('Comparasion of RMSE among 4 Models')\n",
    "plt.xticks(rotation=90)\n",
    "plt.show()"
   ]
  },
  {
   "cell_type": "markdown",
   "id": "da5387c6",
   "metadata": {},
   "source": [
    "We can see that the two collaborative filtering gives similar results as the mean combination model. But the content based filtering gives a much worse performance. \n",
    "\n",
    "So We will stop using those models. Instead, we will use the SVD++ model from Surprise in our further steps."
   ]
  }
 ],
 "metadata": {
  "kernelspec": {
   "display_name": "Python 3 (ipykernel)",
   "language": "python",
   "name": "python3"
  },
  "language_info": {
   "codemirror_mode": {
    "name": "ipython",
    "version": 3
   },
   "file_extension": ".py",
   "mimetype": "text/x-python",
   "name": "python",
   "nbconvert_exporter": "python",
   "pygments_lexer": "ipython3",
   "version": "3.9.7"
  }
 },
 "nbformat": 4,
 "nbformat_minor": 5
}
